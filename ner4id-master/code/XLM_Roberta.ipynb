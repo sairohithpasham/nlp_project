{
  "cells": [
    {
      "cell_type": "markdown",
      "metadata": {
        "id": "otNnz5AWLq3W"
      },
      "source": [
        "# NER4ID at SemEval-2022 Task 2: Named Entity Recognition for Idiomaticity Detection\n",
        "----------------------------------------------------------------------------------------------------"
      ]
    },
    {
      "cell_type": "code",
      "source": [
        "!git clone https://github.com/babelscape/ner4id"
      ],
      "metadata": {
        "id": "tu0EDLAOM1Wj",
        "outputId": "7d151ab2-24e7-43ea-aa74-9b3d7b729777",
        "colab": {
          "base_uri": "https://localhost:8080/"
        }
      },
      "execution_count": null,
      "outputs": [
        {
          "output_type": "stream",
          "name": "stdout",
          "text": [
            "Cloning into 'ner4id'...\n",
            "remote: Enumerating objects: 56, done.\u001b[K\n",
            "remote: Counting objects: 100% (56/56), done.\u001b[K\n",
            "remote: Compressing objects: 100% (43/43), done.\u001b[K\n",
            "remote: Total 56 (delta 20), reused 41 (delta 10), pack-reused 0\u001b[K\n",
            "Unpacking objects: 100% (56/56), 1.58 MiB | 2.99 MiB/s, done.\n"
          ]
        }
      ]
    },
    {
      "cell_type": "markdown",
      "metadata": {
        "id": "DhHoi-8LLq3Y"
      },
      "source": [
        "## Dependencies"
      ]
    },
    {
      "cell_type": "code",
      "execution_count": null,
      "metadata": {
        "id": "xzZNVo0Bjn0t",
        "outputId": "4b17f28a-70ff-4f9a-b3fc-359932533bdd",
        "colab": {
          "base_uri": "https://localhost:8080/"
        }
      },
      "outputs": [
        {
          "output_type": "stream",
          "name": "stdout",
          "text": [
            "Looking in indexes: https://pypi.org/simple, https://us-python.pkg.dev/colab-wheels/public/simple/\n",
            "Collecting transformers\n",
            "  Downloading transformers-4.28.1-py3-none-any.whl (7.0 MB)\n",
            "\u001b[2K     \u001b[90m━━━━━━━━━━━━━━━━━━━━━━━━━━━━━━━━━━━━━━━━\u001b[0m \u001b[32m7.0/7.0 MB\u001b[0m \u001b[31m20.3 MB/s\u001b[0m eta \u001b[36m0:00:00\u001b[0m\n",
            "\u001b[?25hRequirement already satisfied: filelock in /usr/local/lib/python3.10/dist-packages (from transformers) (3.12.0)\n",
            "Collecting huggingface-hub<1.0,>=0.11.0 (from transformers)\n",
            "  Downloading huggingface_hub-0.14.1-py3-none-any.whl (224 kB)\n",
            "\u001b[2K     \u001b[90m━━━━━━━━━━━━━━━━━━━━━━━━━━━━━━━━━━━━━━\u001b[0m \u001b[32m224.5/224.5 kB\u001b[0m \u001b[31m12.5 MB/s\u001b[0m eta \u001b[36m0:00:00\u001b[0m\n",
            "\u001b[?25hRequirement already satisfied: numpy>=1.17 in /usr/local/lib/python3.10/dist-packages (from transformers) (1.22.4)\n",
            "Requirement already satisfied: packaging>=20.0 in /usr/local/lib/python3.10/dist-packages (from transformers) (23.1)\n",
            "Requirement already satisfied: pyyaml>=5.1 in /usr/local/lib/python3.10/dist-packages (from transformers) (6.0)\n",
            "Requirement already satisfied: regex!=2019.12.17 in /usr/local/lib/python3.10/dist-packages (from transformers) (2022.10.31)\n",
            "Requirement already satisfied: requests in /usr/local/lib/python3.10/dist-packages (from transformers) (2.27.1)\n",
            "Collecting tokenizers!=0.11.3,<0.14,>=0.11.1 (from transformers)\n",
            "  Downloading tokenizers-0.13.3-cp310-cp310-manylinux_2_17_x86_64.manylinux2014_x86_64.whl (7.8 MB)\n",
            "\u001b[2K     \u001b[90m━━━━━━━━━━━━━━━━━━━━━━━━━━━━━━━━━━━━━━━━\u001b[0m \u001b[32m7.8/7.8 MB\u001b[0m \u001b[31m21.5 MB/s\u001b[0m eta \u001b[36m0:00:00\u001b[0m\n",
            "\u001b[?25hRequirement already satisfied: tqdm>=4.27 in /usr/local/lib/python3.10/dist-packages (from transformers) (4.65.0)\n",
            "Requirement already satisfied: fsspec in /usr/local/lib/python3.10/dist-packages (from huggingface-hub<1.0,>=0.11.0->transformers) (2023.4.0)\n",
            "Requirement already satisfied: typing-extensions>=3.7.4.3 in /usr/local/lib/python3.10/dist-packages (from huggingface-hub<1.0,>=0.11.0->transformers) (4.5.0)\n",
            "Requirement already satisfied: urllib3<1.27,>=1.21.1 in /usr/local/lib/python3.10/dist-packages (from requests->transformers) (1.26.15)\n",
            "Requirement already satisfied: certifi>=2017.4.17 in /usr/local/lib/python3.10/dist-packages (from requests->transformers) (2022.12.7)\n",
            "Requirement already satisfied: charset-normalizer~=2.0.0 in /usr/local/lib/python3.10/dist-packages (from requests->transformers) (2.0.12)\n",
            "Requirement already satisfied: idna<4,>=2.5 in /usr/local/lib/python3.10/dist-packages (from requests->transformers) (3.4)\n",
            "Installing collected packages: tokenizers, huggingface-hub, transformers\n",
            "Successfully installed huggingface-hub-0.14.1 tokenizers-0.13.3 transformers-4.28.1\n",
            "Looking in indexes: https://pypi.org/simple, https://us-python.pkg.dev/colab-wheels/public/simple/\n",
            "Requirement already satisfied: scikit-learn in /usr/local/lib/python3.10/dist-packages (1.2.2)\n",
            "Requirement already satisfied: numpy>=1.17.3 in /usr/local/lib/python3.10/dist-packages (from scikit-learn) (1.22.4)\n",
            "Requirement already satisfied: scipy>=1.3.2 in /usr/local/lib/python3.10/dist-packages (from scikit-learn) (1.10.1)\n",
            "Requirement already satisfied: joblib>=1.1.1 in /usr/local/lib/python3.10/dist-packages (from scikit-learn) (1.2.0)\n",
            "Requirement already satisfied: threadpoolctl>=2.0.0 in /usr/local/lib/python3.10/dist-packages (from scikit-learn) (3.1.0)\n"
          ]
        }
      ],
      "source": [
        "! pip install transformers\n",
        "! pip install scikit-learn"
      ]
    },
    {
      "cell_type": "code",
      "source": [
        "!pip install sentencepiece"
      ],
      "metadata": {
        "id": "Wcvjhslx4zkg",
        "outputId": "a688d64c-b413-49cc-c1a0-755c0c3d6340",
        "colab": {
          "base_uri": "https://localhost:8080/"
        }
      },
      "execution_count": null,
      "outputs": [
        {
          "output_type": "stream",
          "name": "stdout",
          "text": [
            "Looking in indexes: https://pypi.org/simple, https://us-python.pkg.dev/colab-wheels/public/simple/\n",
            "Collecting sentencepiece\n",
            "  Downloading sentencepiece-0.1.99-cp310-cp310-manylinux_2_17_x86_64.manylinux2014_x86_64.whl (1.3 MB)\n",
            "\u001b[2K     \u001b[90m━━━━━━━━━━━━━━━━━━━━━━━━━━━━━━━━━━━━━━━━\u001b[0m \u001b[32m1.3/1.3 MB\u001b[0m \u001b[31m19.0 MB/s\u001b[0m eta \u001b[36m0:00:00\u001b[0m\n",
            "\u001b[?25hInstalling collected packages: sentencepiece\n",
            "Successfully installed sentencepiece-0.1.99\n"
          ]
        }
      ]
    },
    {
      "cell_type": "code",
      "execution_count": null,
      "metadata": {
        "id": "0q_SRDCMmrNk"
      },
      "outputs": [],
      "source": [
        "import os\n",
        "\n",
        "from tqdm import tqdm\n",
        "\n",
        "import torch\n",
        "from torch import nn\n",
        "from torch.utils.data import Dataset\n",
        "from torch.utils.data.dataloader import DataLoader\n",
        "from torch.nn.utils.rnn import pad_sequence\n",
        "import torch.optim as optim\n",
        " \n",
        "from pprint import pprint\n",
        "import random\n",
        "import numpy as np\n",
        "\n",
        "from sklearn.metrics import classification_report\n",
        "from sklearn.metrics import f1_score\n",
        "\n",
        "from transformers import BertTokenizer, BertModel, BertConfig\n",
        "from transformers import XLMRobertaTokenizer, XLMRobertaForSequenceClassification"
      ]
    },
    {
      "cell_type": "code",
      "execution_count": null,
      "metadata": {
        "id": "M-ybIBmlLq3d"
      },
      "outputs": [],
      "source": [
        "os.chdir(\"../\")"
      ]
    },
    {
      "cell_type": "code",
      "execution_count": null,
      "metadata": {
        "id": "Q5rzN_LXmy3B",
        "outputId": "b4752dd0-b047-4b7e-8b61-a90b578657e0",
        "colab": {
          "base_uri": "https://localhost:8080/",
          "height": 53
        }
      },
      "outputs": [
        {
          "output_type": "stream",
          "name": "stdout",
          "text": [
            "2.0.0+cu118\n"
          ]
        },
        {
          "output_type": "execute_result",
          "data": {
            "text/plain": [
              "'Tesla T4'"
            ],
            "application/vnd.google.colaboratory.intrinsic+json": {
              "type": "string"
            }
          },
          "metadata": {},
          "execution_count": 5
        }
      ],
      "source": [
        "print(torch.__version__)\n",
        "torch.cuda.current_device()\n",
        "torch.cuda.get_device_name(0)"
      ]
    },
    {
      "cell_type": "markdown",
      "metadata": {
        "id": "q_n--BTtLq3e"
      },
      "source": [
        "## Read Data"
      ]
    },
    {
      "cell_type": "code",
      "execution_count": null,
      "metadata": {
        "id": "KZjxrflHLq3e",
        "outputId": "3de4accd-287f-4a10-855a-214f4c6c9cb7",
        "colab": {
          "base_uri": "https://localhost:8080/"
        }
      },
      "outputs": [
        {
          "name": "stdout",
          "output_type": "stream",
          "text": [
            "Do you want to train a model from scratch or do you want to evaluate a pretrained model? Possible answers: ['train', 'eval']\n",
            "> train\n",
            "\n",
            "In which setting do you want to train/evaluate your model? Possible answers: ['zero-shot', 'one-shot']\n",
            ">zero-shot\n"
          ]
        }
      ],
      "source": [
        "mode = input(\"Do you want to train a model from scratch or do you want to evaluate a pretrained model? Possible answers: ['train', 'eval']\\n> \")\n",
        "assert mode in ['train', 'eval']\n",
        "\n",
        "setting = input(\"\\nIn which setting do you want to train/evaluate your model? Possible answers: ['zero-shot', 'one-shot']\\n>\")\n",
        "assert setting in ['zero-shot', 'one-shot']"
      ]
    },
    {
      "cell_type": "code",
      "execution_count": null,
      "metadata": {
        "id": "1CBHdcuhnXBn"
      },
      "outputs": [],
      "source": [
        "train_file_zero_shot = \"/content/ner4id/data/train_zero_shot.csv\" \n",
        "train_file_one_shot = \"/content/ner4id/data/train_one_shot.csv\"\n",
        "\n",
        "dev_file = \"/content/ner4id/data/dev.csv\"\n",
        "dev_file_gold = \"/content/ner4id/data/dev_gold.csv\"\n",
        "test_file = \"/content/ner4id/data/test.csv\""
      ]
    },
    {
      "cell_type": "code",
      "source": [
        "import locale\n",
        "def getpreferredencoding(do_setlocale = True):\n",
        "    return \"UTF-8\"\n",
        "locale.getpreferredencoding = getpreferredencoding"
      ],
      "metadata": {
        "id": "RLFxTNwGNo4N"
      },
      "execution_count": null,
      "outputs": []
    },
    {
      "cell_type": "code",
      "source": [
        "!python -m spacy download pt_core_news_sm"
      ],
      "metadata": {
        "id": "k5meTmcYOLI-",
        "outputId": "39e3fdfc-131b-452b-fc13-058e07e041c7",
        "colab": {
          "base_uri": "https://localhost:8080/"
        }
      },
      "execution_count": null,
      "outputs": [
        {
          "output_type": "stream",
          "name": "stdout",
          "text": [
            "2023-05-09 23:34:16.157183: W tensorflow/compiler/tf2tensorrt/utils/py_utils.cc:38] TF-TRT Warning: Could not find TensorRT\n",
            "Looking in indexes: https://pypi.org/simple, https://us-python.pkg.dev/colab-wheels/public/simple/\n",
            "Collecting pt-core-news-sm==3.5.0\n",
            "  Downloading https://github.com/explosion/spacy-models/releases/download/pt_core_news_sm-3.5.0/pt_core_news_sm-3.5.0-py3-none-any.whl (13.0 MB)\n",
            "\u001b[2K     \u001b[90m━━━━━━━━━━━━━━━━━━━━━━━━━━━━━━━━━━━━━━━━\u001b[0m \u001b[32m13.0/13.0 MB\u001b[0m \u001b[31m37.1 MB/s\u001b[0m eta \u001b[36m0:00:00\u001b[0m\n",
            "\u001b[?25hRequirement already satisfied: spacy<3.6.0,>=3.5.0 in /usr/local/lib/python3.10/dist-packages (from pt-core-news-sm==3.5.0) (3.5.2)\n",
            "Requirement already satisfied: spacy-legacy<3.1.0,>=3.0.11 in /usr/local/lib/python3.10/dist-packages (from spacy<3.6.0,>=3.5.0->pt-core-news-sm==3.5.0) (3.0.12)\n",
            "Requirement already satisfied: spacy-loggers<2.0.0,>=1.0.0 in /usr/local/lib/python3.10/dist-packages (from spacy<3.6.0,>=3.5.0->pt-core-news-sm==3.5.0) (1.0.4)\n",
            "Requirement already satisfied: murmurhash<1.1.0,>=0.28.0 in /usr/local/lib/python3.10/dist-packages (from spacy<3.6.0,>=3.5.0->pt-core-news-sm==3.5.0) (1.0.9)\n",
            "Requirement already satisfied: cymem<2.1.0,>=2.0.2 in /usr/local/lib/python3.10/dist-packages (from spacy<3.6.0,>=3.5.0->pt-core-news-sm==3.5.0) (2.0.7)\n",
            "Requirement already satisfied: preshed<3.1.0,>=3.0.2 in /usr/local/lib/python3.10/dist-packages (from spacy<3.6.0,>=3.5.0->pt-core-news-sm==3.5.0) (3.0.8)\n",
            "Requirement already satisfied: thinc<8.2.0,>=8.1.8 in /usr/local/lib/python3.10/dist-packages (from spacy<3.6.0,>=3.5.0->pt-core-news-sm==3.5.0) (8.1.9)\n",
            "Requirement already satisfied: wasabi<1.2.0,>=0.9.1 in /usr/local/lib/python3.10/dist-packages (from spacy<3.6.0,>=3.5.0->pt-core-news-sm==3.5.0) (1.1.1)\n",
            "Requirement already satisfied: srsly<3.0.0,>=2.4.3 in /usr/local/lib/python3.10/dist-packages (from spacy<3.6.0,>=3.5.0->pt-core-news-sm==3.5.0) (2.4.6)\n",
            "Requirement already satisfied: catalogue<2.1.0,>=2.0.6 in /usr/local/lib/python3.10/dist-packages (from spacy<3.6.0,>=3.5.0->pt-core-news-sm==3.5.0) (2.0.8)\n",
            "Requirement already satisfied: typer<0.8.0,>=0.3.0 in /usr/local/lib/python3.10/dist-packages (from spacy<3.6.0,>=3.5.0->pt-core-news-sm==3.5.0) (0.7.0)\n",
            "Requirement already satisfied: pathy>=0.10.0 in /usr/local/lib/python3.10/dist-packages (from spacy<3.6.0,>=3.5.0->pt-core-news-sm==3.5.0) (0.10.1)\n",
            "Requirement already satisfied: smart-open<7.0.0,>=5.2.1 in /usr/local/lib/python3.10/dist-packages (from spacy<3.6.0,>=3.5.0->pt-core-news-sm==3.5.0) (6.3.0)\n",
            "Requirement already satisfied: tqdm<5.0.0,>=4.38.0 in /usr/local/lib/python3.10/dist-packages (from spacy<3.6.0,>=3.5.0->pt-core-news-sm==3.5.0) (4.65.0)\n",
            "Requirement already satisfied: numpy>=1.15.0 in /usr/local/lib/python3.10/dist-packages (from spacy<3.6.0,>=3.5.0->pt-core-news-sm==3.5.0) (1.22.4)\n",
            "Requirement already satisfied: requests<3.0.0,>=2.13.0 in /usr/local/lib/python3.10/dist-packages (from spacy<3.6.0,>=3.5.0->pt-core-news-sm==3.5.0) (2.27.1)\n",
            "Requirement already satisfied: pydantic!=1.8,!=1.8.1,<1.11.0,>=1.7.4 in /usr/local/lib/python3.10/dist-packages (from spacy<3.6.0,>=3.5.0->pt-core-news-sm==3.5.0) (1.10.7)\n",
            "Requirement already satisfied: jinja2 in /usr/local/lib/python3.10/dist-packages (from spacy<3.6.0,>=3.5.0->pt-core-news-sm==3.5.0) (3.1.2)\n",
            "Requirement already satisfied: setuptools in /usr/local/lib/python3.10/dist-packages (from spacy<3.6.0,>=3.5.0->pt-core-news-sm==3.5.0) (67.7.2)\n",
            "Requirement already satisfied: packaging>=20.0 in /usr/local/lib/python3.10/dist-packages (from spacy<3.6.0,>=3.5.0->pt-core-news-sm==3.5.0) (23.1)\n",
            "Requirement already satisfied: langcodes<4.0.0,>=3.2.0 in /usr/local/lib/python3.10/dist-packages (from spacy<3.6.0,>=3.5.0->pt-core-news-sm==3.5.0) (3.3.0)\n",
            "Requirement already satisfied: typing-extensions>=4.2.0 in /usr/local/lib/python3.10/dist-packages (from pydantic!=1.8,!=1.8.1,<1.11.0,>=1.7.4->spacy<3.6.0,>=3.5.0->pt-core-news-sm==3.5.0) (4.5.0)\n",
            "Requirement already satisfied: urllib3<1.27,>=1.21.1 in /usr/local/lib/python3.10/dist-packages (from requests<3.0.0,>=2.13.0->spacy<3.6.0,>=3.5.0->pt-core-news-sm==3.5.0) (1.26.15)\n",
            "Requirement already satisfied: certifi>=2017.4.17 in /usr/local/lib/python3.10/dist-packages (from requests<3.0.0,>=2.13.0->spacy<3.6.0,>=3.5.0->pt-core-news-sm==3.5.0) (2022.12.7)\n",
            "Requirement already satisfied: charset-normalizer~=2.0.0 in /usr/local/lib/python3.10/dist-packages (from requests<3.0.0,>=2.13.0->spacy<3.6.0,>=3.5.0->pt-core-news-sm==3.5.0) (2.0.12)\n",
            "Requirement already satisfied: idna<4,>=2.5 in /usr/local/lib/python3.10/dist-packages (from requests<3.0.0,>=2.13.0->spacy<3.6.0,>=3.5.0->pt-core-news-sm==3.5.0) (3.4)\n",
            "Requirement already satisfied: blis<0.8.0,>=0.7.8 in /usr/local/lib/python3.10/dist-packages (from thinc<8.2.0,>=8.1.8->spacy<3.6.0,>=3.5.0->pt-core-news-sm==3.5.0) (0.7.9)\n",
            "Requirement already satisfied: confection<1.0.0,>=0.0.1 in /usr/local/lib/python3.10/dist-packages (from thinc<8.2.0,>=8.1.8->spacy<3.6.0,>=3.5.0->pt-core-news-sm==3.5.0) (0.0.4)\n",
            "Requirement already satisfied: click<9.0.0,>=7.1.1 in /usr/local/lib/python3.10/dist-packages (from typer<0.8.0,>=0.3.0->spacy<3.6.0,>=3.5.0->pt-core-news-sm==3.5.0) (8.1.3)\n",
            "Requirement already satisfied: MarkupSafe>=2.0 in /usr/local/lib/python3.10/dist-packages (from jinja2->spacy<3.6.0,>=3.5.0->pt-core-news-sm==3.5.0) (2.1.2)\n",
            "Installing collected packages: pt-core-news-sm\n",
            "Successfully installed pt-core-news-sm-3.5.0\n",
            "\u001b[38;5;2m✔ Download and installation successful\u001b[0m\n",
            "You can now load the package via spacy.load('pt_core_news_sm')\n"
          ]
        }
      ]
    },
    {
      "cell_type": "code",
      "execution_count": null,
      "metadata": {
        "id": "DhxWcT1gGnuB",
        "outputId": "9a8dce2e-e4de-4e8d-c297-421bbc7182e0",
        "colab": {
          "base_uri": "https://localhost:8080/"
        }
      },
      "outputs": [
        {
          "output_type": "stream",
          "name": "stdout",
          "text": [
            "\u001b[38;5;2m✔ Download and installation successful\u001b[0m\n",
            "You can now load the package via spacy.load('en_core_web_sm')\n",
            "\u001b[38;5;2m✔ Download and installation successful\u001b[0m\n",
            "You can now load the package via spacy.load('pt_core_news_sm')\n"
          ]
        }
      ],
      "source": [
        "import spacy\n",
        "import en_core_web_sm\n",
        "import pt_core_news_sm\n",
        "from spacy.cli.download import download as spacy_download\n",
        "\n",
        "spacy_download(\"en_core_web_sm\")\n",
        "spacy_tagger_en = spacy.load(\"en_core_web_sm\", exclude=[\"ner\", \"parser\"])\n",
        "\n",
        "spacy_download(\"pt_core_news_sm\")\n",
        "spacy_tagger_pt = spacy.load(\"pt_core_news_sm\", exclude=[\"ner\", \"parser\"])"
      ]
    },
    {
      "cell_type": "code",
      "execution_count": null,
      "metadata": {
        "id": "OJ4tYxBaoUhl",
        "outputId": "20b20e7f-ace6-4f3c-bcf4-71c9fc05bb88",
        "colab": {
          "base_uri": "https://localhost:8080/"
        }
      },
      "outputs": [
        {
          "output_type": "stream",
          "name": "stderr",
          "text": [
            "4492it [00:00, 64919.52it/s]"
          ]
        },
        {
          "output_type": "stream",
          "name": "stdout",
          "text": [
            "4492\n"
          ]
        },
        {
          "output_type": "stream",
          "name": "stderr",
          "text": [
            "\n"
          ]
        }
      ],
      "source": [
        "import csv\n",
        "\n",
        "train_data = {}\n",
        "idx = 0\n",
        "\n",
        "predictions = []\n",
        "labels = []\n",
        "\n",
        "if setting==\"zero-shot\":\n",
        "    with open(train_file_zero_shot, newline='', encoding='utf-8') as csvfile:\n",
        "        reader = csv.reader(csvfile, delimiter=',')\n",
        "        for row in tqdm(reader):\n",
        "            \n",
        "            if len((row[4].strip() + row[5].strip() + row[6].strip()).split(\" \")) < 300:\n",
        "                text = row[4].strip()+ \" \" + row[5].strip()+ \" \" + row[6].strip()\n",
        "            elif len((row[4].strip() + row[5].strip()).split(\" \")) < 300:\n",
        "                text = row[4].strip()+ \" \" + row[5].strip()\n",
        "            else:\n",
        "                text = row[5].strip()\n",
        "                \n",
        "            e = row[2].strip()\n",
        "\n",
        "            train_data[idx] = {\n",
        "                                \"id\": row[0],\n",
        "                                \"lang\": row[1],\n",
        "                                \"expression\": e,\n",
        "                                \"text\": row[5].strip(),\n",
        "                                \"idiomatic\": True if row[7] == \"0\" else False\n",
        "                            }    \n",
        "            idx += 1\n",
        "\n",
        "\n",
        "if setting==\"one-shot\":\n",
        "    with open(train_file_one_shot, newline='', encoding='utf-8') as csvfile:\n",
        "        reader = csv.reader(csvfile, delimiter=',')\n",
        "        for row in tqdm(reader):\n",
        "            \n",
        "            if len((row[4].strip() + row[5].strip() + row[6].strip()).split(\" \")) < 300:\n",
        "                text = row[4].strip()+ \" \" + row[5].strip()+ \" \" + row[6].strip()\n",
        "            elif len((row[4].strip() + row[5].strip()).split(\" \")) < 300:\n",
        "                text = row[4].strip()+ \" \" + row[5].strip()\n",
        "            else:\n",
        "                text = row[5].strip()\n",
        "                \n",
        "            e = row[2].strip()\n",
        "                        \n",
        "            train_data[idx] = {\n",
        "                                \"id\": row[0],\n",
        "                                \"lang\": row[1],\n",
        "                                \"expression\": e,\n",
        "                                \"text\": row[5].strip(),\n",
        "                                \"idiomatic\": True if row[7] == \"0\" else False\n",
        "                            }    \n",
        "            idx += 1\n",
        "\n",
        "print(len(train_data)) "
      ]
    },
    {
      "cell_type": "code",
      "execution_count": null,
      "metadata": {
        "id": "Q2kWaYAsyaS9",
        "outputId": "9be0e880-2c57-4806-9c48-464505100868",
        "colab": {
          "base_uri": "https://localhost:8080/"
        }
      },
      "outputs": [
        {
          "output_type": "stream",
          "name": "stdout",
          "text": [
            "740\n"
          ]
        }
      ],
      "source": [
        "labels_dev = {}\n",
        "\n",
        "with open(dev_file_gold, newline='',encoding='utf-8') as csvfile:\n",
        "    reader = csv.reader(csvfile, delimiter=',')\n",
        "    for row in reader:\n",
        "        labels_dev[row[0]] = True if row[3] == \"0\" else False\n",
        "\n",
        "dev_data = {}\n",
        "idx = 0\n",
        "\n",
        "with open(dev_file, newline='',encoding='utf-8') as csvfile:\n",
        "    reader = csv.reader(csvfile, delimiter=',')\n",
        "    for row in reader:\n",
        "\n",
        "        if len((row[3].strip() + row[4].strip() + row[5].strip()).split(\" \")) < 300:\n",
        "            text = row[3].strip() + \" \" + row[4].strip()+ \" \" + row[5].strip()\n",
        "        elif len((row[3].strip() + row[4].strip()).split(\" \")) < 300:\n",
        "            text = row[3].strip()+ \" \" + row[4].strip()\n",
        "        else:\n",
        "            text = row[4].strip()\n",
        "        \n",
        "        e = row[2].strip()\n",
        "                \n",
        "        \n",
        "        dev_data[idx] = {\n",
        "                        \"id\": row[0],\n",
        "                        \"lang\": row[1],\n",
        "                        \"expression\": e,\n",
        "                        \"text\": row[4].strip(),\n",
        "                        \"idiomatic\": labels_dev[row[0]]\n",
        "                        }\n",
        "                \n",
        "        idx += 1\n",
        "        \n",
        "    \n",
        "print(len(dev_data)) "
      ]
    },
    {
      "cell_type": "code",
      "execution_count": null,
      "metadata": {
        "id": "HRkJ9jo7Lq3h",
        "outputId": "fa23001f-9f56-4001-97d2-c4146ce13d47",
        "colab": {
          "base_uri": "https://localhost:8080/"
        }
      },
      "outputs": [
        {
          "output_type": "stream",
          "name": "stdout",
          "text": [
            "2343\n"
          ]
        }
      ],
      "source": [
        "test_data = {}\n",
        "idx = 0\n",
        "\n",
        "with open(test_file, newline='', encoding='utf-8') as csvfile:\n",
        "    reader = csv.reader(csvfile, delimiter=',')\n",
        "    for row in reader:\n",
        "\n",
        "        if len((row[3].strip() + row[4].strip() + row[5].strip()).split(\" \")) < 300:\n",
        "            text = row[3].strip()+ \" \" + row[4].strip()+ \" \" + row[5].strip()\n",
        "        elif len((row[3].strip() + row[4].strip()).split(\" \")) < 300:\n",
        "            text = row[3].strip()+ \" \" + row[4].strip()\n",
        "        else:\n",
        "            text = row[4].strip()\n",
        "        \n",
        "        e = row[2].strip()\n",
        "\n",
        "        test_data[idx] = {\n",
        "                            \"id\": row[0],\n",
        "                            \"lang\": row[1],\n",
        "                            \"expression\": e,\n",
        "                            \"text\": row[4].strip(),\n",
        "                            \"idiomatic\": True #it's just a FAKE label used to maintain the same structure of the dataset entries, \n",
        "                                              #it could be also False\n",
        "                        }\n",
        "                \n",
        "        idx += 1\n",
        "        \n",
        "    \n",
        "print(len(test_data)) "
      ]
    },
    {
      "cell_type": "markdown",
      "metadata": {
        "id": "4kHKPydPLq3i"
      },
      "source": [
        "## Fix Random Seed"
      ]
    },
    {
      "cell_type": "code",
      "execution_count": null,
      "metadata": {
        "id": "8v_-Re97pfxI"
      },
      "outputs": [],
      "source": [
        "SEED = 2 #we set a seed for having replicability of results\n",
        " \n",
        "random.seed(SEED)\n",
        "np.random.seed(SEED)\n",
        "torch.manual_seed(SEED)\n",
        "torch.backends.cudnn.deterministic = True"
      ]
    },
    {
      "cell_type": "markdown",
      "metadata": {
        "id": "PkXJlVW2Lq3i"
      },
      "source": [
        "## Load BERT Model"
      ]
    },
    {
      "cell_type": "code",
      "execution_count": null,
      "metadata": {
        "id": "fkTPuDGIpi30"
      },
      "outputs": [],
      "source": [
        "model_name = 'bert-base-multilingual-cased'\n",
        " \n",
        "bert_config = BertConfig.from_pretrained(model_name, output_hidden_states=True)\n",
        "bert_tokenizer = BertTokenizer.from_pretrained(model_name)\n",
        "bert_model = BertModel.from_pretrained(model_name, config=bert_config)"
      ]
    },
    {
      "cell_type": "code",
      "source": [
        "from transformers import AutoTokenizer, TFXLMRobertaForCausalLM\n",
        "import tensorflow as tf"
      ],
      "metadata": {
        "id": "KD_x4GI75Zb5"
      },
      "execution_count": null,
      "outputs": []
    },
    {
      "cell_type": "code",
      "source": [
        "tokenizer = AutoTokenizer.from_pretrained(\"xlm-roberta-base\")\n",
        "model = TFXLMRobertaForCausalLM.from_pretrained(\"xlm-roberta-base\")\n"
      ],
      "metadata": {
        "id": "Q_lYG5UE4Ica",
        "outputId": "26d113d6-22d9-4f65-8306-4d2362bd201e",
        "colab": {
          "base_uri": "https://localhost:8080/",
          "height": 232,
          "referenced_widgets": [
            "e7e39b2f25af41bbb49093f2b8ca8435",
            "45dd7214da834e7f9cc42a259525859e",
            "0bf6f9c7a9c348ca8417a5c9c0f5b886",
            "f1a4055043f3478384960a76b723b167",
            "93d38c70c27e4c6596ddf88562fe7f40",
            "194d9031752648798110a9b3857bb200",
            "3cd874e3db3b4813b5ee76800a02446e",
            "56a971855f204bd681104ffad0b515fb",
            "59d08b2a61df46ee89e2335176dd0397",
            "17b65f6a39bf490aae31f7191534e093",
            "aead876e93cd4aaf87293c4d8e90dc16",
            "59bdeae5474c4f628dab00f84ff4b3b1",
            "f9db3bec8adb4a1594b7a1a290a38ea7",
            "26b2c9c9de764102bcbfd9b5692b6783",
            "777f3035e05c4f1bb81cc3e72e7f7ff5",
            "c235a5a702d1434e978efa642da91f1d",
            "eee7d4cae437461293e3c5b6a79b8786",
            "e3bd5f00f68d4ab596f81cc00601be96",
            "469b2337bf5e46469a4f3bdc765c4416",
            "b81888cf05b84f2490e42f4776ab39e3",
            "6b2b0c10910040b8a30babfaca415db1",
            "765b537ff16d42dcac1930a54d4ac30c",
            "9ba5e5a05d174de0adbd4816a65cac12",
            "fbbaca796ada4e40ba87a28805510f79",
            "4e788b3b86164e24805e493dd6e2701e",
            "2ebaa654db0745c78c01bd2ccbe27180",
            "d1437122b24446fdb8e342af66eba0bc",
            "77928ae1bb7d41099c90c81e717070c1",
            "861470c3873f4383844cab1518625a60",
            "57b9a785ef38457caea4b58ed83fd546",
            "8f4a37a33ef44a15ac09b20d14f1770b",
            "e4965d0709994ffaaa8168e973a8bfc6",
            "d0fe5e8e7e4e4731ad9ba48eb9aa98b9",
            "0b0d49c460aa4640b7dc6be3fdf26fbc",
            "d2962be34f00429ab4a9684042c2390c",
            "3afb6096b9944bb3b37ff1432e57eccc",
            "9fff6cf356ed40d584811202a307304d",
            "8685cf59c2a04be6b8c62b68cb713be3",
            "ecb5724c16284d93bb7a113e527be3a8",
            "87f8139c700641b58a9c5ea0a3b905f6",
            "0b10cde7d9604b45bea086a088f7b963",
            "ddae8aa36bd245cf99651bf82feb9440",
            "c9e8cd13cad14f1297e20009b15b03cb",
            "fd29d98cf96746319678a7d82bc3aa82"
          ]
        }
      },
      "execution_count": null,
      "outputs": [
        {
          "output_type": "display_data",
          "data": {
            "text/plain": [
              "Downloading (…)lve/main/config.json:   0%|          | 0.00/615 [00:00<?, ?B/s]"
            ],
            "application/vnd.jupyter.widget-view+json": {
              "version_major": 2,
              "version_minor": 0,
              "model_id": "e7e39b2f25af41bbb49093f2b8ca8435"
            }
          },
          "metadata": {}
        },
        {
          "output_type": "display_data",
          "data": {
            "text/plain": [
              "Downloading (…)tencepiece.bpe.model:   0%|          | 0.00/5.07M [00:00<?, ?B/s]"
            ],
            "application/vnd.jupyter.widget-view+json": {
              "version_major": 2,
              "version_minor": 0,
              "model_id": "59bdeae5474c4f628dab00f84ff4b3b1"
            }
          },
          "metadata": {}
        },
        {
          "output_type": "display_data",
          "data": {
            "text/plain": [
              "Downloading (…)/main/tokenizer.json:   0%|          | 0.00/9.10M [00:00<?, ?B/s]"
            ],
            "application/vnd.jupyter.widget-view+json": {
              "version_major": 2,
              "version_minor": 0,
              "model_id": "9ba5e5a05d174de0adbd4816a65cac12"
            }
          },
          "metadata": {}
        },
        {
          "output_type": "display_data",
          "data": {
            "text/plain": [
              "Downloading tf_model.h5:   0%|          | 0.00/1.11G [00:00<?, ?B/s]"
            ],
            "application/vnd.jupyter.widget-view+json": {
              "version_major": 2,
              "version_minor": 0,
              "model_id": "0b0d49c460aa4640b7dc6be3fdf26fbc"
            }
          },
          "metadata": {}
        },
        {
          "output_type": "stream",
          "name": "stderr",
          "text": [
            "If you want to use `TFXLMRobertaLMHeadModel` as a standalone, add `is_decoder=True.`\n",
            "All model checkpoint layers were used when initializing TFXLMRobertaForCausalLM.\n",
            "\n",
            "Some layers of TFXLMRobertaForCausalLM were not initialized from the model checkpoint at xlm-roberta-base and are newly initialized: ['lm_head']\n",
            "You should probably TRAIN this model on a down-stream task to be able to use it for predictions and inference.\n"
          ]
        }
      ]
    },
    {
      "cell_type": "markdown",
      "metadata": {
        "id": "xepScwgoLq3j"
      },
      "source": [
        "## Dataset"
      ]
    },
    {
      "cell_type": "code",
      "execution_count": null,
      "metadata": {
        "id": "bpd4vDOjprKv"
      },
      "outputs": [],
      "source": [
        "nlp_en = en_core_web_sm.load()\n",
        "nlp_pt = pt_core_news_sm.load()\n",
        "\n",
        "class IdiomDataset(Dataset):\n",
        "    def __init__(self, \n",
        "                 dataset, \n",
        "                 tokenizer,\n",
        "                 languages,\n",
        "                 device=\"cuda\",\n",
        "                ) -> None:\n",
        "        \n",
        "        self.encoded_data = []\n",
        "    \n",
        "        self.dataset = dataset\n",
        "        self.tokenizer = tokenizer\n",
        "        self.languages = languages\n",
        "        self.device = device\n",
        "        self.__init_encoded_data()\n",
        "\n",
        " \n",
        "    def __init_encoded_data(self):\n",
        "                \n",
        "        for idx in tqdm(self.dataset):\n",
        "            id = self.dataset[idx][\"id\"]\n",
        "            lang = self.dataset[idx][\"lang\"]\n",
        "            e = self.dataset[idx][\"expression\"]\n",
        "            label = self.dataset[idx][\"idiomatic\"]\n",
        "            context_tmp = self.dataset[idx][\"text\"]\n",
        "\n",
        "            if lang == \"EN\":\n",
        "                doc = nlp_en(context_tmp)\n",
        "                ents = [X.text.lower() for X in doc.ents]\n",
        "            else:\n",
        "                doc = nlp_pt(context_tmp)\n",
        "                ents = [X.text.lower() for X in doc.ents]\n",
        "            \n",
        "    \n",
        "            if e in ents:\n",
        "                e = context_tmp\n",
        "                context = context_tmp\n",
        "            else:\n",
        "                if context_tmp.find(e) != -1:\n",
        "                    context = context_tmp[:context_tmp.lower().find(e)] + context_tmp[context_tmp.lower().find(e)+len(e):]\n",
        "\n",
        "                else:    \n",
        "                    e = context_tmp\n",
        "                    context = context_tmp                     \n",
        "                \n",
        "        \n",
        "            tokenized_e = torch.tensor(self.tokenize_mention(e, self.tokenizer, True))\n",
        "            tokenized_context = torch.tensor(self.tokenize_mention(context, self.tokenizer, True))\n",
        "\n",
        "            if e!=\"MWE\" and lang in self.languages:\n",
        "                self.encoded_data.append((idx,\n",
        "                                          e,\n",
        "                                          context,\n",
        "                                          tokenized_e,\n",
        "                                          tokenized_context,\n",
        "                                          torch.tensor([-1.0]) if label == True else torch.tensor([1.0]),\n",
        "                                          id, \n",
        "                                          lang))\n",
        "\n",
        "     \n",
        "    def tokenize_mention(self, sent, tokenizer, special_tokens):\n",
        "        encoded_sentence = tokenizer.encode(sent, add_special_tokens = special_tokens)\n",
        "        return encoded_sentence[:500]\n",
        "    \n",
        "    def tokenize_description(self, sent, tokenizer, window):\n",
        "        encoded_sentence = tokenizer.encode(sent, add_special_tokens = True)\n",
        "        return encoded_sentence\n",
        "\n",
        "    def __len__(self):\n",
        "        return len(self.encoded_data)\n",
        " \n",
        "    def __getitem__(self, idx: int):\n",
        "        return self.encoded_data[idx]"
      ]
    },
    {
      "cell_type": "markdown",
      "metadata": {
        "id": "gnindm3GLq3k"
      },
      "source": [
        "Create the dataset:"
      ]
    },
    {
      "cell_type": "code",
      "execution_count": null,
      "metadata": {
        "id": "aa72jvxrp8Na",
        "outputId": "e9c105fd-e11e-4967-e3f7-b9d6cdb43451",
        "colab": {
          "base_uri": "https://localhost:8080/"
        }
      },
      "outputs": [
        {
          "output_type": "stream",
          "name": "stderr",
          "text": [
            "100%|██████████| 4492/4492 [00:50<00:00, 88.22it/s]\n",
            "100%|██████████| 740/740 [00:08<00:00, 88.12it/s]\n",
            "100%|██████████| 2343/2343 [00:25<00:00, 92.72it/s] "
          ]
        },
        {
          "output_type": "stream",
          "name": "stdout",
          "text": [
            "4491\n",
            "739\n",
            "2342\n"
          ]
        },
        {
          "output_type": "stream",
          "name": "stderr",
          "text": [
            "\n"
          ]
        }
      ],
      "source": [
        "train_dataset = IdiomDataset(train_data, tokenizer, languages = [\"EN\", \"PT\", \"GL\"])\n",
        "dev_dataset = IdiomDataset(dev_data, tokenizer, languages =[\"EN\", \"PT\", \"GL\"])\n",
        "test_dataset = IdiomDataset(test_data, tokenizer, languages = [\"EN\",\"PT\", \"GL\"])\n",
        "\n",
        "print(len(train_dataset))\n",
        "print(len(dev_dataset))\n",
        "print(len(test_dataset))"
      ]
    },
    {
      "cell_type": "markdown",
      "metadata": {
        "id": "jKg_FjfULq3k"
      },
      "source": [
        "Create the dataloader:"
      ]
    },
    {
      "cell_type": "code",
      "execution_count": null,
      "metadata": {
        "id": "bfL32r72qBWh",
        "outputId": "0ab0031f-82cf-49ac-d833-414d9e1bb657",
        "colab": {
          "base_uri": "https://localhost:8080/"
        }
      },
      "outputs": [
        {
          "output_type": "stream",
          "name": "stdout",
          "text": [
            "562\n",
            "93\n",
            "293\n"
          ]
        }
      ],
      "source": [
        "def collate(elems: tuple) -> tuple:\n",
        "    ids, e, texts, expressions, contexts, labels, ids, langs = list(zip(*elems))\n",
        "    \n",
        "    pad_expressions = pad_sequence(expressions, batch_first=True, padding_value=0)\n",
        "    pad_contexts = pad_sequence(contexts, batch_first=True, padding_value=0)\n",
        "    pad_labels = pad_sequence(labels, batch_first=True, padding_value=0)\n",
        " \n",
        "    return ids, e, texts, pad_expressions, pad_contexts, pad_labels.cuda(), ids, langs\n",
        "\n",
        "\n",
        "train_dataloader = DataLoader(train_dataset, batch_size=8, shuffle=True, collate_fn=collate)\n",
        "dev_dataloader = DataLoader(dev_dataset, batch_size=8, shuffle=False, collate_fn=collate)\n",
        "test_dataloader = DataLoader(test_dataset, batch_size=8, shuffle=False, collate_fn=collate)\n",
        "\n",
        "print(len(train_dataloader))\n",
        "print(len(dev_dataloader))\n",
        "print(len(test_dataloader))"
      ]
    },
    {
      "cell_type": "markdown",
      "metadata": {
        "id": "kkNqGd1xLq3l"
      },
      "source": [
        "## Dual-Encoder Architecture"
      ]
    },
    {
      "cell_type": "code",
      "source": [
        "from transformers import XLMRobertaModel\n",
        "model_name = \"xlm-roberta-base\""
      ],
      "metadata": {
        "id": "YE7QN_jh9Ww1"
      },
      "execution_count": null,
      "outputs": []
    },
    {
      "cell_type": "code",
      "execution_count": null,
      "metadata": {
        "id": "cfUxreHMpx4E"
      },
      "outputs": [],
      "source": [
        "class DualEncoder(nn.Module):\n",
        "    def __init__(self, hparams):\n",
        "        super(DualEncoder, self).__init__()\n",
        "        pprint(params)\n",
        " \n",
        "        self.hparams = hparams\n",
        " \n",
        "        \n",
        "        self.expression_encoder = XLMRobertaModel.from_pretrained(model_name)\n",
        "        self.context_encoder = XLMRobertaModel.from_pretrained(model_name)\n",
        "\n",
        "        self.cosine_similarity = nn.CosineSimilarity(dim=-1, eps=1e-6)\n",
        "        \n",
        "        self.dropout = nn.Dropout(hparams.dropout)\n",
        "\n",
        "        self.tanh = nn.Tanh()\n",
        "            \n",
        "        for param in self.context_encoder.parameters():\n",
        "            param.requires_grad = False\n",
        "  \n",
        "\n",
        "    def forward(self, expression, context, mask1, mask2):\n",
        "        \n",
        "        embedding_context = self.context_encoder.forward(context.cuda(), mask2.cuda())[0]\n",
        "        embedding_context = embedding_context[:,0,:].squeeze(1)\n",
        "\n",
        "        embedding_expression = self.expression_encoder.forward(expression.cuda(), mask1.cuda())[0]\n",
        "        embedding_expression = torch.sum(embedding_expression, 1)\n",
        "            \n",
        "        similarities = self.cosine_similarity(embedding_expression, embedding_context) \n",
        "                        \n",
        "        return similarities"
      ]
    },
    {
      "cell_type": "code",
      "execution_count": null,
      "metadata": {
        "id": "hqMKoAmZLq3l"
      },
      "outputs": [],
      "source": [
        "class HParams():\n",
        "    dropout = 0.25\n",
        "    \n",
        "params = HParams()"
      ]
    },
    {
      "cell_type": "markdown",
      "metadata": {
        "id": "UX0-n1yyLq3m"
      },
      "source": [
        "Instantiate the model: "
      ]
    },
    {
      "cell_type": "code",
      "source": [],
      "metadata": {
        "id": "mUYoNsfG9QyW"
      },
      "execution_count": null,
      "outputs": []
    },
    {
      "cell_type": "code",
      "execution_count": null,
      "metadata": {
        "id": "PeLvL3XELq3m",
        "outputId": "2efe70ac-72a6-4f7e-d61b-71151bb371d3",
        "colab": {
          "base_uri": "https://localhost:8080/",
          "height": 1000,
          "referenced_widgets": [
            "73820cfbe71849369975efc3f372c682",
            "f12c3639f2c64568978bf4f6a27551f9",
            "e1f3b2f377b2454e935bd8ce925a2a5b",
            "60cb3cd1e16744cd99d292940c1db097",
            "8bde086cab9e4eff938a02440c0bf715",
            "afb0815f88314719a1e861a5bdf89741",
            "cdde620d71214a118394254d771c13c9",
            "a8436e1ac17a4747abb994b0b76eff2e",
            "a930d35e0d4e43a892a6ea40ee27fd79",
            "ed569489516d44ada04ff36fa56e8e8a",
            "727450a96efc47d7995a48104e75c11a"
          ]
        }
      },
      "outputs": [
        {
          "output_type": "stream",
          "name": "stdout",
          "text": [
            "<__main__.HParams object at 0x7f3e98819a80>\n"
          ]
        },
        {
          "output_type": "display_data",
          "data": {
            "text/plain": [
              "Downloading pytorch_model.bin:   0%|          | 0.00/1.12G [00:00<?, ?B/s]"
            ],
            "application/vnd.jupyter.widget-view+json": {
              "version_major": 2,
              "version_minor": 0,
              "model_id": "73820cfbe71849369975efc3f372c682"
            }
          },
          "metadata": {}
        },
        {
          "output_type": "stream",
          "name": "stderr",
          "text": [
            "Some weights of the model checkpoint at xlm-roberta-base were not used when initializing XLMRobertaModel: ['lm_head.bias', 'lm_head.decoder.weight', 'lm_head.dense.weight', 'lm_head.layer_norm.weight', 'lm_head.dense.bias', 'lm_head.layer_norm.bias']\n",
            "- This IS expected if you are initializing XLMRobertaModel from the checkpoint of a model trained on another task or with another architecture (e.g. initializing a BertForSequenceClassification model from a BertForPreTraining model).\n",
            "- This IS NOT expected if you are initializing XLMRobertaModel from the checkpoint of a model that you expect to be exactly identical (initializing a BertForSequenceClassification model from a BertForSequenceClassification model).\n",
            "Some weights of the model checkpoint at xlm-roberta-base were not used when initializing XLMRobertaModel: ['lm_head.bias', 'lm_head.decoder.weight', 'lm_head.dense.weight', 'lm_head.layer_norm.weight', 'lm_head.dense.bias', 'lm_head.layer_norm.bias']\n",
            "- This IS expected if you are initializing XLMRobertaModel from the checkpoint of a model trained on another task or with another architecture (e.g. initializing a BertForSequenceClassification model from a BertForPreTraining model).\n",
            "- This IS NOT expected if you are initializing XLMRobertaModel from the checkpoint of a model that you expect to be exactly identical (initializing a BertForSequenceClassification model from a BertForSequenceClassification model).\n"
          ]
        },
        {
          "output_type": "execute_result",
          "data": {
            "text/plain": [
              "DualEncoder(\n",
              "  (expression_encoder): XLMRobertaModel(\n",
              "    (embeddings): XLMRobertaEmbeddings(\n",
              "      (word_embeddings): Embedding(250002, 768, padding_idx=1)\n",
              "      (position_embeddings): Embedding(514, 768, padding_idx=1)\n",
              "      (token_type_embeddings): Embedding(1, 768)\n",
              "      (LayerNorm): LayerNorm((768,), eps=1e-05, elementwise_affine=True)\n",
              "      (dropout): Dropout(p=0.1, inplace=False)\n",
              "    )\n",
              "    (encoder): XLMRobertaEncoder(\n",
              "      (layer): ModuleList(\n",
              "        (0-11): 12 x XLMRobertaLayer(\n",
              "          (attention): XLMRobertaAttention(\n",
              "            (self): XLMRobertaSelfAttention(\n",
              "              (query): Linear(in_features=768, out_features=768, bias=True)\n",
              "              (key): Linear(in_features=768, out_features=768, bias=True)\n",
              "              (value): Linear(in_features=768, out_features=768, bias=True)\n",
              "              (dropout): Dropout(p=0.1, inplace=False)\n",
              "            )\n",
              "            (output): XLMRobertaSelfOutput(\n",
              "              (dense): Linear(in_features=768, out_features=768, bias=True)\n",
              "              (LayerNorm): LayerNorm((768,), eps=1e-05, elementwise_affine=True)\n",
              "              (dropout): Dropout(p=0.1, inplace=False)\n",
              "            )\n",
              "          )\n",
              "          (intermediate): XLMRobertaIntermediate(\n",
              "            (dense): Linear(in_features=768, out_features=3072, bias=True)\n",
              "            (intermediate_act_fn): GELUActivation()\n",
              "          )\n",
              "          (output): XLMRobertaOutput(\n",
              "            (dense): Linear(in_features=3072, out_features=768, bias=True)\n",
              "            (LayerNorm): LayerNorm((768,), eps=1e-05, elementwise_affine=True)\n",
              "            (dropout): Dropout(p=0.1, inplace=False)\n",
              "          )\n",
              "        )\n",
              "      )\n",
              "    )\n",
              "    (pooler): XLMRobertaPooler(\n",
              "      (dense): Linear(in_features=768, out_features=768, bias=True)\n",
              "      (activation): Tanh()\n",
              "    )\n",
              "  )\n",
              "  (context_encoder): XLMRobertaModel(\n",
              "    (embeddings): XLMRobertaEmbeddings(\n",
              "      (word_embeddings): Embedding(250002, 768, padding_idx=1)\n",
              "      (position_embeddings): Embedding(514, 768, padding_idx=1)\n",
              "      (token_type_embeddings): Embedding(1, 768)\n",
              "      (LayerNorm): LayerNorm((768,), eps=1e-05, elementwise_affine=True)\n",
              "      (dropout): Dropout(p=0.1, inplace=False)\n",
              "    )\n",
              "    (encoder): XLMRobertaEncoder(\n",
              "      (layer): ModuleList(\n",
              "        (0-11): 12 x XLMRobertaLayer(\n",
              "          (attention): XLMRobertaAttention(\n",
              "            (self): XLMRobertaSelfAttention(\n",
              "              (query): Linear(in_features=768, out_features=768, bias=True)\n",
              "              (key): Linear(in_features=768, out_features=768, bias=True)\n",
              "              (value): Linear(in_features=768, out_features=768, bias=True)\n",
              "              (dropout): Dropout(p=0.1, inplace=False)\n",
              "            )\n",
              "            (output): XLMRobertaSelfOutput(\n",
              "              (dense): Linear(in_features=768, out_features=768, bias=True)\n",
              "              (LayerNorm): LayerNorm((768,), eps=1e-05, elementwise_affine=True)\n",
              "              (dropout): Dropout(p=0.1, inplace=False)\n",
              "            )\n",
              "          )\n",
              "          (intermediate): XLMRobertaIntermediate(\n",
              "            (dense): Linear(in_features=768, out_features=3072, bias=True)\n",
              "            (intermediate_act_fn): GELUActivation()\n",
              "          )\n",
              "          (output): XLMRobertaOutput(\n",
              "            (dense): Linear(in_features=3072, out_features=768, bias=True)\n",
              "            (LayerNorm): LayerNorm((768,), eps=1e-05, elementwise_affine=True)\n",
              "            (dropout): Dropout(p=0.1, inplace=False)\n",
              "          )\n",
              "        )\n",
              "      )\n",
              "    )\n",
              "    (pooler): XLMRobertaPooler(\n",
              "      (dense): Linear(in_features=768, out_features=768, bias=True)\n",
              "      (activation): Tanh()\n",
              "    )\n",
              "  )\n",
              "  (cosine_similarity): CosineSimilarity()\n",
              "  (dropout): Dropout(p=0.25, inplace=False)\n",
              "  (tanh): Tanh()\n",
              ")"
            ]
          },
          "metadata": {},
          "execution_count": 43
        }
      ],
      "source": [
        "my_model = DualEncoder(params).cuda()\n",
        "my_model"
      ]
    },
    {
      "cell_type": "markdown",
      "metadata": {
        "id": "0vblBvifLq3m"
      },
      "source": [
        "## Trainer"
      ]
    },
    {
      "cell_type": "code",
      "execution_count": null,
      "metadata": {
        "id": "P0JfvAWUp6gc"
      },
      "outputs": [],
      "source": [
        "class Trainer():\n",
        "    def __init__(self,\n",
        "                model:nn.Module, \n",
        "                loss_function,\n",
        "                optimizer,\n",
        "                gradient_accumulation_steps):\n",
        "        \n",
        "        self.model = model\n",
        "        self.loss_function = loss_function\n",
        "        self.optimizer = optimizer\n",
        "        self.gradient_accumulation_steps = gradient_accumulation_steps\n",
        " \n",
        "    def padding_mask(self, batch):\n",
        "        padding = torch.ones_like(batch)\n",
        "        padding[batch == 0] = 0\n",
        "        padding = padding.type(torch.uint8)\n",
        "        return padding\n",
        " \n",
        "    def train(self,\n",
        "            train_dataset:Dataset, \n",
        "            valid_dataset:Dataset,\n",
        "            epochs:int=1,\n",
        "            patience:int=10,\n",
        "            modelname=setting):\n",
        "        \n",
        "        print(\"\\nTraining...\")\n",
        " \n",
        "        record_dev = 0.0\n",
        "        full_patience = patience\n",
        "        modelname = modelname\n",
        " \n",
        "        for epoch in range(epochs):\n",
        "             if patience>0:\n",
        "                print(\" Epoch {:03d}\".format(epoch + 1))\n",
        "\n",
        "                epoch_loss = 0.0\n",
        "                self.model.train()\n",
        "                \n",
        "                count_batches = 0\n",
        "                self.optimizer.zero_grad()\n",
        "                \n",
        "                for ids, e, text, expressions, contexts, labels, id, lang in tqdm(train_dataset):\n",
        "                    batch_loss = 0.0\n",
        "\n",
        "                    mask1 = self.padding_mask(expressions)\n",
        "                    mask2 = self.padding_mask(contexts)\n",
        "                    \n",
        "                    similarities = self.model(expressions, contexts, mask1, mask2)\n",
        "\n",
        "                    labels = labels.view(-1)\n",
        "                    batch_loss = self.loss_function(similarities, labels)\n",
        "                    epoch_loss += batch_loss\n",
        "\n",
        "                    batch_loss.backward()\n",
        "\n",
        "                    if count_batches % self.gradient_accumulation_steps == 0:\n",
        "                        self.optimizer.step()\n",
        "                        self.optimizer.zero_grad()\n",
        "\n",
        "\n",
        "                avg_epoch_loss = epoch_loss / len(train_dataset)\n",
        "                print('[E: {:2d}] train loss = {:0.4f}'.format(epoch+1, avg_epoch_loss))\n",
        "\n",
        "                valid_loss, f1 = self.evaluate(valid_dataset, epoch)\n",
        "\n",
        "                if f1>record_dev:\n",
        "                    record_dev = f1\n",
        "                    torch.save(self.model.state_dict(), \"/content/ner4id/checkpoints/\"+modelname+\".pt\")\n",
        "                    patience = full_patience\n",
        "                else:\n",
        "                    patience -= 1\n",
        "                   \n",
        "                print('\\t[E: {:2d}] valid loss = {:0.4f}, f1-score = {:0.4f}, patience: {:2d}'.format(epoch+1, valid_loss, f1, patience))\n",
        "\n",
        "\n",
        "        print(\"...Done!\")\n",
        "\n",
        "        return avg_epoch_loss\n",
        "\n",
        "    def evaluate(self, valid_dataset, epoch):\n",
        "\n",
        "        valid_loss = 0.0\n",
        "        all_predictions = list()\n",
        "        all_labels = list()\n",
        "        \n",
        "        predictions = {}\n",
        "         \n",
        "        self.model.eval()\n",
        "                    \n",
        "        for ids, e, text, expressions, contexts, labels, id, lang in tqdm(valid_dataset):\n",
        "            mask1 = self.padding_mask(expressions)\n",
        "            mask2 = self.padding_mask(contexts)\n",
        "            \n",
        "            with torch.no_grad():\n",
        "                similarities = self.model(expressions, contexts, mask1, mask2)\n",
        "\n",
        "            labels = labels.view(-1)\n",
        "            loss = self.loss_function(similarities, labels)\n",
        " \n",
        "            for i in range(len(similarities)):\n",
        "                if similarities[i]>0:\n",
        "                    all_predictions.append(1)\n",
        "                else:\n",
        "                    all_predictions.append(0)\n",
        "\n",
        "                all_labels.append(1 if labels[i].item()==1 else 0)\n",
        "            \n",
        "            valid_loss += loss\n",
        "            \n",
        "            for i in range(len(similarities)):\n",
        "                if similarities[i]>0:\n",
        "                    predictions[ids[i]] = 1\n",
        "\n",
        "                else:\n",
        "                    predictions[ids[i]] = 0\n",
        "\n",
        "        f1 = f1_score(all_labels, all_predictions, average= 'macro')\n",
        "        print(classification_report(all_labels, all_predictions, digits=4))\n",
        "        \n",
        "        return valid_loss / len(valid_dataset), f1"
      ]
    },
    {
      "cell_type": "markdown",
      "metadata": {
        "id": "4E9dr6E3Lq3n"
      },
      "source": [
        "Instantiate the trainer:"
      ]
    },
    {
      "cell_type": "code",
      "execution_count": null,
      "metadata": {
        "id": "AJOGLgoZqR9w"
      },
      "outputs": [],
      "source": [
        "trainer = Trainer(model = my_model,\n",
        "                    loss_function = nn.MSELoss(),\n",
        "                    optimizer = optim.Adam(my_model.parameters(), lr=0.00001),\n",
        "                    gradient_accumulation_steps=1)"
      ]
    },
    {
      "cell_type": "markdown",
      "metadata": {
        "id": "RUg_-1jrLq3o"
      },
      "source": [
        "Train the system:"
      ]
    },
    {
      "cell_type": "code",
      "execution_count": null,
      "metadata": {
        "id": "m0XLLlyoqU5_",
        "scrolled": true,
        "outputId": "8ebe6895-c02f-4770-c5e4-5c48c50a49fe",
        "colab": {
          "base_uri": "https://localhost:8080/"
        }
      },
      "outputs": [
        {
          "output_type": "stream",
          "name": "stdout",
          "text": [
            "\n",
            "Training...\n",
            " Epoch 001\n"
          ]
        },
        {
          "output_type": "stream",
          "name": "stderr",
          "text": [
            "100%|██████████| 562/562 [01:40<00:00,  5.59it/s]\n"
          ]
        },
        {
          "output_type": "stream",
          "name": "stdout",
          "text": [
            "[E:  1] train loss = 0.1038\n"
          ]
        },
        {
          "output_type": "stream",
          "name": "stderr",
          "text": [
            "100%|██████████| 93/93 [00:04<00:00, 19.16it/s]\n"
          ]
        },
        {
          "output_type": "stream",
          "name": "stdout",
          "text": [
            "              precision    recall  f1-score   support\n",
            "\n",
            "           0     0.6556    0.8839    0.7529       336\n",
            "           1     0.8636    0.6129    0.7170       403\n",
            "\n",
            "    accuracy                         0.7361       739\n",
            "   macro avg     0.7596    0.7484    0.7349       739\n",
            "weighted avg     0.7691    0.7361    0.7333       739\n",
            "\n",
            "\t[E:  1] valid loss = 1.0024, f1-score = 0.7349, patience:  5\n",
            " Epoch 002\n"
          ]
        },
        {
          "output_type": "stream",
          "name": "stderr",
          "text": [
            "100%|██████████| 562/562 [01:41<00:00,  5.54it/s]\n"
          ]
        },
        {
          "output_type": "stream",
          "name": "stdout",
          "text": [
            "[E:  2] train loss = 0.0998\n"
          ]
        },
        {
          "output_type": "stream",
          "name": "stderr",
          "text": [
            "100%|██████████| 93/93 [00:04<00:00, 20.13it/s]\n"
          ]
        },
        {
          "output_type": "stream",
          "name": "stdout",
          "text": [
            "              precision    recall  f1-score   support\n",
            "\n",
            "           0     0.6621    0.8690    0.7516       336\n",
            "           1     0.8523    0.6303    0.7247       403\n",
            "\n",
            "    accuracy                         0.7388       739\n",
            "   macro avg     0.7572    0.7497    0.7381       739\n",
            "weighted avg     0.7659    0.7388    0.7369       739\n",
            "\n",
            "\t[E:  2] valid loss = 0.9166, f1-score = 0.7381, patience:  5\n",
            " Epoch 003\n"
          ]
        },
        {
          "output_type": "stream",
          "name": "stderr",
          "text": [
            "100%|██████████| 562/562 [01:41<00:00,  5.52it/s]\n"
          ]
        },
        {
          "output_type": "stream",
          "name": "stdout",
          "text": [
            "[E:  3] train loss = 0.0965\n"
          ]
        },
        {
          "output_type": "stream",
          "name": "stderr",
          "text": [
            "100%|██████████| 93/93 [00:04<00:00, 19.72it/s]\n"
          ]
        },
        {
          "output_type": "stream",
          "name": "stdout",
          "text": [
            "              precision    recall  f1-score   support\n",
            "\n",
            "           0     0.6678    0.5744    0.6176       336\n",
            "           1     0.6822    0.7618    0.7198       403\n",
            "\n",
            "    accuracy                         0.6766       739\n",
            "   macro avg     0.6750    0.6681    0.6687       739\n",
            "weighted avg     0.6757    0.6766    0.6733       739\n",
            "\n",
            "\t[E:  3] valid loss = 1.1506, f1-score = 0.6687, patience:  4\n",
            " Epoch 004\n"
          ]
        },
        {
          "output_type": "stream",
          "name": "stderr",
          "text": [
            "100%|██████████| 562/562 [01:42<00:00,  5.47it/s]\n"
          ]
        },
        {
          "output_type": "stream",
          "name": "stdout",
          "text": [
            "[E:  4] train loss = 0.1070\n"
          ]
        },
        {
          "output_type": "stream",
          "name": "stderr",
          "text": [
            "100%|██████████| 93/93 [00:04<00:00, 19.45it/s]\n"
          ]
        },
        {
          "output_type": "stream",
          "name": "stdout",
          "text": [
            "              precision    recall  f1-score   support\n",
            "\n",
            "           0     0.6674    0.8661    0.7539       336\n",
            "           1     0.8515    0.6402    0.7309       403\n",
            "\n",
            "    accuracy                         0.7429       739\n",
            "   macro avg     0.7595    0.7531    0.7424       739\n",
            "weighted avg     0.7678    0.7429    0.7413       739\n",
            "\n",
            "\t[E:  4] valid loss = 0.8976, f1-score = 0.7424, patience:  5\n",
            " Epoch 005\n"
          ]
        },
        {
          "output_type": "stream",
          "name": "stderr",
          "text": [
            "100%|██████████| 562/562 [01:42<00:00,  5.50it/s]\n"
          ]
        },
        {
          "output_type": "stream",
          "name": "stdout",
          "text": [
            "[E:  5] train loss = 0.1038\n"
          ]
        },
        {
          "output_type": "stream",
          "name": "stderr",
          "text": [
            "100%|██████████| 93/93 [00:04<00:00, 19.59it/s]\n"
          ]
        },
        {
          "output_type": "stream",
          "name": "stdout",
          "text": [
            "              precision    recall  f1-score   support\n",
            "\n",
            "           0     0.6532    0.8185    0.7266       336\n",
            "           1     0.8082    0.6377    0.7129       403\n",
            "\n",
            "    accuracy                         0.7199       739\n",
            "   macro avg     0.7307    0.7281    0.7197       739\n",
            "weighted avg     0.7377    0.7199    0.7191       739\n",
            "\n",
            "\t[E:  5] valid loss = 1.0205, f1-score = 0.7197, patience:  4\n",
            " Epoch 006\n"
          ]
        },
        {
          "output_type": "stream",
          "name": "stderr",
          "text": [
            "100%|██████████| 562/562 [01:42<00:00,  5.47it/s]\n"
          ]
        },
        {
          "output_type": "stream",
          "name": "stdout",
          "text": [
            "[E:  6] train loss = 0.1115\n"
          ]
        },
        {
          "output_type": "stream",
          "name": "stderr",
          "text": [
            "100%|██████████| 93/93 [00:04<00:00, 19.55it/s]\n"
          ]
        },
        {
          "output_type": "stream",
          "name": "stdout",
          "text": [
            "              precision    recall  f1-score   support\n",
            "\n",
            "           0     0.6674    0.8601    0.7516       336\n",
            "           1     0.8464    0.6427    0.7306       403\n",
            "\n",
            "    accuracy                         0.7415       739\n",
            "   macro avg     0.7569    0.7514    0.7411       739\n",
            "weighted avg     0.7650    0.7415    0.7402       739\n",
            "\n",
            "\t[E:  6] valid loss = 0.9773, f1-score = 0.7411, patience:  3\n",
            " Epoch 007\n"
          ]
        },
        {
          "output_type": "stream",
          "name": "stderr",
          "text": [
            "100%|██████████| 562/562 [01:53<00:00,  4.93it/s]\n"
          ]
        },
        {
          "output_type": "stream",
          "name": "stdout",
          "text": [
            "[E:  7] train loss = 0.1049\n"
          ]
        },
        {
          "output_type": "stream",
          "name": "stderr",
          "text": [
            "100%|██████████| 93/93 [00:05<00:00, 16.63it/s]\n"
          ]
        },
        {
          "output_type": "stream",
          "name": "stdout",
          "text": [
            "              precision    recall  f1-score   support\n",
            "\n",
            "           0     0.6689    0.8720    0.7571       336\n",
            "           1     0.8571    0.6402    0.7330       403\n",
            "\n",
            "    accuracy                         0.7456       739\n",
            "   macro avg     0.7630    0.7561    0.7450       739\n",
            "weighted avg     0.7716    0.7456    0.7439       739\n",
            "\n",
            "\t[E:  7] valid loss = 0.9521, f1-score = 0.7450, patience:  5\n",
            " Epoch 008\n"
          ]
        },
        {
          "output_type": "stream",
          "name": "stderr",
          "text": [
            "100%|██████████| 562/562 [01:41<00:00,  5.51it/s]\n"
          ]
        },
        {
          "output_type": "stream",
          "name": "stdout",
          "text": [
            "[E:  8] train loss = 0.1114\n"
          ]
        },
        {
          "output_type": "stream",
          "name": "stderr",
          "text": [
            "100%|██████████| 93/93 [00:04<00:00, 19.07it/s]\n"
          ]
        },
        {
          "output_type": "stream",
          "name": "stdout",
          "text": [
            "              precision    recall  f1-score   support\n",
            "\n",
            "           0     0.6434    0.9345    0.7621       336\n",
            "           1     0.9124    0.5682    0.7003       403\n",
            "\n",
            "    accuracy                         0.7348       739\n",
            "   macro avg     0.7779    0.7514    0.7312       739\n",
            "weighted avg     0.7901    0.7348    0.7284       739\n",
            "\n",
            "\t[E:  8] valid loss = 1.0247, f1-score = 0.7312, patience:  4\n",
            " Epoch 009\n"
          ]
        },
        {
          "output_type": "stream",
          "name": "stderr",
          "text": [
            "100%|██████████| 562/562 [01:45<00:00,  5.32it/s]\n"
          ]
        },
        {
          "output_type": "stream",
          "name": "stdout",
          "text": [
            "[E:  9] train loss = 0.0978\n"
          ]
        },
        {
          "output_type": "stream",
          "name": "stderr",
          "text": [
            "100%|██████████| 93/93 [00:04<00:00, 19.21it/s]\n"
          ]
        },
        {
          "output_type": "stream",
          "name": "stdout",
          "text": [
            "              precision    recall  f1-score   support\n",
            "\n",
            "           0     0.6613    0.8542    0.7455       336\n",
            "           1     0.8393    0.6352    0.7232       403\n",
            "\n",
            "    accuracy                         0.7348       739\n",
            "   macro avg     0.7503    0.7447    0.7343       739\n",
            "weighted avg     0.7584    0.7348    0.7333       739\n",
            "\n",
            "\t[E:  9] valid loss = 0.9314, f1-score = 0.7343, patience:  3\n",
            " Epoch 010\n"
          ]
        },
        {
          "output_type": "stream",
          "name": "stderr",
          "text": [
            "100%|██████████| 562/562 [01:43<00:00,  5.45it/s]\n"
          ]
        },
        {
          "output_type": "stream",
          "name": "stdout",
          "text": [
            "[E: 10] train loss = 0.0965\n"
          ]
        },
        {
          "output_type": "stream",
          "name": "stderr",
          "text": [
            "100%|██████████| 93/93 [00:04<00:00, 19.14it/s]\n"
          ]
        },
        {
          "output_type": "stream",
          "name": "stdout",
          "text": [
            "              precision    recall  f1-score   support\n",
            "\n",
            "           0     0.6703    0.9077    0.7712       336\n",
            "           1     0.8908    0.6278    0.7365       403\n",
            "\n",
            "    accuracy                         0.7551       739\n",
            "   macro avg     0.7806    0.7678    0.7539       739\n",
            "weighted avg     0.7906    0.7551    0.7523       739\n",
            "\n",
            "\t[E: 10] valid loss = 0.9755, f1-score = 0.7539, patience:  5\n",
            " Epoch 011\n"
          ]
        },
        {
          "output_type": "stream",
          "name": "stderr",
          "text": [
            "100%|██████████| 562/562 [01:50<00:00,  5.10it/s]\n"
          ]
        },
        {
          "output_type": "stream",
          "name": "stdout",
          "text": [
            "[E: 11] train loss = 0.1007\n"
          ]
        },
        {
          "output_type": "stream",
          "name": "stderr",
          "text": [
            "100%|██████████| 93/93 [00:06<00:00, 15.31it/s]\n"
          ]
        },
        {
          "output_type": "stream",
          "name": "stdout",
          "text": [
            "              precision    recall  f1-score   support\n",
            "\n",
            "           0     0.6703    0.9077    0.7712       336\n",
            "           1     0.8908    0.6278    0.7365       403\n",
            "\n",
            "    accuracy                         0.7551       739\n",
            "   macro avg     0.7806    0.7678    0.7539       739\n",
            "weighted avg     0.7906    0.7551    0.7523       739\n",
            "\n",
            "\t[E: 11] valid loss = 0.8790, f1-score = 0.7539, patience:  4\n",
            " Epoch 012\n"
          ]
        },
        {
          "output_type": "stream",
          "name": "stderr",
          "text": [
            "100%|██████████| 562/562 [01:45<00:00,  5.33it/s]\n"
          ]
        },
        {
          "output_type": "stream",
          "name": "stdout",
          "text": [
            "[E: 12] train loss = 0.1005\n"
          ]
        },
        {
          "output_type": "stream",
          "name": "stderr",
          "text": [
            "100%|██████████| 93/93 [00:04<00:00, 19.83it/s]\n"
          ]
        },
        {
          "output_type": "stream",
          "name": "stdout",
          "text": [
            "              precision    recall  f1-score   support\n",
            "\n",
            "           0     0.6682    0.8690    0.7555       336\n",
            "           1     0.8543    0.6402    0.7319       403\n",
            "\n",
            "    accuracy                         0.7442       739\n",
            "   macro avg     0.7612    0.7546    0.7437       739\n",
            "weighted avg     0.7697    0.7442    0.7426       739\n",
            "\n",
            "\t[E: 12] valid loss = 0.9773, f1-score = 0.7437, patience:  3\n",
            " Epoch 013\n"
          ]
        },
        {
          "output_type": "stream",
          "name": "stderr",
          "text": [
            "100%|██████████| 562/562 [01:42<00:00,  5.46it/s]\n"
          ]
        },
        {
          "output_type": "stream",
          "name": "stdout",
          "text": [
            "[E: 13] train loss = 0.1003\n"
          ]
        },
        {
          "output_type": "stream",
          "name": "stderr",
          "text": [
            "100%|██████████| 93/93 [00:04<00:00, 19.89it/s]\n"
          ]
        },
        {
          "output_type": "stream",
          "name": "stdout",
          "text": [
            "              precision    recall  f1-score   support\n",
            "\n",
            "           0     0.6651    0.8631    0.7513       336\n",
            "           1     0.8482    0.6377    0.7280       403\n",
            "\n",
            "    accuracy                         0.7402       739\n",
            "   macro avg     0.7567    0.7504    0.7397       739\n",
            "weighted avg     0.7650    0.7402    0.7386       739\n",
            "\n",
            "\t[E: 13] valid loss = 0.8786, f1-score = 0.7397, patience:  2\n",
            " Epoch 014\n"
          ]
        },
        {
          "output_type": "stream",
          "name": "stderr",
          "text": [
            "100%|██████████| 562/562 [01:42<00:00,  5.46it/s]\n"
          ]
        },
        {
          "output_type": "stream",
          "name": "stdout",
          "text": [
            "[E: 14] train loss = 0.0962\n"
          ]
        },
        {
          "output_type": "stream",
          "name": "stderr",
          "text": [
            "100%|██████████| 93/93 [00:04<00:00, 19.69it/s]\n"
          ]
        },
        {
          "output_type": "stream",
          "name": "stdout",
          "text": [
            "              precision    recall  f1-score   support\n",
            "\n",
            "           0     0.6631    0.9137    0.7685       336\n",
            "           1     0.8949    0.6129    0.7275       403\n",
            "\n",
            "    accuracy                         0.7497       739\n",
            "   macro avg     0.7790    0.7633    0.7480       739\n",
            "weighted avg     0.7895    0.7497    0.7461       739\n",
            "\n",
            "\t[E: 14] valid loss = 0.9723, f1-score = 0.7480, patience:  1\n",
            " Epoch 015\n"
          ]
        },
        {
          "output_type": "stream",
          "name": "stderr",
          "text": [
            "100%|██████████| 562/562 [01:43<00:00,  5.44it/s]\n"
          ]
        },
        {
          "output_type": "stream",
          "name": "stdout",
          "text": [
            "[E: 15] train loss = 0.1046\n"
          ]
        },
        {
          "output_type": "stream",
          "name": "stderr",
          "text": [
            "100%|██████████| 93/93 [00:04<00:00, 19.64it/s]\n"
          ]
        },
        {
          "output_type": "stream",
          "name": "stdout",
          "text": [
            "              precision    recall  f1-score   support\n",
            "\n",
            "           0     0.6395    0.8869    0.7431       336\n",
            "           1     0.8608    0.5831    0.6953       403\n",
            "\n",
            "    accuracy                         0.7212       739\n",
            "   macro avg     0.7501    0.7350    0.7192       739\n",
            "weighted avg     0.7602    0.7212    0.7170       739\n",
            "\n",
            "\t[E: 15] valid loss = 0.9230, f1-score = 0.7192, patience:  0\n",
            "...Done!\n"
          ]
        }
      ],
      "source": [
        "if mode == \"train\":\n",
        "    trainer.train(train_dataloader, dev_dataloader, epochs = 1000, patience = 5)"
      ]
    },
    {
      "cell_type": "markdown",
      "metadata": {
        "id": "hjmcwPBqLq3p"
      },
      "source": [
        "## Predict the test set"
      ]
    },
    {
      "cell_type": "markdown",
      "metadata": {
        "id": "lnZS3NeULq3p"
      },
      "source": [
        "Load the best model checkpoint:"
      ]
    },
    {
      "cell_type": "code",
      "execution_count": null,
      "metadata": {
        "id": "W27iGKuNLq3p"
      },
      "outputs": [],
      "source": [
        "my_model.load_state_dict(torch.load(f\"/content/ner4id/checkpoints/{setting}.pt\"))"
      ]
    },
    {
      "cell_type": "markdown",
      "metadata": {
        "id": "mdXzd-NbLq3p"
      },
      "source": [
        "and then use the model to predict the test set:"
      ]
    },
    {
      "cell_type": "code",
      "source": [
        "import os\n",
        "folder_name = \"predictions\"\n",
        "par_dir = \"/content/ner4id\"\n",
        "path = os.path.join(par_dir, folder_name)\n",
        "os.makedirs(path)"
      ],
      "metadata": {
        "id": "c3ViZ3OUqdXj"
      },
      "execution_count": null,
      "outputs": []
    },
    {
      "cell_type": "code",
      "execution_count": null,
      "metadata": {
        "id": "fjt7AH1FvXyo",
        "outputId": "67aded5e-42a8-4d29-9e0c-2f3c24622ace",
        "colab": {
          "base_uri": "https://localhost:8080/"
        }
      },
      "outputs": [
        {
          "output_type": "stream",
          "name": "stderr",
          "text": [
            "100%|██████████| 293/293 [00:13<00:00, 20.93it/s]\n"
          ]
        }
      ],
      "source": [
        "def padding_mask(batch):\n",
        "        padding = torch.ones_like(batch)\n",
        "        padding[batch == 0] = 0\n",
        "        padding = padding.type(torch.uint8)\n",
        "        return padding\n",
        "\n",
        "def predict(model, test_dataset):\n",
        "\n",
        "    predictions = {}\n",
        "        \n",
        "    model.eval()\n",
        "                \n",
        "    for ids, e, text, expressions, contexts, labels, id, lang in tqdm(test_dataset):\n",
        "        mask1 = padding_mask(expressions)\n",
        "        mask2 = padding_mask(contexts)\n",
        "        \n",
        "        with torch.no_grad():\n",
        "            similarities = model(expressions, contexts, mask1, mask2)\n",
        "\n",
        "        labels = labels.view(-1)\n",
        "\n",
        "        for i in range(len(similarities)):\n",
        "            if similarities[i]>0:\n",
        "                predictions[ids[i]] = 1\n",
        "\n",
        "            else:\n",
        "                predictions[ids[i]] = 0\n",
        "\n",
        "\n",
        "    predictions[\"ID\"] = \"Label\"\n",
        "\n",
        "    if setting == \"zero-shot\":\n",
        "        with open(\"/content/ner4id/data/test_submission_format.csv\") as csvfile:\n",
        "            with open(\"/content/ner4id/predictions/task2_subtaska.csv\", \"w\") as out:\n",
        "                reader = csv.reader(csvfile, delimiter=',')\n",
        "                for row in reader:\n",
        "                    if row[2] == \"zero_shot\" or row[0] == \"ID\":\n",
        "                        out.write(row[0] + \",\" + row[1] + \",\" + row[2] + \",\" + str(predictions[row[0]]) + \"\\n\")\n",
        "                    else:\n",
        "                        out.write(row[0] + \",\" + row[1] + \",\" + row[2] + \",\" + \"\" + \"\\n\")\n",
        "    else:\n",
        "        with open(\"/content/ner4id/data/test_submission_format.csv\") as csvfile:\n",
        "            with open(\"/content/ner4id/predictions/task2_subtaska.csv\", \"w\") as out:\n",
        "                reader = csv.reader(csvfile, delimiter=',')\n",
        "                for row in reader:\n",
        "                    if row[2] == \"one_shot\" or row[0] == \"ID\":\n",
        "                        out.write(row[0] + \",\" + row[1] + \",\" + row[2] + \",\" + str(predictions[row[0]]) + \"\\n\")\n",
        "                    else:\n",
        "                        out.write(row[0] + \",\" + row[1] + \",\" + row[2] + \",\" + \"\" + \"\\n\")    \n",
        "\n",
        "\n",
        "predict(my_model, test_dataloader)"
      ]
    },
    {
      "cell_type": "markdown",
      "metadata": {
        "id": "cIr7Ph4YLq3r"
      },
      "source": [
        "The output file (saved in the /predictions folder) contains predictions in the standard format specified by the competition rules. You can now upload the output file on CodaLab and see the scores obtained by the system on the test set."
      ]
    },
    {
      "cell_type": "markdown",
      "source": [
        "## Multilingual testing\n",
        "\n",
        "\n"
      ],
      "metadata": {
        "id": "aRM17i1b0I3S"
      }
    },
    {
      "cell_type": "code",
      "source": [
        "multi_dataset = \"/content/ner4id/data/final_multi_lingual_spanish.csv\"\n",
        "multi_data = {}\n",
        "idx = 0\n",
        "\n",
        "with open(multi_dataset, newline='', encoding='utf-8') as csvfile:\n",
        "    reader = csv.reader(csvfile, delimiter=',')\n",
        "    for row in reader:\n",
        "\n",
        "        if len((row[3].strip() + row[4].strip() + row[5].strip()).split(\" \")) < 300:\n",
        "            text = row[3].strip()+ \" \" + row[4].strip()+ \" \" + row[5].strip()\n",
        "        elif len((row[3].strip() + row[4].strip()).split(\" \")) < 300:\n",
        "            text = row[3].strip()+ \" \" + row[4].strip()\n",
        "        else:\n",
        "            text = row[4].strip()\n",
        "        \n",
        "        e = row[2].strip()\n",
        "\n",
        "        multi_data[idx] = {\n",
        "                            \"id\": row[0],\n",
        "                            \"lang\": row[1],\n",
        "                            \"expression\": e,\n",
        "                            \"text\": row[4].strip(),\n",
        "                            \"idiomatic\": True #it's just a FAKE label used to maintain the same structure of the dataset entries, \n",
        "                                              #it could be also False\n",
        "                        }\n",
        "                \n",
        "        idx += 1\n",
        "        \n",
        "    \n",
        "print(len(multi_data)) \n"
      ],
      "metadata": {
        "id": "iP2zVck6z_W2",
        "outputId": "8b5a6010-d234-49b4-cb48-b6217c14a352",
        "colab": {
          "base_uri": "https://localhost:8080/"
        }
      },
      "execution_count": null,
      "outputs": [
        {
          "output_type": "stream",
          "name": "stdout",
          "text": [
            "21\n"
          ]
        }
      ]
    },
    {
      "cell_type": "code",
      "source": [
        "multi_dataset = IdiomDataset(multi_data, tokenizer, languages = [\"EN\",\"PT\", \"GL\", \"ESP\"])\n",
        "robust_dataloader = DataLoader(multi_dataset, shuffle=False, collate_fn=collate)\n",
        "print(len(robust_dataloader))"
      ],
      "metadata": {
        "id": "8IhrFsZjKhZk",
        "outputId": "ee8f7cd8-158b-495c-9ffc-808517c7f42a",
        "colab": {
          "base_uri": "https://localhost:8080/"
        }
      },
      "execution_count": null,
      "outputs": [
        {
          "output_type": "stream",
          "name": "stderr",
          "text": [
            "100%|██████████| 21/21 [00:00<00:00, 36.87it/s]"
          ]
        },
        {
          "output_type": "stream",
          "name": "stdout",
          "text": [
            "20\n"
          ]
        },
        {
          "output_type": "stream",
          "name": "stderr",
          "text": [
            "\n"
          ]
        }
      ]
    },
    {
      "cell_type": "code",
      "source": [
        "def predict_robust(model, test_dataset):\n",
        "\n",
        "    predictions = {}\n",
        "        \n",
        "    model.eval()\n",
        "                \n",
        "    for ids, e, text, expressions, contexts, labels, id, lang in tqdm(test_dataset):\n",
        "        mask1 = padding_mask(expressions)\n",
        "        mask2 = padding_mask(contexts)\n",
        "        \n",
        "        with torch.no_grad():\n",
        "            similarities = model(expressions, contexts, mask1, mask2)\n",
        "\n",
        "        labels = labels.view(-1)\n",
        "\n",
        "        for i in range(len(similarities)):\n",
        "            if similarities[i]>0:\n",
        "                predictions[ids[i]] = 1\n",
        "\n",
        "            else:\n",
        "                predictions[ids[i]] = 0\n",
        "    return predictions"
      ],
      "metadata": {
        "id": "sPDDdNB6O0gv"
      },
      "execution_count": null,
      "outputs": []
    },
    {
      "cell_type": "code",
      "source": [
        "predictions = predict_robust(my_model, robust_dataloader)"
      ],
      "metadata": {
        "id": "NNXQzoVxMuIF",
        "outputId": "33539d4c-8d09-43f6-fe32-e992b45a4e9f",
        "colab": {
          "base_uri": "https://localhost:8080/"
        }
      },
      "execution_count": null,
      "outputs": [
        {
          "output_type": "stream",
          "name": "stderr",
          "text": [
            "100%|██████████| 20/20 [00:00<00:00, 41.32it/s]\n"
          ]
        }
      ]
    },
    {
      "cell_type": "code",
      "source": [
        "import pandas as pd\n",
        "actual = pd.read_csv(\"/content/ner4id/data/spanish_key - Sheet1.csv\")\n",
        "actual_values = actual['Label'].tolist()\n",
        "len(actual_values)"
      ],
      "metadata": {
        "id": "BkVPtTesOkfq",
        "outputId": "e68fed52-3787-4660-9bb5-e8d0f77c9ea7",
        "colab": {
          "base_uri": "https://localhost:8080/"
        }
      },
      "execution_count": null,
      "outputs": [
        {
          "output_type": "execute_result",
          "data": {
            "text/plain": [
              "20"
            ]
          },
          "metadata": {},
          "execution_count": 63
        }
      ]
    },
    {
      "cell_type": "code",
      "source": [
        "list_pred = predictions.values()\n",
        "list_pred = list(list_pred)"
      ],
      "metadata": {
        "id": "IQ7u7YazVC_G"
      },
      "execution_count": null,
      "outputs": []
    },
    {
      "cell_type": "code",
      "source": [],
      "metadata": {
        "id": "ATP6NBBIV4o-"
      },
      "execution_count": null,
      "outputs": []
    },
    {
      "cell_type": "code",
      "source": [],
      "metadata": {
        "id": "134XK2prV_n9"
      },
      "execution_count": null,
      "outputs": []
    },
    {
      "cell_type": "code",
      "source": [
        "print(classification_report(actual_values, list_pred, digits=4))"
      ],
      "metadata": {
        "id": "CVUnFDmhUj87",
        "outputId": "c2242656-57d3-462a-f1b3-890bf98663c0",
        "colab": {
          "base_uri": "https://localhost:8080/"
        }
      },
      "execution_count": null,
      "outputs": [
        {
          "output_type": "stream",
          "name": "stdout",
          "text": [
            "              precision    recall  f1-score   support\n",
            "\n",
            "           0     0.5882    1.0000    0.7407        10\n",
            "           1     1.0000    0.3000    0.4615        10\n",
            "\n",
            "    accuracy                         0.6500        20\n",
            "   macro avg     0.7941    0.6500    0.6011        20\n",
            "weighted avg     0.7941    0.6500    0.6011        20\n",
            "\n"
          ]
        }
      ]
    },
    {
      "cell_type": "code",
      "source": [],
      "metadata": {
        "id": "LvfnMfs5U9yp"
      },
      "execution_count": null,
      "outputs": []
    }
  ],
  "metadata": {
    "accelerator": "GPU",
    "colab": {
      "provenance": []
    },
    "interpreter": {
      "hash": "6f64be793538f7fe230f350828c9baf03d97c4df0981f52e8388f53f367f4a42"
    },
    "kernelspec": {
      "display_name": "Python 3.8.12 ('torch')",
      "language": "python",
      "name": "python3"
    },
    "language_info": {
      "codemirror_mode": {
        "name": "ipython",
        "version": 3
      },
      "file_extension": ".py",
      "mimetype": "text/x-python",
      "name": "python",
      "nbconvert_exporter": "python",
      "pygments_lexer": "ipython3",
      "version": "3.8.12"
    },
    "widgets": {
      "application/vnd.jupyter.widget-state+json": {
        "e7e39b2f25af41bbb49093f2b8ca8435": {
          "model_module": "@jupyter-widgets/controls",
          "model_name": "HBoxModel",
          "model_module_version": "1.5.0",
          "state": {
            "_dom_classes": [],
            "_model_module": "@jupyter-widgets/controls",
            "_model_module_version": "1.5.0",
            "_model_name": "HBoxModel",
            "_view_count": null,
            "_view_module": "@jupyter-widgets/controls",
            "_view_module_version": "1.5.0",
            "_view_name": "HBoxView",
            "box_style": "",
            "children": [
              "IPY_MODEL_45dd7214da834e7f9cc42a259525859e",
              "IPY_MODEL_0bf6f9c7a9c348ca8417a5c9c0f5b886",
              "IPY_MODEL_f1a4055043f3478384960a76b723b167"
            ],
            "layout": "IPY_MODEL_93d38c70c27e4c6596ddf88562fe7f40"
          }
        },
        "45dd7214da834e7f9cc42a259525859e": {
          "model_module": "@jupyter-widgets/controls",
          "model_name": "HTMLModel",
          "model_module_version": "1.5.0",
          "state": {
            "_dom_classes": [],
            "_model_module": "@jupyter-widgets/controls",
            "_model_module_version": "1.5.0",
            "_model_name": "HTMLModel",
            "_view_count": null,
            "_view_module": "@jupyter-widgets/controls",
            "_view_module_version": "1.5.0",
            "_view_name": "HTMLView",
            "description": "",
            "description_tooltip": null,
            "layout": "IPY_MODEL_194d9031752648798110a9b3857bb200",
            "placeholder": "​",
            "style": "IPY_MODEL_3cd874e3db3b4813b5ee76800a02446e",
            "value": "Downloading (…)lve/main/config.json: 100%"
          }
        },
        "0bf6f9c7a9c348ca8417a5c9c0f5b886": {
          "model_module": "@jupyter-widgets/controls",
          "model_name": "FloatProgressModel",
          "model_module_version": "1.5.0",
          "state": {
            "_dom_classes": [],
            "_model_module": "@jupyter-widgets/controls",
            "_model_module_version": "1.5.0",
            "_model_name": "FloatProgressModel",
            "_view_count": null,
            "_view_module": "@jupyter-widgets/controls",
            "_view_module_version": "1.5.0",
            "_view_name": "ProgressView",
            "bar_style": "success",
            "description": "",
            "description_tooltip": null,
            "layout": "IPY_MODEL_56a971855f204bd681104ffad0b515fb",
            "max": 615,
            "min": 0,
            "orientation": "horizontal",
            "style": "IPY_MODEL_59d08b2a61df46ee89e2335176dd0397",
            "value": 615
          }
        },
        "f1a4055043f3478384960a76b723b167": {
          "model_module": "@jupyter-widgets/controls",
          "model_name": "HTMLModel",
          "model_module_version": "1.5.0",
          "state": {
            "_dom_classes": [],
            "_model_module": "@jupyter-widgets/controls",
            "_model_module_version": "1.5.0",
            "_model_name": "HTMLModel",
            "_view_count": null,
            "_view_module": "@jupyter-widgets/controls",
            "_view_module_version": "1.5.0",
            "_view_name": "HTMLView",
            "description": "",
            "description_tooltip": null,
            "layout": "IPY_MODEL_17b65f6a39bf490aae31f7191534e093",
            "placeholder": "​",
            "style": "IPY_MODEL_aead876e93cd4aaf87293c4d8e90dc16",
            "value": " 615/615 [00:00&lt;00:00, 20.7kB/s]"
          }
        },
        "93d38c70c27e4c6596ddf88562fe7f40": {
          "model_module": "@jupyter-widgets/base",
          "model_name": "LayoutModel",
          "model_module_version": "1.2.0",
          "state": {
            "_model_module": "@jupyter-widgets/base",
            "_model_module_version": "1.2.0",
            "_model_name": "LayoutModel",
            "_view_count": null,
            "_view_module": "@jupyter-widgets/base",
            "_view_module_version": "1.2.0",
            "_view_name": "LayoutView",
            "align_content": null,
            "align_items": null,
            "align_self": null,
            "border": null,
            "bottom": null,
            "display": null,
            "flex": null,
            "flex_flow": null,
            "grid_area": null,
            "grid_auto_columns": null,
            "grid_auto_flow": null,
            "grid_auto_rows": null,
            "grid_column": null,
            "grid_gap": null,
            "grid_row": null,
            "grid_template_areas": null,
            "grid_template_columns": null,
            "grid_template_rows": null,
            "height": null,
            "justify_content": null,
            "justify_items": null,
            "left": null,
            "margin": null,
            "max_height": null,
            "max_width": null,
            "min_height": null,
            "min_width": null,
            "object_fit": null,
            "object_position": null,
            "order": null,
            "overflow": null,
            "overflow_x": null,
            "overflow_y": null,
            "padding": null,
            "right": null,
            "top": null,
            "visibility": null,
            "width": null
          }
        },
        "194d9031752648798110a9b3857bb200": {
          "model_module": "@jupyter-widgets/base",
          "model_name": "LayoutModel",
          "model_module_version": "1.2.0",
          "state": {
            "_model_module": "@jupyter-widgets/base",
            "_model_module_version": "1.2.0",
            "_model_name": "LayoutModel",
            "_view_count": null,
            "_view_module": "@jupyter-widgets/base",
            "_view_module_version": "1.2.0",
            "_view_name": "LayoutView",
            "align_content": null,
            "align_items": null,
            "align_self": null,
            "border": null,
            "bottom": null,
            "display": null,
            "flex": null,
            "flex_flow": null,
            "grid_area": null,
            "grid_auto_columns": null,
            "grid_auto_flow": null,
            "grid_auto_rows": null,
            "grid_column": null,
            "grid_gap": null,
            "grid_row": null,
            "grid_template_areas": null,
            "grid_template_columns": null,
            "grid_template_rows": null,
            "height": null,
            "justify_content": null,
            "justify_items": null,
            "left": null,
            "margin": null,
            "max_height": null,
            "max_width": null,
            "min_height": null,
            "min_width": null,
            "object_fit": null,
            "object_position": null,
            "order": null,
            "overflow": null,
            "overflow_x": null,
            "overflow_y": null,
            "padding": null,
            "right": null,
            "top": null,
            "visibility": null,
            "width": null
          }
        },
        "3cd874e3db3b4813b5ee76800a02446e": {
          "model_module": "@jupyter-widgets/controls",
          "model_name": "DescriptionStyleModel",
          "model_module_version": "1.5.0",
          "state": {
            "_model_module": "@jupyter-widgets/controls",
            "_model_module_version": "1.5.0",
            "_model_name": "DescriptionStyleModel",
            "_view_count": null,
            "_view_module": "@jupyter-widgets/base",
            "_view_module_version": "1.2.0",
            "_view_name": "StyleView",
            "description_width": ""
          }
        },
        "56a971855f204bd681104ffad0b515fb": {
          "model_module": "@jupyter-widgets/base",
          "model_name": "LayoutModel",
          "model_module_version": "1.2.0",
          "state": {
            "_model_module": "@jupyter-widgets/base",
            "_model_module_version": "1.2.0",
            "_model_name": "LayoutModel",
            "_view_count": null,
            "_view_module": "@jupyter-widgets/base",
            "_view_module_version": "1.2.0",
            "_view_name": "LayoutView",
            "align_content": null,
            "align_items": null,
            "align_self": null,
            "border": null,
            "bottom": null,
            "display": null,
            "flex": null,
            "flex_flow": null,
            "grid_area": null,
            "grid_auto_columns": null,
            "grid_auto_flow": null,
            "grid_auto_rows": null,
            "grid_column": null,
            "grid_gap": null,
            "grid_row": null,
            "grid_template_areas": null,
            "grid_template_columns": null,
            "grid_template_rows": null,
            "height": null,
            "justify_content": null,
            "justify_items": null,
            "left": null,
            "margin": null,
            "max_height": null,
            "max_width": null,
            "min_height": null,
            "min_width": null,
            "object_fit": null,
            "object_position": null,
            "order": null,
            "overflow": null,
            "overflow_x": null,
            "overflow_y": null,
            "padding": null,
            "right": null,
            "top": null,
            "visibility": null,
            "width": null
          }
        },
        "59d08b2a61df46ee89e2335176dd0397": {
          "model_module": "@jupyter-widgets/controls",
          "model_name": "ProgressStyleModel",
          "model_module_version": "1.5.0",
          "state": {
            "_model_module": "@jupyter-widgets/controls",
            "_model_module_version": "1.5.0",
            "_model_name": "ProgressStyleModel",
            "_view_count": null,
            "_view_module": "@jupyter-widgets/base",
            "_view_module_version": "1.2.0",
            "_view_name": "StyleView",
            "bar_color": null,
            "description_width": ""
          }
        },
        "17b65f6a39bf490aae31f7191534e093": {
          "model_module": "@jupyter-widgets/base",
          "model_name": "LayoutModel",
          "model_module_version": "1.2.0",
          "state": {
            "_model_module": "@jupyter-widgets/base",
            "_model_module_version": "1.2.0",
            "_model_name": "LayoutModel",
            "_view_count": null,
            "_view_module": "@jupyter-widgets/base",
            "_view_module_version": "1.2.0",
            "_view_name": "LayoutView",
            "align_content": null,
            "align_items": null,
            "align_self": null,
            "border": null,
            "bottom": null,
            "display": null,
            "flex": null,
            "flex_flow": null,
            "grid_area": null,
            "grid_auto_columns": null,
            "grid_auto_flow": null,
            "grid_auto_rows": null,
            "grid_column": null,
            "grid_gap": null,
            "grid_row": null,
            "grid_template_areas": null,
            "grid_template_columns": null,
            "grid_template_rows": null,
            "height": null,
            "justify_content": null,
            "justify_items": null,
            "left": null,
            "margin": null,
            "max_height": null,
            "max_width": null,
            "min_height": null,
            "min_width": null,
            "object_fit": null,
            "object_position": null,
            "order": null,
            "overflow": null,
            "overflow_x": null,
            "overflow_y": null,
            "padding": null,
            "right": null,
            "top": null,
            "visibility": null,
            "width": null
          }
        },
        "aead876e93cd4aaf87293c4d8e90dc16": {
          "model_module": "@jupyter-widgets/controls",
          "model_name": "DescriptionStyleModel",
          "model_module_version": "1.5.0",
          "state": {
            "_model_module": "@jupyter-widgets/controls",
            "_model_module_version": "1.5.0",
            "_model_name": "DescriptionStyleModel",
            "_view_count": null,
            "_view_module": "@jupyter-widgets/base",
            "_view_module_version": "1.2.0",
            "_view_name": "StyleView",
            "description_width": ""
          }
        },
        "59bdeae5474c4f628dab00f84ff4b3b1": {
          "model_module": "@jupyter-widgets/controls",
          "model_name": "HBoxModel",
          "model_module_version": "1.5.0",
          "state": {
            "_dom_classes": [],
            "_model_module": "@jupyter-widgets/controls",
            "_model_module_version": "1.5.0",
            "_model_name": "HBoxModel",
            "_view_count": null,
            "_view_module": "@jupyter-widgets/controls",
            "_view_module_version": "1.5.0",
            "_view_name": "HBoxView",
            "box_style": "",
            "children": [
              "IPY_MODEL_f9db3bec8adb4a1594b7a1a290a38ea7",
              "IPY_MODEL_26b2c9c9de764102bcbfd9b5692b6783",
              "IPY_MODEL_777f3035e05c4f1bb81cc3e72e7f7ff5"
            ],
            "layout": "IPY_MODEL_c235a5a702d1434e978efa642da91f1d"
          }
        },
        "f9db3bec8adb4a1594b7a1a290a38ea7": {
          "model_module": "@jupyter-widgets/controls",
          "model_name": "HTMLModel",
          "model_module_version": "1.5.0",
          "state": {
            "_dom_classes": [],
            "_model_module": "@jupyter-widgets/controls",
            "_model_module_version": "1.5.0",
            "_model_name": "HTMLModel",
            "_view_count": null,
            "_view_module": "@jupyter-widgets/controls",
            "_view_module_version": "1.5.0",
            "_view_name": "HTMLView",
            "description": "",
            "description_tooltip": null,
            "layout": "IPY_MODEL_eee7d4cae437461293e3c5b6a79b8786",
            "placeholder": "​",
            "style": "IPY_MODEL_e3bd5f00f68d4ab596f81cc00601be96",
            "value": "Downloading (…)tencepiece.bpe.model: 100%"
          }
        },
        "26b2c9c9de764102bcbfd9b5692b6783": {
          "model_module": "@jupyter-widgets/controls",
          "model_name": "FloatProgressModel",
          "model_module_version": "1.5.0",
          "state": {
            "_dom_classes": [],
            "_model_module": "@jupyter-widgets/controls",
            "_model_module_version": "1.5.0",
            "_model_name": "FloatProgressModel",
            "_view_count": null,
            "_view_module": "@jupyter-widgets/controls",
            "_view_module_version": "1.5.0",
            "_view_name": "ProgressView",
            "bar_style": "success",
            "description": "",
            "description_tooltip": null,
            "layout": "IPY_MODEL_469b2337bf5e46469a4f3bdc765c4416",
            "max": 5069051,
            "min": 0,
            "orientation": "horizontal",
            "style": "IPY_MODEL_b81888cf05b84f2490e42f4776ab39e3",
            "value": 5069051
          }
        },
        "777f3035e05c4f1bb81cc3e72e7f7ff5": {
          "model_module": "@jupyter-widgets/controls",
          "model_name": "HTMLModel",
          "model_module_version": "1.5.0",
          "state": {
            "_dom_classes": [],
            "_model_module": "@jupyter-widgets/controls",
            "_model_module_version": "1.5.0",
            "_model_name": "HTMLModel",
            "_view_count": null,
            "_view_module": "@jupyter-widgets/controls",
            "_view_module_version": "1.5.0",
            "_view_name": "HTMLView",
            "description": "",
            "description_tooltip": null,
            "layout": "IPY_MODEL_6b2b0c10910040b8a30babfaca415db1",
            "placeholder": "​",
            "style": "IPY_MODEL_765b537ff16d42dcac1930a54d4ac30c",
            "value": " 5.07M/5.07M [00:00&lt;00:00, 16.0MB/s]"
          }
        },
        "c235a5a702d1434e978efa642da91f1d": {
          "model_module": "@jupyter-widgets/base",
          "model_name": "LayoutModel",
          "model_module_version": "1.2.0",
          "state": {
            "_model_module": "@jupyter-widgets/base",
            "_model_module_version": "1.2.0",
            "_model_name": "LayoutModel",
            "_view_count": null,
            "_view_module": "@jupyter-widgets/base",
            "_view_module_version": "1.2.0",
            "_view_name": "LayoutView",
            "align_content": null,
            "align_items": null,
            "align_self": null,
            "border": null,
            "bottom": null,
            "display": null,
            "flex": null,
            "flex_flow": null,
            "grid_area": null,
            "grid_auto_columns": null,
            "grid_auto_flow": null,
            "grid_auto_rows": null,
            "grid_column": null,
            "grid_gap": null,
            "grid_row": null,
            "grid_template_areas": null,
            "grid_template_columns": null,
            "grid_template_rows": null,
            "height": null,
            "justify_content": null,
            "justify_items": null,
            "left": null,
            "margin": null,
            "max_height": null,
            "max_width": null,
            "min_height": null,
            "min_width": null,
            "object_fit": null,
            "object_position": null,
            "order": null,
            "overflow": null,
            "overflow_x": null,
            "overflow_y": null,
            "padding": null,
            "right": null,
            "top": null,
            "visibility": null,
            "width": null
          }
        },
        "eee7d4cae437461293e3c5b6a79b8786": {
          "model_module": "@jupyter-widgets/base",
          "model_name": "LayoutModel",
          "model_module_version": "1.2.0",
          "state": {
            "_model_module": "@jupyter-widgets/base",
            "_model_module_version": "1.2.0",
            "_model_name": "LayoutModel",
            "_view_count": null,
            "_view_module": "@jupyter-widgets/base",
            "_view_module_version": "1.2.0",
            "_view_name": "LayoutView",
            "align_content": null,
            "align_items": null,
            "align_self": null,
            "border": null,
            "bottom": null,
            "display": null,
            "flex": null,
            "flex_flow": null,
            "grid_area": null,
            "grid_auto_columns": null,
            "grid_auto_flow": null,
            "grid_auto_rows": null,
            "grid_column": null,
            "grid_gap": null,
            "grid_row": null,
            "grid_template_areas": null,
            "grid_template_columns": null,
            "grid_template_rows": null,
            "height": null,
            "justify_content": null,
            "justify_items": null,
            "left": null,
            "margin": null,
            "max_height": null,
            "max_width": null,
            "min_height": null,
            "min_width": null,
            "object_fit": null,
            "object_position": null,
            "order": null,
            "overflow": null,
            "overflow_x": null,
            "overflow_y": null,
            "padding": null,
            "right": null,
            "top": null,
            "visibility": null,
            "width": null
          }
        },
        "e3bd5f00f68d4ab596f81cc00601be96": {
          "model_module": "@jupyter-widgets/controls",
          "model_name": "DescriptionStyleModel",
          "model_module_version": "1.5.0",
          "state": {
            "_model_module": "@jupyter-widgets/controls",
            "_model_module_version": "1.5.0",
            "_model_name": "DescriptionStyleModel",
            "_view_count": null,
            "_view_module": "@jupyter-widgets/base",
            "_view_module_version": "1.2.0",
            "_view_name": "StyleView",
            "description_width": ""
          }
        },
        "469b2337bf5e46469a4f3bdc765c4416": {
          "model_module": "@jupyter-widgets/base",
          "model_name": "LayoutModel",
          "model_module_version": "1.2.0",
          "state": {
            "_model_module": "@jupyter-widgets/base",
            "_model_module_version": "1.2.0",
            "_model_name": "LayoutModel",
            "_view_count": null,
            "_view_module": "@jupyter-widgets/base",
            "_view_module_version": "1.2.0",
            "_view_name": "LayoutView",
            "align_content": null,
            "align_items": null,
            "align_self": null,
            "border": null,
            "bottom": null,
            "display": null,
            "flex": null,
            "flex_flow": null,
            "grid_area": null,
            "grid_auto_columns": null,
            "grid_auto_flow": null,
            "grid_auto_rows": null,
            "grid_column": null,
            "grid_gap": null,
            "grid_row": null,
            "grid_template_areas": null,
            "grid_template_columns": null,
            "grid_template_rows": null,
            "height": null,
            "justify_content": null,
            "justify_items": null,
            "left": null,
            "margin": null,
            "max_height": null,
            "max_width": null,
            "min_height": null,
            "min_width": null,
            "object_fit": null,
            "object_position": null,
            "order": null,
            "overflow": null,
            "overflow_x": null,
            "overflow_y": null,
            "padding": null,
            "right": null,
            "top": null,
            "visibility": null,
            "width": null
          }
        },
        "b81888cf05b84f2490e42f4776ab39e3": {
          "model_module": "@jupyter-widgets/controls",
          "model_name": "ProgressStyleModel",
          "model_module_version": "1.5.0",
          "state": {
            "_model_module": "@jupyter-widgets/controls",
            "_model_module_version": "1.5.0",
            "_model_name": "ProgressStyleModel",
            "_view_count": null,
            "_view_module": "@jupyter-widgets/base",
            "_view_module_version": "1.2.0",
            "_view_name": "StyleView",
            "bar_color": null,
            "description_width": ""
          }
        },
        "6b2b0c10910040b8a30babfaca415db1": {
          "model_module": "@jupyter-widgets/base",
          "model_name": "LayoutModel",
          "model_module_version": "1.2.0",
          "state": {
            "_model_module": "@jupyter-widgets/base",
            "_model_module_version": "1.2.0",
            "_model_name": "LayoutModel",
            "_view_count": null,
            "_view_module": "@jupyter-widgets/base",
            "_view_module_version": "1.2.0",
            "_view_name": "LayoutView",
            "align_content": null,
            "align_items": null,
            "align_self": null,
            "border": null,
            "bottom": null,
            "display": null,
            "flex": null,
            "flex_flow": null,
            "grid_area": null,
            "grid_auto_columns": null,
            "grid_auto_flow": null,
            "grid_auto_rows": null,
            "grid_column": null,
            "grid_gap": null,
            "grid_row": null,
            "grid_template_areas": null,
            "grid_template_columns": null,
            "grid_template_rows": null,
            "height": null,
            "justify_content": null,
            "justify_items": null,
            "left": null,
            "margin": null,
            "max_height": null,
            "max_width": null,
            "min_height": null,
            "min_width": null,
            "object_fit": null,
            "object_position": null,
            "order": null,
            "overflow": null,
            "overflow_x": null,
            "overflow_y": null,
            "padding": null,
            "right": null,
            "top": null,
            "visibility": null,
            "width": null
          }
        },
        "765b537ff16d42dcac1930a54d4ac30c": {
          "model_module": "@jupyter-widgets/controls",
          "model_name": "DescriptionStyleModel",
          "model_module_version": "1.5.0",
          "state": {
            "_model_module": "@jupyter-widgets/controls",
            "_model_module_version": "1.5.0",
            "_model_name": "DescriptionStyleModel",
            "_view_count": null,
            "_view_module": "@jupyter-widgets/base",
            "_view_module_version": "1.2.0",
            "_view_name": "StyleView",
            "description_width": ""
          }
        },
        "9ba5e5a05d174de0adbd4816a65cac12": {
          "model_module": "@jupyter-widgets/controls",
          "model_name": "HBoxModel",
          "model_module_version": "1.5.0",
          "state": {
            "_dom_classes": [],
            "_model_module": "@jupyter-widgets/controls",
            "_model_module_version": "1.5.0",
            "_model_name": "HBoxModel",
            "_view_count": null,
            "_view_module": "@jupyter-widgets/controls",
            "_view_module_version": "1.5.0",
            "_view_name": "HBoxView",
            "box_style": "",
            "children": [
              "IPY_MODEL_fbbaca796ada4e40ba87a28805510f79",
              "IPY_MODEL_4e788b3b86164e24805e493dd6e2701e",
              "IPY_MODEL_2ebaa654db0745c78c01bd2ccbe27180"
            ],
            "layout": "IPY_MODEL_d1437122b24446fdb8e342af66eba0bc"
          }
        },
        "fbbaca796ada4e40ba87a28805510f79": {
          "model_module": "@jupyter-widgets/controls",
          "model_name": "HTMLModel",
          "model_module_version": "1.5.0",
          "state": {
            "_dom_classes": [],
            "_model_module": "@jupyter-widgets/controls",
            "_model_module_version": "1.5.0",
            "_model_name": "HTMLModel",
            "_view_count": null,
            "_view_module": "@jupyter-widgets/controls",
            "_view_module_version": "1.5.0",
            "_view_name": "HTMLView",
            "description": "",
            "description_tooltip": null,
            "layout": "IPY_MODEL_77928ae1bb7d41099c90c81e717070c1",
            "placeholder": "​",
            "style": "IPY_MODEL_861470c3873f4383844cab1518625a60",
            "value": "Downloading (…)/main/tokenizer.json: 100%"
          }
        },
        "4e788b3b86164e24805e493dd6e2701e": {
          "model_module": "@jupyter-widgets/controls",
          "model_name": "FloatProgressModel",
          "model_module_version": "1.5.0",
          "state": {
            "_dom_classes": [],
            "_model_module": "@jupyter-widgets/controls",
            "_model_module_version": "1.5.0",
            "_model_name": "FloatProgressModel",
            "_view_count": null,
            "_view_module": "@jupyter-widgets/controls",
            "_view_module_version": "1.5.0",
            "_view_name": "ProgressView",
            "bar_style": "success",
            "description": "",
            "description_tooltip": null,
            "layout": "IPY_MODEL_57b9a785ef38457caea4b58ed83fd546",
            "max": 9096718,
            "min": 0,
            "orientation": "horizontal",
            "style": "IPY_MODEL_8f4a37a33ef44a15ac09b20d14f1770b",
            "value": 9096718
          }
        },
        "2ebaa654db0745c78c01bd2ccbe27180": {
          "model_module": "@jupyter-widgets/controls",
          "model_name": "HTMLModel",
          "model_module_version": "1.5.0",
          "state": {
            "_dom_classes": [],
            "_model_module": "@jupyter-widgets/controls",
            "_model_module_version": "1.5.0",
            "_model_name": "HTMLModel",
            "_view_count": null,
            "_view_module": "@jupyter-widgets/controls",
            "_view_module_version": "1.5.0",
            "_view_name": "HTMLView",
            "description": "",
            "description_tooltip": null,
            "layout": "IPY_MODEL_e4965d0709994ffaaa8168e973a8bfc6",
            "placeholder": "​",
            "style": "IPY_MODEL_d0fe5e8e7e4e4731ad9ba48eb9aa98b9",
            "value": " 9.10M/9.10M [00:00&lt;00:00, 16.6MB/s]"
          }
        },
        "d1437122b24446fdb8e342af66eba0bc": {
          "model_module": "@jupyter-widgets/base",
          "model_name": "LayoutModel",
          "model_module_version": "1.2.0",
          "state": {
            "_model_module": "@jupyter-widgets/base",
            "_model_module_version": "1.2.0",
            "_model_name": "LayoutModel",
            "_view_count": null,
            "_view_module": "@jupyter-widgets/base",
            "_view_module_version": "1.2.0",
            "_view_name": "LayoutView",
            "align_content": null,
            "align_items": null,
            "align_self": null,
            "border": null,
            "bottom": null,
            "display": null,
            "flex": null,
            "flex_flow": null,
            "grid_area": null,
            "grid_auto_columns": null,
            "grid_auto_flow": null,
            "grid_auto_rows": null,
            "grid_column": null,
            "grid_gap": null,
            "grid_row": null,
            "grid_template_areas": null,
            "grid_template_columns": null,
            "grid_template_rows": null,
            "height": null,
            "justify_content": null,
            "justify_items": null,
            "left": null,
            "margin": null,
            "max_height": null,
            "max_width": null,
            "min_height": null,
            "min_width": null,
            "object_fit": null,
            "object_position": null,
            "order": null,
            "overflow": null,
            "overflow_x": null,
            "overflow_y": null,
            "padding": null,
            "right": null,
            "top": null,
            "visibility": null,
            "width": null
          }
        },
        "77928ae1bb7d41099c90c81e717070c1": {
          "model_module": "@jupyter-widgets/base",
          "model_name": "LayoutModel",
          "model_module_version": "1.2.0",
          "state": {
            "_model_module": "@jupyter-widgets/base",
            "_model_module_version": "1.2.0",
            "_model_name": "LayoutModel",
            "_view_count": null,
            "_view_module": "@jupyter-widgets/base",
            "_view_module_version": "1.2.0",
            "_view_name": "LayoutView",
            "align_content": null,
            "align_items": null,
            "align_self": null,
            "border": null,
            "bottom": null,
            "display": null,
            "flex": null,
            "flex_flow": null,
            "grid_area": null,
            "grid_auto_columns": null,
            "grid_auto_flow": null,
            "grid_auto_rows": null,
            "grid_column": null,
            "grid_gap": null,
            "grid_row": null,
            "grid_template_areas": null,
            "grid_template_columns": null,
            "grid_template_rows": null,
            "height": null,
            "justify_content": null,
            "justify_items": null,
            "left": null,
            "margin": null,
            "max_height": null,
            "max_width": null,
            "min_height": null,
            "min_width": null,
            "object_fit": null,
            "object_position": null,
            "order": null,
            "overflow": null,
            "overflow_x": null,
            "overflow_y": null,
            "padding": null,
            "right": null,
            "top": null,
            "visibility": null,
            "width": null
          }
        },
        "861470c3873f4383844cab1518625a60": {
          "model_module": "@jupyter-widgets/controls",
          "model_name": "DescriptionStyleModel",
          "model_module_version": "1.5.0",
          "state": {
            "_model_module": "@jupyter-widgets/controls",
            "_model_module_version": "1.5.0",
            "_model_name": "DescriptionStyleModel",
            "_view_count": null,
            "_view_module": "@jupyter-widgets/base",
            "_view_module_version": "1.2.0",
            "_view_name": "StyleView",
            "description_width": ""
          }
        },
        "57b9a785ef38457caea4b58ed83fd546": {
          "model_module": "@jupyter-widgets/base",
          "model_name": "LayoutModel",
          "model_module_version": "1.2.0",
          "state": {
            "_model_module": "@jupyter-widgets/base",
            "_model_module_version": "1.2.0",
            "_model_name": "LayoutModel",
            "_view_count": null,
            "_view_module": "@jupyter-widgets/base",
            "_view_module_version": "1.2.0",
            "_view_name": "LayoutView",
            "align_content": null,
            "align_items": null,
            "align_self": null,
            "border": null,
            "bottom": null,
            "display": null,
            "flex": null,
            "flex_flow": null,
            "grid_area": null,
            "grid_auto_columns": null,
            "grid_auto_flow": null,
            "grid_auto_rows": null,
            "grid_column": null,
            "grid_gap": null,
            "grid_row": null,
            "grid_template_areas": null,
            "grid_template_columns": null,
            "grid_template_rows": null,
            "height": null,
            "justify_content": null,
            "justify_items": null,
            "left": null,
            "margin": null,
            "max_height": null,
            "max_width": null,
            "min_height": null,
            "min_width": null,
            "object_fit": null,
            "object_position": null,
            "order": null,
            "overflow": null,
            "overflow_x": null,
            "overflow_y": null,
            "padding": null,
            "right": null,
            "top": null,
            "visibility": null,
            "width": null
          }
        },
        "8f4a37a33ef44a15ac09b20d14f1770b": {
          "model_module": "@jupyter-widgets/controls",
          "model_name": "ProgressStyleModel",
          "model_module_version": "1.5.0",
          "state": {
            "_model_module": "@jupyter-widgets/controls",
            "_model_module_version": "1.5.0",
            "_model_name": "ProgressStyleModel",
            "_view_count": null,
            "_view_module": "@jupyter-widgets/base",
            "_view_module_version": "1.2.0",
            "_view_name": "StyleView",
            "bar_color": null,
            "description_width": ""
          }
        },
        "e4965d0709994ffaaa8168e973a8bfc6": {
          "model_module": "@jupyter-widgets/base",
          "model_name": "LayoutModel",
          "model_module_version": "1.2.0",
          "state": {
            "_model_module": "@jupyter-widgets/base",
            "_model_module_version": "1.2.0",
            "_model_name": "LayoutModel",
            "_view_count": null,
            "_view_module": "@jupyter-widgets/base",
            "_view_module_version": "1.2.0",
            "_view_name": "LayoutView",
            "align_content": null,
            "align_items": null,
            "align_self": null,
            "border": null,
            "bottom": null,
            "display": null,
            "flex": null,
            "flex_flow": null,
            "grid_area": null,
            "grid_auto_columns": null,
            "grid_auto_flow": null,
            "grid_auto_rows": null,
            "grid_column": null,
            "grid_gap": null,
            "grid_row": null,
            "grid_template_areas": null,
            "grid_template_columns": null,
            "grid_template_rows": null,
            "height": null,
            "justify_content": null,
            "justify_items": null,
            "left": null,
            "margin": null,
            "max_height": null,
            "max_width": null,
            "min_height": null,
            "min_width": null,
            "object_fit": null,
            "object_position": null,
            "order": null,
            "overflow": null,
            "overflow_x": null,
            "overflow_y": null,
            "padding": null,
            "right": null,
            "top": null,
            "visibility": null,
            "width": null
          }
        },
        "d0fe5e8e7e4e4731ad9ba48eb9aa98b9": {
          "model_module": "@jupyter-widgets/controls",
          "model_name": "DescriptionStyleModel",
          "model_module_version": "1.5.0",
          "state": {
            "_model_module": "@jupyter-widgets/controls",
            "_model_module_version": "1.5.0",
            "_model_name": "DescriptionStyleModel",
            "_view_count": null,
            "_view_module": "@jupyter-widgets/base",
            "_view_module_version": "1.2.0",
            "_view_name": "StyleView",
            "description_width": ""
          }
        },
        "0b0d49c460aa4640b7dc6be3fdf26fbc": {
          "model_module": "@jupyter-widgets/controls",
          "model_name": "HBoxModel",
          "model_module_version": "1.5.0",
          "state": {
            "_dom_classes": [],
            "_model_module": "@jupyter-widgets/controls",
            "_model_module_version": "1.5.0",
            "_model_name": "HBoxModel",
            "_view_count": null,
            "_view_module": "@jupyter-widgets/controls",
            "_view_module_version": "1.5.0",
            "_view_name": "HBoxView",
            "box_style": "",
            "children": [
              "IPY_MODEL_d2962be34f00429ab4a9684042c2390c",
              "IPY_MODEL_3afb6096b9944bb3b37ff1432e57eccc",
              "IPY_MODEL_9fff6cf356ed40d584811202a307304d"
            ],
            "layout": "IPY_MODEL_8685cf59c2a04be6b8c62b68cb713be3"
          }
        },
        "d2962be34f00429ab4a9684042c2390c": {
          "model_module": "@jupyter-widgets/controls",
          "model_name": "HTMLModel",
          "model_module_version": "1.5.0",
          "state": {
            "_dom_classes": [],
            "_model_module": "@jupyter-widgets/controls",
            "_model_module_version": "1.5.0",
            "_model_name": "HTMLModel",
            "_view_count": null,
            "_view_module": "@jupyter-widgets/controls",
            "_view_module_version": "1.5.0",
            "_view_name": "HTMLView",
            "description": "",
            "description_tooltip": null,
            "layout": "IPY_MODEL_ecb5724c16284d93bb7a113e527be3a8",
            "placeholder": "​",
            "style": "IPY_MODEL_87f8139c700641b58a9c5ea0a3b905f6",
            "value": "Downloading tf_model.h5: 100%"
          }
        },
        "3afb6096b9944bb3b37ff1432e57eccc": {
          "model_module": "@jupyter-widgets/controls",
          "model_name": "FloatProgressModel",
          "model_module_version": "1.5.0",
          "state": {
            "_dom_classes": [],
            "_model_module": "@jupyter-widgets/controls",
            "_model_module_version": "1.5.0",
            "_model_name": "FloatProgressModel",
            "_view_count": null,
            "_view_module": "@jupyter-widgets/controls",
            "_view_module_version": "1.5.0",
            "_view_name": "ProgressView",
            "bar_style": "success",
            "description": "",
            "description_tooltip": null,
            "layout": "IPY_MODEL_0b10cde7d9604b45bea086a088f7b963",
            "max": 1112441536,
            "min": 0,
            "orientation": "horizontal",
            "style": "IPY_MODEL_ddae8aa36bd245cf99651bf82feb9440",
            "value": 1112441536
          }
        },
        "9fff6cf356ed40d584811202a307304d": {
          "model_module": "@jupyter-widgets/controls",
          "model_name": "HTMLModel",
          "model_module_version": "1.5.0",
          "state": {
            "_dom_classes": [],
            "_model_module": "@jupyter-widgets/controls",
            "_model_module_version": "1.5.0",
            "_model_name": "HTMLModel",
            "_view_count": null,
            "_view_module": "@jupyter-widgets/controls",
            "_view_module_version": "1.5.0",
            "_view_name": "HTMLView",
            "description": "",
            "description_tooltip": null,
            "layout": "IPY_MODEL_c9e8cd13cad14f1297e20009b15b03cb",
            "placeholder": "​",
            "style": "IPY_MODEL_fd29d98cf96746319678a7d82bc3aa82",
            "value": " 1.11G/1.11G [01:09&lt;00:00, 15.5MB/s]"
          }
        },
        "8685cf59c2a04be6b8c62b68cb713be3": {
          "model_module": "@jupyter-widgets/base",
          "model_name": "LayoutModel",
          "model_module_version": "1.2.0",
          "state": {
            "_model_module": "@jupyter-widgets/base",
            "_model_module_version": "1.2.0",
            "_model_name": "LayoutModel",
            "_view_count": null,
            "_view_module": "@jupyter-widgets/base",
            "_view_module_version": "1.2.0",
            "_view_name": "LayoutView",
            "align_content": null,
            "align_items": null,
            "align_self": null,
            "border": null,
            "bottom": null,
            "display": null,
            "flex": null,
            "flex_flow": null,
            "grid_area": null,
            "grid_auto_columns": null,
            "grid_auto_flow": null,
            "grid_auto_rows": null,
            "grid_column": null,
            "grid_gap": null,
            "grid_row": null,
            "grid_template_areas": null,
            "grid_template_columns": null,
            "grid_template_rows": null,
            "height": null,
            "justify_content": null,
            "justify_items": null,
            "left": null,
            "margin": null,
            "max_height": null,
            "max_width": null,
            "min_height": null,
            "min_width": null,
            "object_fit": null,
            "object_position": null,
            "order": null,
            "overflow": null,
            "overflow_x": null,
            "overflow_y": null,
            "padding": null,
            "right": null,
            "top": null,
            "visibility": null,
            "width": null
          }
        },
        "ecb5724c16284d93bb7a113e527be3a8": {
          "model_module": "@jupyter-widgets/base",
          "model_name": "LayoutModel",
          "model_module_version": "1.2.0",
          "state": {
            "_model_module": "@jupyter-widgets/base",
            "_model_module_version": "1.2.0",
            "_model_name": "LayoutModel",
            "_view_count": null,
            "_view_module": "@jupyter-widgets/base",
            "_view_module_version": "1.2.0",
            "_view_name": "LayoutView",
            "align_content": null,
            "align_items": null,
            "align_self": null,
            "border": null,
            "bottom": null,
            "display": null,
            "flex": null,
            "flex_flow": null,
            "grid_area": null,
            "grid_auto_columns": null,
            "grid_auto_flow": null,
            "grid_auto_rows": null,
            "grid_column": null,
            "grid_gap": null,
            "grid_row": null,
            "grid_template_areas": null,
            "grid_template_columns": null,
            "grid_template_rows": null,
            "height": null,
            "justify_content": null,
            "justify_items": null,
            "left": null,
            "margin": null,
            "max_height": null,
            "max_width": null,
            "min_height": null,
            "min_width": null,
            "object_fit": null,
            "object_position": null,
            "order": null,
            "overflow": null,
            "overflow_x": null,
            "overflow_y": null,
            "padding": null,
            "right": null,
            "top": null,
            "visibility": null,
            "width": null
          }
        },
        "87f8139c700641b58a9c5ea0a3b905f6": {
          "model_module": "@jupyter-widgets/controls",
          "model_name": "DescriptionStyleModel",
          "model_module_version": "1.5.0",
          "state": {
            "_model_module": "@jupyter-widgets/controls",
            "_model_module_version": "1.5.0",
            "_model_name": "DescriptionStyleModel",
            "_view_count": null,
            "_view_module": "@jupyter-widgets/base",
            "_view_module_version": "1.2.0",
            "_view_name": "StyleView",
            "description_width": ""
          }
        },
        "0b10cde7d9604b45bea086a088f7b963": {
          "model_module": "@jupyter-widgets/base",
          "model_name": "LayoutModel",
          "model_module_version": "1.2.0",
          "state": {
            "_model_module": "@jupyter-widgets/base",
            "_model_module_version": "1.2.0",
            "_model_name": "LayoutModel",
            "_view_count": null,
            "_view_module": "@jupyter-widgets/base",
            "_view_module_version": "1.2.0",
            "_view_name": "LayoutView",
            "align_content": null,
            "align_items": null,
            "align_self": null,
            "border": null,
            "bottom": null,
            "display": null,
            "flex": null,
            "flex_flow": null,
            "grid_area": null,
            "grid_auto_columns": null,
            "grid_auto_flow": null,
            "grid_auto_rows": null,
            "grid_column": null,
            "grid_gap": null,
            "grid_row": null,
            "grid_template_areas": null,
            "grid_template_columns": null,
            "grid_template_rows": null,
            "height": null,
            "justify_content": null,
            "justify_items": null,
            "left": null,
            "margin": null,
            "max_height": null,
            "max_width": null,
            "min_height": null,
            "min_width": null,
            "object_fit": null,
            "object_position": null,
            "order": null,
            "overflow": null,
            "overflow_x": null,
            "overflow_y": null,
            "padding": null,
            "right": null,
            "top": null,
            "visibility": null,
            "width": null
          }
        },
        "ddae8aa36bd245cf99651bf82feb9440": {
          "model_module": "@jupyter-widgets/controls",
          "model_name": "ProgressStyleModel",
          "model_module_version": "1.5.0",
          "state": {
            "_model_module": "@jupyter-widgets/controls",
            "_model_module_version": "1.5.0",
            "_model_name": "ProgressStyleModel",
            "_view_count": null,
            "_view_module": "@jupyter-widgets/base",
            "_view_module_version": "1.2.0",
            "_view_name": "StyleView",
            "bar_color": null,
            "description_width": ""
          }
        },
        "c9e8cd13cad14f1297e20009b15b03cb": {
          "model_module": "@jupyter-widgets/base",
          "model_name": "LayoutModel",
          "model_module_version": "1.2.0",
          "state": {
            "_model_module": "@jupyter-widgets/base",
            "_model_module_version": "1.2.0",
            "_model_name": "LayoutModel",
            "_view_count": null,
            "_view_module": "@jupyter-widgets/base",
            "_view_module_version": "1.2.0",
            "_view_name": "LayoutView",
            "align_content": null,
            "align_items": null,
            "align_self": null,
            "border": null,
            "bottom": null,
            "display": null,
            "flex": null,
            "flex_flow": null,
            "grid_area": null,
            "grid_auto_columns": null,
            "grid_auto_flow": null,
            "grid_auto_rows": null,
            "grid_column": null,
            "grid_gap": null,
            "grid_row": null,
            "grid_template_areas": null,
            "grid_template_columns": null,
            "grid_template_rows": null,
            "height": null,
            "justify_content": null,
            "justify_items": null,
            "left": null,
            "margin": null,
            "max_height": null,
            "max_width": null,
            "min_height": null,
            "min_width": null,
            "object_fit": null,
            "object_position": null,
            "order": null,
            "overflow": null,
            "overflow_x": null,
            "overflow_y": null,
            "padding": null,
            "right": null,
            "top": null,
            "visibility": null,
            "width": null
          }
        },
        "fd29d98cf96746319678a7d82bc3aa82": {
          "model_module": "@jupyter-widgets/controls",
          "model_name": "DescriptionStyleModel",
          "model_module_version": "1.5.0",
          "state": {
            "_model_module": "@jupyter-widgets/controls",
            "_model_module_version": "1.5.0",
            "_model_name": "DescriptionStyleModel",
            "_view_count": null,
            "_view_module": "@jupyter-widgets/base",
            "_view_module_version": "1.2.0",
            "_view_name": "StyleView",
            "description_width": ""
          }
        },
        "73820cfbe71849369975efc3f372c682": {
          "model_module": "@jupyter-widgets/controls",
          "model_name": "HBoxModel",
          "model_module_version": "1.5.0",
          "state": {
            "_dom_classes": [],
            "_model_module": "@jupyter-widgets/controls",
            "_model_module_version": "1.5.0",
            "_model_name": "HBoxModel",
            "_view_count": null,
            "_view_module": "@jupyter-widgets/controls",
            "_view_module_version": "1.5.0",
            "_view_name": "HBoxView",
            "box_style": "",
            "children": [
              "IPY_MODEL_f12c3639f2c64568978bf4f6a27551f9",
              "IPY_MODEL_e1f3b2f377b2454e935bd8ce925a2a5b",
              "IPY_MODEL_60cb3cd1e16744cd99d292940c1db097"
            ],
            "layout": "IPY_MODEL_8bde086cab9e4eff938a02440c0bf715"
          }
        },
        "f12c3639f2c64568978bf4f6a27551f9": {
          "model_module": "@jupyter-widgets/controls",
          "model_name": "HTMLModel",
          "model_module_version": "1.5.0",
          "state": {
            "_dom_classes": [],
            "_model_module": "@jupyter-widgets/controls",
            "_model_module_version": "1.5.0",
            "_model_name": "HTMLModel",
            "_view_count": null,
            "_view_module": "@jupyter-widgets/controls",
            "_view_module_version": "1.5.0",
            "_view_name": "HTMLView",
            "description": "",
            "description_tooltip": null,
            "layout": "IPY_MODEL_afb0815f88314719a1e861a5bdf89741",
            "placeholder": "​",
            "style": "IPY_MODEL_cdde620d71214a118394254d771c13c9",
            "value": "Downloading pytorch_model.bin: 100%"
          }
        },
        "e1f3b2f377b2454e935bd8ce925a2a5b": {
          "model_module": "@jupyter-widgets/controls",
          "model_name": "FloatProgressModel",
          "model_module_version": "1.5.0",
          "state": {
            "_dom_classes": [],
            "_model_module": "@jupyter-widgets/controls",
            "_model_module_version": "1.5.0",
            "_model_name": "FloatProgressModel",
            "_view_count": null,
            "_view_module": "@jupyter-widgets/controls",
            "_view_module_version": "1.5.0",
            "_view_name": "ProgressView",
            "bar_style": "success",
            "description": "",
            "description_tooltip": null,
            "layout": "IPY_MODEL_a8436e1ac17a4747abb994b0b76eff2e",
            "max": 1115590446,
            "min": 0,
            "orientation": "horizontal",
            "style": "IPY_MODEL_a930d35e0d4e43a892a6ea40ee27fd79",
            "value": 1115590446
          }
        },
        "60cb3cd1e16744cd99d292940c1db097": {
          "model_module": "@jupyter-widgets/controls",
          "model_name": "HTMLModel",
          "model_module_version": "1.5.0",
          "state": {
            "_dom_classes": [],
            "_model_module": "@jupyter-widgets/controls",
            "_model_module_version": "1.5.0",
            "_model_name": "HTMLModel",
            "_view_count": null,
            "_view_module": "@jupyter-widgets/controls",
            "_view_module_version": "1.5.0",
            "_view_name": "HTMLView",
            "description": "",
            "description_tooltip": null,
            "layout": "IPY_MODEL_ed569489516d44ada04ff36fa56e8e8a",
            "placeholder": "​",
            "style": "IPY_MODEL_727450a96efc47d7995a48104e75c11a",
            "value": " 1.12G/1.12G [01:09&lt;00:00, 16.0MB/s]"
          }
        },
        "8bde086cab9e4eff938a02440c0bf715": {
          "model_module": "@jupyter-widgets/base",
          "model_name": "LayoutModel",
          "model_module_version": "1.2.0",
          "state": {
            "_model_module": "@jupyter-widgets/base",
            "_model_module_version": "1.2.0",
            "_model_name": "LayoutModel",
            "_view_count": null,
            "_view_module": "@jupyter-widgets/base",
            "_view_module_version": "1.2.0",
            "_view_name": "LayoutView",
            "align_content": null,
            "align_items": null,
            "align_self": null,
            "border": null,
            "bottom": null,
            "display": null,
            "flex": null,
            "flex_flow": null,
            "grid_area": null,
            "grid_auto_columns": null,
            "grid_auto_flow": null,
            "grid_auto_rows": null,
            "grid_column": null,
            "grid_gap": null,
            "grid_row": null,
            "grid_template_areas": null,
            "grid_template_columns": null,
            "grid_template_rows": null,
            "height": null,
            "justify_content": null,
            "justify_items": null,
            "left": null,
            "margin": null,
            "max_height": null,
            "max_width": null,
            "min_height": null,
            "min_width": null,
            "object_fit": null,
            "object_position": null,
            "order": null,
            "overflow": null,
            "overflow_x": null,
            "overflow_y": null,
            "padding": null,
            "right": null,
            "top": null,
            "visibility": null,
            "width": null
          }
        },
        "afb0815f88314719a1e861a5bdf89741": {
          "model_module": "@jupyter-widgets/base",
          "model_name": "LayoutModel",
          "model_module_version": "1.2.0",
          "state": {
            "_model_module": "@jupyter-widgets/base",
            "_model_module_version": "1.2.0",
            "_model_name": "LayoutModel",
            "_view_count": null,
            "_view_module": "@jupyter-widgets/base",
            "_view_module_version": "1.2.0",
            "_view_name": "LayoutView",
            "align_content": null,
            "align_items": null,
            "align_self": null,
            "border": null,
            "bottom": null,
            "display": null,
            "flex": null,
            "flex_flow": null,
            "grid_area": null,
            "grid_auto_columns": null,
            "grid_auto_flow": null,
            "grid_auto_rows": null,
            "grid_column": null,
            "grid_gap": null,
            "grid_row": null,
            "grid_template_areas": null,
            "grid_template_columns": null,
            "grid_template_rows": null,
            "height": null,
            "justify_content": null,
            "justify_items": null,
            "left": null,
            "margin": null,
            "max_height": null,
            "max_width": null,
            "min_height": null,
            "min_width": null,
            "object_fit": null,
            "object_position": null,
            "order": null,
            "overflow": null,
            "overflow_x": null,
            "overflow_y": null,
            "padding": null,
            "right": null,
            "top": null,
            "visibility": null,
            "width": null
          }
        },
        "cdde620d71214a118394254d771c13c9": {
          "model_module": "@jupyter-widgets/controls",
          "model_name": "DescriptionStyleModel",
          "model_module_version": "1.5.0",
          "state": {
            "_model_module": "@jupyter-widgets/controls",
            "_model_module_version": "1.5.0",
            "_model_name": "DescriptionStyleModel",
            "_view_count": null,
            "_view_module": "@jupyter-widgets/base",
            "_view_module_version": "1.2.0",
            "_view_name": "StyleView",
            "description_width": ""
          }
        },
        "a8436e1ac17a4747abb994b0b76eff2e": {
          "model_module": "@jupyter-widgets/base",
          "model_name": "LayoutModel",
          "model_module_version": "1.2.0",
          "state": {
            "_model_module": "@jupyter-widgets/base",
            "_model_module_version": "1.2.0",
            "_model_name": "LayoutModel",
            "_view_count": null,
            "_view_module": "@jupyter-widgets/base",
            "_view_module_version": "1.2.0",
            "_view_name": "LayoutView",
            "align_content": null,
            "align_items": null,
            "align_self": null,
            "border": null,
            "bottom": null,
            "display": null,
            "flex": null,
            "flex_flow": null,
            "grid_area": null,
            "grid_auto_columns": null,
            "grid_auto_flow": null,
            "grid_auto_rows": null,
            "grid_column": null,
            "grid_gap": null,
            "grid_row": null,
            "grid_template_areas": null,
            "grid_template_columns": null,
            "grid_template_rows": null,
            "height": null,
            "justify_content": null,
            "justify_items": null,
            "left": null,
            "margin": null,
            "max_height": null,
            "max_width": null,
            "min_height": null,
            "min_width": null,
            "object_fit": null,
            "object_position": null,
            "order": null,
            "overflow": null,
            "overflow_x": null,
            "overflow_y": null,
            "padding": null,
            "right": null,
            "top": null,
            "visibility": null,
            "width": null
          }
        },
        "a930d35e0d4e43a892a6ea40ee27fd79": {
          "model_module": "@jupyter-widgets/controls",
          "model_name": "ProgressStyleModel",
          "model_module_version": "1.5.0",
          "state": {
            "_model_module": "@jupyter-widgets/controls",
            "_model_module_version": "1.5.0",
            "_model_name": "ProgressStyleModel",
            "_view_count": null,
            "_view_module": "@jupyter-widgets/base",
            "_view_module_version": "1.2.0",
            "_view_name": "StyleView",
            "bar_color": null,
            "description_width": ""
          }
        },
        "ed569489516d44ada04ff36fa56e8e8a": {
          "model_module": "@jupyter-widgets/base",
          "model_name": "LayoutModel",
          "model_module_version": "1.2.0",
          "state": {
            "_model_module": "@jupyter-widgets/base",
            "_model_module_version": "1.2.0",
            "_model_name": "LayoutModel",
            "_view_count": null,
            "_view_module": "@jupyter-widgets/base",
            "_view_module_version": "1.2.0",
            "_view_name": "LayoutView",
            "align_content": null,
            "align_items": null,
            "align_self": null,
            "border": null,
            "bottom": null,
            "display": null,
            "flex": null,
            "flex_flow": null,
            "grid_area": null,
            "grid_auto_columns": null,
            "grid_auto_flow": null,
            "grid_auto_rows": null,
            "grid_column": null,
            "grid_gap": null,
            "grid_row": null,
            "grid_template_areas": null,
            "grid_template_columns": null,
            "grid_template_rows": null,
            "height": null,
            "justify_content": null,
            "justify_items": null,
            "left": null,
            "margin": null,
            "max_height": null,
            "max_width": null,
            "min_height": null,
            "min_width": null,
            "object_fit": null,
            "object_position": null,
            "order": null,
            "overflow": null,
            "overflow_x": null,
            "overflow_y": null,
            "padding": null,
            "right": null,
            "top": null,
            "visibility": null,
            "width": null
          }
        },
        "727450a96efc47d7995a48104e75c11a": {
          "model_module": "@jupyter-widgets/controls",
          "model_name": "DescriptionStyleModel",
          "model_module_version": "1.5.0",
          "state": {
            "_model_module": "@jupyter-widgets/controls",
            "_model_module_version": "1.5.0",
            "_model_name": "DescriptionStyleModel",
            "_view_count": null,
            "_view_module": "@jupyter-widgets/base",
            "_view_module_version": "1.2.0",
            "_view_name": "StyleView",
            "description_width": ""
          }
        }
      }
    }
  },
  "nbformat": 4,
  "nbformat_minor": 0
}