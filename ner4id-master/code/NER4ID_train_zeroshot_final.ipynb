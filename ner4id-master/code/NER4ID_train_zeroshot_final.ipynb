{
  "cells": [
    {
      "cell_type": "markdown",
      "metadata": {
        "id": "otNnz5AWLq3W"
      },
      "source": [
        "# NER4ID at SemEval-2022 Task 2: Named Entity Recognition for Idiomaticity Detection\n",
        "----------------------------------------------------------------------------------------------------"
      ]
    },
    {
      "cell_type": "code",
      "source": [
        "!git clone https://github.com/babelscape/ner4id"
      ],
      "metadata": {
        "colab": {
          "base_uri": "https://localhost:8080/"
        },
        "id": "tu0EDLAOM1Wj",
        "outputId": "dab0768b-6c80-4dc1-ab7b-8e1321a59dc8"
      },
      "execution_count": 1,
      "outputs": [
        {
          "output_type": "stream",
          "name": "stdout",
          "text": [
            "Cloning into 'ner4id'...\n",
            "remote: Enumerating objects: 56, done.\u001b[K\n",
            "remote: Counting objects: 100% (56/56), done.\u001b[K\n",
            "remote: Compressing objects: 100% (43/43), done.\u001b[K\n",
            "remote: Total 56 (delta 20), reused 41 (delta 10), pack-reused 0\u001b[K\n",
            "Unpacking objects: 100% (56/56), 1.58 MiB | 6.56 MiB/s, done.\n"
          ]
        }
      ]
    },
    {
      "cell_type": "markdown",
      "metadata": {
        "id": "DhHoi-8LLq3Y"
      },
      "source": [
        "## Dependencies"
      ]
    },
    {
      "cell_type": "code",
      "execution_count": 2,
      "metadata": {
        "colab": {
          "base_uri": "https://localhost:8080/"
        },
        "id": "xzZNVo0Bjn0t",
        "outputId": "dd3c72eb-9023-4213-c17f-46513e957ee4"
      },
      "outputs": [
        {
          "output_type": "stream",
          "name": "stdout",
          "text": [
            "Looking in indexes: https://pypi.org/simple, https://us-python.pkg.dev/colab-wheels/public/simple/\n",
            "Collecting transformers\n",
            "  Downloading transformers-4.27.4-py3-none-any.whl (6.8 MB)\n",
            "\u001b[2K     \u001b[90m━━━━━━━━━━━━━━━━━━━━━━━━━━━━━━━━━━━━━━━━\u001b[0m \u001b[32m6.8/6.8 MB\u001b[0m \u001b[31m17.6 MB/s\u001b[0m eta \u001b[36m0:00:00\u001b[0m\n",
            "\u001b[?25hRequirement already satisfied: pyyaml>=5.1 in /usr/local/lib/python3.9/dist-packages (from transformers) (6.0)\n",
            "Collecting huggingface-hub<1.0,>=0.11.0\n",
            "  Downloading huggingface_hub-0.13.4-py3-none-any.whl (200 kB)\n",
            "\u001b[2K     \u001b[90m━━━━━━━━━━━━━━━━━━━━━━━━━━━━━━━━━━━━━━━\u001b[0m \u001b[32m200.1/200.1 KB\u001b[0m \u001b[31m4.1 MB/s\u001b[0m eta \u001b[36m0:00:00\u001b[0m\n",
            "\u001b[?25hRequirement already satisfied: requests in /usr/local/lib/python3.9/dist-packages (from transformers) (2.27.1)\n",
            "Collecting tokenizers!=0.11.3,<0.14,>=0.11.1\n",
            "  Downloading tokenizers-0.13.3-cp39-cp39-manylinux_2_17_x86_64.manylinux2014_x86_64.whl (7.8 MB)\n",
            "\u001b[2K     \u001b[90m━━━━━━━━━━━━━━━━━━━━━━━━━━━━━━━━━━━━━━━━\u001b[0m \u001b[32m7.8/7.8 MB\u001b[0m \u001b[31m34.4 MB/s\u001b[0m eta \u001b[36m0:00:00\u001b[0m\n",
            "\u001b[?25hRequirement already satisfied: numpy>=1.17 in /usr/local/lib/python3.9/dist-packages (from transformers) (1.22.4)\n",
            "Requirement already satisfied: tqdm>=4.27 in /usr/local/lib/python3.9/dist-packages (from transformers) (4.65.0)\n",
            "Requirement already satisfied: filelock in /usr/local/lib/python3.9/dist-packages (from transformers) (3.10.7)\n",
            "Requirement already satisfied: packaging>=20.0 in /usr/local/lib/python3.9/dist-packages (from transformers) (23.0)\n",
            "Requirement already satisfied: regex!=2019.12.17 in /usr/local/lib/python3.9/dist-packages (from transformers) (2022.10.31)\n",
            "Requirement already satisfied: typing-extensions>=3.7.4.3 in /usr/local/lib/python3.9/dist-packages (from huggingface-hub<1.0,>=0.11.0->transformers) (4.5.0)\n",
            "Requirement already satisfied: urllib3<1.27,>=1.21.1 in /usr/local/lib/python3.9/dist-packages (from requests->transformers) (1.26.15)\n",
            "Requirement already satisfied: certifi>=2017.4.17 in /usr/local/lib/python3.9/dist-packages (from requests->transformers) (2022.12.7)\n",
            "Requirement already satisfied: idna<4,>=2.5 in /usr/local/lib/python3.9/dist-packages (from requests->transformers) (3.4)\n",
            "Requirement already satisfied: charset-normalizer~=2.0.0 in /usr/local/lib/python3.9/dist-packages (from requests->transformers) (2.0.12)\n",
            "Installing collected packages: tokenizers, huggingface-hub, transformers\n",
            "Successfully installed huggingface-hub-0.13.4 tokenizers-0.13.3 transformers-4.27.4\n",
            "Looking in indexes: https://pypi.org/simple, https://us-python.pkg.dev/colab-wheels/public/simple/\n",
            "Requirement already satisfied: scikit-learn in /usr/local/lib/python3.9/dist-packages (1.2.2)\n",
            "Requirement already satisfied: numpy>=1.17.3 in /usr/local/lib/python3.9/dist-packages (from scikit-learn) (1.22.4)\n",
            "Requirement already satisfied: threadpoolctl>=2.0.0 in /usr/local/lib/python3.9/dist-packages (from scikit-learn) (3.1.0)\n",
            "Requirement already satisfied: joblib>=1.1.1 in /usr/local/lib/python3.9/dist-packages (from scikit-learn) (1.1.1)\n",
            "Requirement already satisfied: scipy>=1.3.2 in /usr/local/lib/python3.9/dist-packages (from scikit-learn) (1.10.1)\n"
          ]
        }
      ],
      "source": [
        "! pip install transformers\n",
        "! pip install scikit-learn"
      ]
    },
    {
      "cell_type": "code",
      "execution_count": 3,
      "metadata": {
        "id": "0q_SRDCMmrNk"
      },
      "outputs": [],
      "source": [
        "import os\n",
        "\n",
        "from tqdm import tqdm\n",
        "\n",
        "import torch\n",
        "from torch import nn\n",
        "from torch.utils.data import Dataset\n",
        "from torch.utils.data.dataloader import DataLoader\n",
        "from torch.nn.utils.rnn import pad_sequence\n",
        "import torch.optim as optim\n",
        " \n",
        "from pprint import pprint\n",
        "import random\n",
        "import numpy as np\n",
        "\n",
        "from sklearn.metrics import classification_report\n",
        "from sklearn.metrics import f1_score\n",
        "\n",
        "from transformers import BertTokenizer, BertModel, BertConfig"
      ]
    },
    {
      "cell_type": "code",
      "execution_count": 4,
      "metadata": {
        "id": "M-ybIBmlLq3d"
      },
      "outputs": [],
      "source": [
        "os.chdir(\"../\")"
      ]
    },
    {
      "cell_type": "code",
      "execution_count": 5,
      "metadata": {
        "colab": {
          "base_uri": "https://localhost:8080/",
          "height": 53
        },
        "id": "Q5rzN_LXmy3B",
        "outputId": "e8a951d5-3ffd-4d8c-b82e-f9f3546e9fbe"
      },
      "outputs": [
        {
          "output_type": "stream",
          "name": "stdout",
          "text": [
            "2.0.0+cu118\n"
          ]
        },
        {
          "output_type": "execute_result",
          "data": {
            "text/plain": [
              "'Tesla T4'"
            ],
            "application/vnd.google.colaboratory.intrinsic+json": {
              "type": "string"
            }
          },
          "metadata": {},
          "execution_count": 5
        }
      ],
      "source": [
        "print(torch.__version__)\n",
        "torch.cuda.current_device()\n",
        "torch.cuda.get_device_name(0)"
      ]
    },
    {
      "cell_type": "markdown",
      "metadata": {
        "id": "q_n--BTtLq3e"
      },
      "source": [
        "## Read Data"
      ]
    },
    {
      "cell_type": "code",
      "execution_count": 6,
      "metadata": {
        "colab": {
          "base_uri": "https://localhost:8080/"
        },
        "id": "KZjxrflHLq3e",
        "outputId": "ea933a87-883b-4522-b237-1c4509c80866"
      },
      "outputs": [
        {
          "name": "stdout",
          "output_type": "stream",
          "text": [
            "Do you want to train a model from scratch or do you want to evaluate a pretrained model? Possible answers: ['train', 'eval']\n",
            "> train\n",
            "\n",
            "In which setting do you want to train/evaluate your model? Possible answers: ['zero-shot', 'one-shot']\n",
            ">zero-shot\n"
          ]
        }
      ],
      "source": [
        "mode = input(\"Do you want to train a model from scratch or do you want to evaluate a pretrained model? Possible answers: ['train', 'eval']\\n> \")\n",
        "assert mode in ['train', 'eval']\n",
        "\n",
        "setting = input(\"\\nIn which setting do you want to train/evaluate your model? Possible answers: ['zero-shot', 'one-shot']\\n>\")\n",
        "assert setting in ['zero-shot', 'one-shot']"
      ]
    },
    {
      "cell_type": "code",
      "execution_count": 7,
      "metadata": {
        "id": "1CBHdcuhnXBn"
      },
      "outputs": [],
      "source": [
        "train_file_zero_shot = \"/content/ner4id/data/train_zero_shot.csv\" \n",
        "train_file_one_shot = \"/content/ner4id/data/train_one_shot.csv\"\n",
        "\n",
        "dev_file = \"/content/ner4id/data/dev.csv\"\n",
        "dev_file_gold = \"/content/ner4id/data/dev_gold.csv\"\n",
        "test_file = \"/content/ner4id/data/test.csv\""
      ]
    },
    {
      "cell_type": "code",
      "source": [
        "import locale\n",
        "def getpreferredencoding(do_setlocale = True):\n",
        "    return \"UTF-8\"\n",
        "locale.getpreferredencoding = getpreferredencoding"
      ],
      "metadata": {
        "id": "RLFxTNwGNo4N"
      },
      "execution_count": 8,
      "outputs": []
    },
    {
      "cell_type": "code",
      "source": [
        "!python -m spacy download pt_core_news_sm"
      ],
      "metadata": {
        "colab": {
          "base_uri": "https://localhost:8080/"
        },
        "id": "k5meTmcYOLI-",
        "outputId": "680f05f6-a456-4587-de09-43c17c1b6694"
      },
      "execution_count": 9,
      "outputs": [
        {
          "output_type": "stream",
          "name": "stdout",
          "text": [
            "2023-04-07 23:49:41.248893: W tensorflow/compiler/tf2tensorrt/utils/py_utils.cc:38] TF-TRT Warning: Could not find TensorRT\n",
            "Looking in indexes: https://pypi.org/simple, https://us-python.pkg.dev/colab-wheels/public/simple/\n",
            "Collecting pt-core-news-sm==3.5.0\n",
            "  Downloading https://github.com/explosion/spacy-models/releases/download/pt_core_news_sm-3.5.0/pt_core_news_sm-3.5.0-py3-none-any.whl (13.0 MB)\n",
            "\u001b[2K     \u001b[90m━━━━━━━━━━━━━━━━━━━━━━━━━━━━━━━━━━━━━━━━\u001b[0m \u001b[32m13.0/13.0 MB\u001b[0m \u001b[31m9.1 MB/s\u001b[0m eta \u001b[36m0:00:00\u001b[0m\n",
            "\u001b[?25hRequirement already satisfied: spacy<3.6.0,>=3.5.0 in /usr/local/lib/python3.9/dist-packages (from pt-core-news-sm==3.5.0) (3.5.1)\n",
            "Requirement already satisfied: cymem<2.1.0,>=2.0.2 in /usr/local/lib/python3.9/dist-packages (from spacy<3.6.0,>=3.5.0->pt-core-news-sm==3.5.0) (2.0.7)\n",
            "Requirement already satisfied: typer<0.8.0,>=0.3.0 in /usr/local/lib/python3.9/dist-packages (from spacy<3.6.0,>=3.5.0->pt-core-news-sm==3.5.0) (0.7.0)\n",
            "Requirement already satisfied: wasabi<1.2.0,>=0.9.1 in /usr/local/lib/python3.9/dist-packages (from spacy<3.6.0,>=3.5.0->pt-core-news-sm==3.5.0) (1.1.1)\n",
            "Requirement already satisfied: pathy>=0.10.0 in /usr/local/lib/python3.9/dist-packages (from spacy<3.6.0,>=3.5.0->pt-core-news-sm==3.5.0) (0.10.1)\n",
            "Requirement already satisfied: jinja2 in /usr/local/lib/python3.9/dist-packages (from spacy<3.6.0,>=3.5.0->pt-core-news-sm==3.5.0) (3.1.2)\n",
            "Requirement already satisfied: thinc<8.2.0,>=8.1.8 in /usr/local/lib/python3.9/dist-packages (from spacy<3.6.0,>=3.5.0->pt-core-news-sm==3.5.0) (8.1.9)\n",
            "Requirement already satisfied: requests<3.0.0,>=2.13.0 in /usr/local/lib/python3.9/dist-packages (from spacy<3.6.0,>=3.5.0->pt-core-news-sm==3.5.0) (2.27.1)\n",
            "Requirement already satisfied: catalogue<2.1.0,>=2.0.6 in /usr/local/lib/python3.9/dist-packages (from spacy<3.6.0,>=3.5.0->pt-core-news-sm==3.5.0) (2.0.8)\n",
            "Requirement already satisfied: preshed<3.1.0,>=3.0.2 in /usr/local/lib/python3.9/dist-packages (from spacy<3.6.0,>=3.5.0->pt-core-news-sm==3.5.0) (3.0.8)\n",
            "Requirement already satisfied: pydantic!=1.8,!=1.8.1,<1.11.0,>=1.7.4 in /usr/local/lib/python3.9/dist-packages (from spacy<3.6.0,>=3.5.0->pt-core-news-sm==3.5.0) (1.10.7)\n",
            "Requirement already satisfied: spacy-legacy<3.1.0,>=3.0.11 in /usr/local/lib/python3.9/dist-packages (from spacy<3.6.0,>=3.5.0->pt-core-news-sm==3.5.0) (3.0.12)\n",
            "Requirement already satisfied: srsly<3.0.0,>=2.4.3 in /usr/local/lib/python3.9/dist-packages (from spacy<3.6.0,>=3.5.0->pt-core-news-sm==3.5.0) (2.4.6)\n",
            "Requirement already satisfied: numpy>=1.15.0 in /usr/local/lib/python3.9/dist-packages (from spacy<3.6.0,>=3.5.0->pt-core-news-sm==3.5.0) (1.22.4)\n",
            "Requirement already satisfied: langcodes<4.0.0,>=3.2.0 in /usr/local/lib/python3.9/dist-packages (from spacy<3.6.0,>=3.5.0->pt-core-news-sm==3.5.0) (3.3.0)\n",
            "Requirement already satisfied: tqdm<5.0.0,>=4.38.0 in /usr/local/lib/python3.9/dist-packages (from spacy<3.6.0,>=3.5.0->pt-core-news-sm==3.5.0) (4.65.0)\n",
            "Requirement already satisfied: spacy-loggers<2.0.0,>=1.0.0 in /usr/local/lib/python3.9/dist-packages (from spacy<3.6.0,>=3.5.0->pt-core-news-sm==3.5.0) (1.0.4)\n",
            "Requirement already satisfied: packaging>=20.0 in /usr/local/lib/python3.9/dist-packages (from spacy<3.6.0,>=3.5.0->pt-core-news-sm==3.5.0) (23.0)\n",
            "Requirement already satisfied: murmurhash<1.1.0,>=0.28.0 in /usr/local/lib/python3.9/dist-packages (from spacy<3.6.0,>=3.5.0->pt-core-news-sm==3.5.0) (1.0.9)\n",
            "Requirement already satisfied: smart-open<7.0.0,>=5.2.1 in /usr/local/lib/python3.9/dist-packages (from spacy<3.6.0,>=3.5.0->pt-core-news-sm==3.5.0) (6.3.0)\n",
            "Requirement already satisfied: setuptools in /usr/local/lib/python3.9/dist-packages (from spacy<3.6.0,>=3.5.0->pt-core-news-sm==3.5.0) (67.6.1)\n",
            "Requirement already satisfied: typing-extensions>=4.2.0 in /usr/local/lib/python3.9/dist-packages (from pydantic!=1.8,!=1.8.1,<1.11.0,>=1.7.4->spacy<3.6.0,>=3.5.0->pt-core-news-sm==3.5.0) (4.5.0)\n",
            "Requirement already satisfied: charset-normalizer~=2.0.0 in /usr/local/lib/python3.9/dist-packages (from requests<3.0.0,>=2.13.0->spacy<3.6.0,>=3.5.0->pt-core-news-sm==3.5.0) (2.0.12)\n",
            "Requirement already satisfied: urllib3<1.27,>=1.21.1 in /usr/local/lib/python3.9/dist-packages (from requests<3.0.0,>=2.13.0->spacy<3.6.0,>=3.5.0->pt-core-news-sm==3.5.0) (1.26.15)\n",
            "Requirement already satisfied: certifi>=2017.4.17 in /usr/local/lib/python3.9/dist-packages (from requests<3.0.0,>=2.13.0->spacy<3.6.0,>=3.5.0->pt-core-news-sm==3.5.0) (2022.12.7)\n",
            "Requirement already satisfied: idna<4,>=2.5 in /usr/local/lib/python3.9/dist-packages (from requests<3.0.0,>=2.13.0->spacy<3.6.0,>=3.5.0->pt-core-news-sm==3.5.0) (3.4)\n",
            "Requirement already satisfied: blis<0.8.0,>=0.7.8 in /usr/local/lib/python3.9/dist-packages (from thinc<8.2.0,>=8.1.8->spacy<3.6.0,>=3.5.0->pt-core-news-sm==3.5.0) (0.7.9)\n",
            "Requirement already satisfied: confection<1.0.0,>=0.0.1 in /usr/local/lib/python3.9/dist-packages (from thinc<8.2.0,>=8.1.8->spacy<3.6.0,>=3.5.0->pt-core-news-sm==3.5.0) (0.0.4)\n",
            "Requirement already satisfied: click<9.0.0,>=7.1.1 in /usr/local/lib/python3.9/dist-packages (from typer<0.8.0,>=0.3.0->spacy<3.6.0,>=3.5.0->pt-core-news-sm==3.5.0) (8.1.3)\n",
            "Requirement already satisfied: MarkupSafe>=2.0 in /usr/local/lib/python3.9/dist-packages (from jinja2->spacy<3.6.0,>=3.5.0->pt-core-news-sm==3.5.0) (2.1.2)\n",
            "Installing collected packages: pt-core-news-sm\n",
            "Successfully installed pt-core-news-sm-3.5.0\n",
            "\u001b[38;5;2m✔ Download and installation successful\u001b[0m\n",
            "You can now load the package via spacy.load('pt_core_news_sm')\n"
          ]
        }
      ]
    },
    {
      "cell_type": "code",
      "execution_count": 10,
      "metadata": {
        "colab": {
          "base_uri": "https://localhost:8080/"
        },
        "id": "DhxWcT1gGnuB",
        "outputId": "07e04d0a-bcc6-488e-926f-36b6b0267e56"
      },
      "outputs": [
        {
          "output_type": "stream",
          "name": "stdout",
          "text": [
            "\u001b[38;5;2m✔ Download and installation successful\u001b[0m\n",
            "You can now load the package via spacy.load('en_core_web_sm')\n",
            "\u001b[38;5;2m✔ Download and installation successful\u001b[0m\n",
            "You can now load the package via spacy.load('pt_core_news_sm')\n"
          ]
        }
      ],
      "source": [
        "import spacy\n",
        "import en_core_web_sm\n",
        "import pt_core_news_sm\n",
        "from spacy.cli.download import download as spacy_download\n",
        "\n",
        "spacy_download(\"en_core_web_sm\")\n",
        "spacy_tagger_en = spacy.load(\"en_core_web_sm\", exclude=[\"ner\", \"parser\"])\n",
        "\n",
        "spacy_download(\"pt_core_news_sm\")\n",
        "spacy_tagger_pt = spacy.load(\"pt_core_news_sm\", exclude=[\"ner\", \"parser\"])"
      ]
    },
    {
      "cell_type": "code",
      "execution_count": 11,
      "metadata": {
        "colab": {
          "base_uri": "https://localhost:8080/"
        },
        "id": "OJ4tYxBaoUhl",
        "outputId": "40fdad55-9d8b-44be-c79f-6a858d9d26cb"
      },
      "outputs": [
        {
          "output_type": "stream",
          "name": "stderr",
          "text": [
            "4492it [00:00, 41344.32it/s]"
          ]
        },
        {
          "output_type": "stream",
          "name": "stdout",
          "text": [
            "4492\n"
          ]
        },
        {
          "output_type": "stream",
          "name": "stderr",
          "text": [
            "\n"
          ]
        }
      ],
      "source": [
        "import csv\n",
        "\n",
        "train_data = {}\n",
        "idx = 0\n",
        "\n",
        "predictions = []\n",
        "labels = []\n",
        "\n",
        "if setting==\"zero-shot\":\n",
        "    with open(train_file_zero_shot, newline='', encoding='utf-8') as csvfile:\n",
        "        reader = csv.reader(csvfile, delimiter=',')\n",
        "        for row in tqdm(reader):\n",
        "            \n",
        "            if len((row[4].strip() + row[5].strip() + row[6].strip()).split(\" \")) < 300:\n",
        "                text = row[4].strip()+ \" \" + row[5].strip()+ \" \" + row[6].strip()\n",
        "            elif len((row[4].strip() + row[5].strip()).split(\" \")) < 300:\n",
        "                text = row[4].strip()+ \" \" + row[5].strip()\n",
        "            else:\n",
        "                text = row[5].strip()\n",
        "                \n",
        "            e = row[2].strip()\n",
        "\n",
        "            train_data[idx] = {\n",
        "                                \"id\": row[0],\n",
        "                                \"lang\": row[1],\n",
        "                                \"expression\": e,\n",
        "                                \"text\": row[5].strip(),\n",
        "                                \"idiomatic\": True if row[7] == \"0\" else False\n",
        "                            }    \n",
        "            idx += 1\n",
        "\n",
        "\n",
        "if setting==\"one-shot\":\n",
        "    with open(train_file_one_shot, newline='', encoding='utf-8') as csvfile:\n",
        "        reader = csv.reader(csvfile, delimiter=',')\n",
        "        for row in tqdm(reader):\n",
        "            \n",
        "            if len((row[4].strip() + row[5].strip() + row[6].strip()).split(\" \")) < 300:\n",
        "                text = row[4].strip()+ \" \" + row[5].strip()+ \" \" + row[6].strip()\n",
        "            elif len((row[4].strip() + row[5].strip()).split(\" \")) < 300:\n",
        "                text = row[4].strip()+ \" \" + row[5].strip()\n",
        "            else:\n",
        "                text = row[5].strip()\n",
        "                \n",
        "            e = row[2].strip()\n",
        "                        \n",
        "            train_data[idx] = {\n",
        "                                \"id\": row[0],\n",
        "                                \"lang\": row[1],\n",
        "                                \"expression\": e,\n",
        "                                \"text\": row[5].strip(),\n",
        "                                \"idiomatic\": True if row[7] == \"0\" else False\n",
        "                            }    \n",
        "            idx += 1\n",
        "\n",
        "print(len(train_data)) "
      ]
    },
    {
      "cell_type": "code",
      "execution_count": 12,
      "metadata": {
        "colab": {
          "base_uri": "https://localhost:8080/"
        },
        "id": "Q2kWaYAsyaS9",
        "outputId": "63268a7f-de7b-41d2-c84b-d90206ba9a0a"
      },
      "outputs": [
        {
          "output_type": "stream",
          "name": "stdout",
          "text": [
            "740\n"
          ]
        }
      ],
      "source": [
        "labels_dev = {}\n",
        "\n",
        "with open(dev_file_gold, newline='',encoding='utf-8') as csvfile:\n",
        "    reader = csv.reader(csvfile, delimiter=',')\n",
        "    for row in reader:\n",
        "        labels_dev[row[0]] = True if row[3] == \"0\" else False\n",
        "\n",
        "dev_data = {}\n",
        "idx = 0\n",
        "\n",
        "with open(dev_file, newline='',encoding='utf-8') as csvfile:\n",
        "    reader = csv.reader(csvfile, delimiter=',')\n",
        "    for row in reader:\n",
        "\n",
        "        if len((row[3].strip() + row[4].strip() + row[5].strip()).split(\" \")) < 300:\n",
        "            text = row[3].strip() + \" \" + row[4].strip()+ \" \" + row[5].strip()\n",
        "        elif len((row[3].strip() + row[4].strip()).split(\" \")) < 300:\n",
        "            text = row[3].strip()+ \" \" + row[4].strip()\n",
        "        else:\n",
        "            text = row[4].strip()\n",
        "        \n",
        "        e = row[2].strip()\n",
        "                \n",
        "        \n",
        "        dev_data[idx] = {\n",
        "                        \"id\": row[0],\n",
        "                        \"lang\": row[1],\n",
        "                        \"expression\": e,\n",
        "                        \"text\": row[4].strip(),\n",
        "                        \"idiomatic\": labels_dev[row[0]]\n",
        "                        }\n",
        "                \n",
        "        idx += 1\n",
        "        \n",
        "    \n",
        "print(len(dev_data)) "
      ]
    },
    {
      "cell_type": "code",
      "execution_count": 13,
      "metadata": {
        "colab": {
          "base_uri": "https://localhost:8080/"
        },
        "id": "HRkJ9jo7Lq3h",
        "outputId": "0c34cb29-0fe1-45f8-8fb9-ae3809a0633f"
      },
      "outputs": [
        {
          "output_type": "stream",
          "name": "stdout",
          "text": [
            "2343\n"
          ]
        }
      ],
      "source": [
        "test_data = {}\n",
        "idx = 0\n",
        "\n",
        "with open(test_file, newline='', encoding='utf-8') as csvfile:\n",
        "    reader = csv.reader(csvfile, delimiter=',')\n",
        "    for row in reader:\n",
        "\n",
        "        if len((row[3].strip() + row[4].strip() + row[5].strip()).split(\" \")) < 300:\n",
        "            text = row[3].strip()+ \" \" + row[4].strip()+ \" \" + row[5].strip()\n",
        "        elif len((row[3].strip() + row[4].strip()).split(\" \")) < 300:\n",
        "            text = row[3].strip()+ \" \" + row[4].strip()\n",
        "        else:\n",
        "            text = row[4].strip()\n",
        "        \n",
        "        e = row[2].strip()\n",
        "\n",
        "        test_data[idx] = {\n",
        "                            \"id\": row[0],\n",
        "                            \"lang\": row[1],\n",
        "                            \"expression\": e,\n",
        "                            \"text\": row[4].strip(),\n",
        "                            \"idiomatic\": True #it's just a FAKE label used to maintain the same structure of the dataset entries, \n",
        "                                              #it could be also False\n",
        "                        }\n",
        "                \n",
        "        idx += 1\n",
        "        \n",
        "    \n",
        "print(len(test_data)) "
      ]
    },
    {
      "cell_type": "markdown",
      "metadata": {
        "id": "4kHKPydPLq3i"
      },
      "source": [
        "## Fix Random Seed"
      ]
    },
    {
      "cell_type": "code",
      "execution_count": 14,
      "metadata": {
        "id": "8v_-Re97pfxI"
      },
      "outputs": [],
      "source": [
        "SEED = 2 #we set a seed for having replicability of results\n",
        " \n",
        "random.seed(SEED)\n",
        "np.random.seed(SEED)\n",
        "torch.manual_seed(SEED)\n",
        "torch.backends.cudnn.deterministic = True"
      ]
    },
    {
      "cell_type": "markdown",
      "metadata": {
        "id": "PkXJlVW2Lq3i"
      },
      "source": [
        "## Load BERT Model"
      ]
    },
    {
      "cell_type": "code",
      "execution_count": 15,
      "metadata": {
        "colab": {
          "base_uri": "https://localhost:8080/",
          "height": 217,
          "referenced_widgets": [
            "8a48a82c9e4c4d94a0e3082100da781d",
            "76735ff38ee34208baa9b0d4479fadf8",
            "c4c7d0dcfa314b8f8d197534a37eb3b5",
            "07ddaa0fcfc64c9b82764076aa335ade",
            "4fd16573bc5247fba604fdc34b569c77",
            "5c074b4bd385400384f05df8a224648c",
            "5972c6cfdbb14a64a89d439de736805e",
            "e1f519bb768b4ec2b7625e20cf42237d",
            "06a6ac6702824663ab6f3a57d560fa60",
            "47674fa338304fdaaca33a86c603ab5c",
            "773e4d92c9ff431f98ca262cdf66ac6d",
            "1960c434fbfd40558563669770cd5580",
            "417fed51601f4e3dbdd3b95cbd24a7da",
            "445e887bdb674744a8ad43444d7516e7",
            "227609ac07b843a69959ee63a2cc0489",
            "9991903d87d5489bba0d361f3d33200d",
            "367e767a022541e7b50b309a7d98d042",
            "46b02323153840cd80cb76dfab92a3a5",
            "13a20c889f9b41159c80b1f8c5b1f1ae",
            "97c6c54ce3024a2692fb52cdfa768096",
            "5b4fa922c9ce488097bcf5b8242ae508",
            "ede23c7597cf40d6bfcafcd8c63da94c",
            "26c0cf2775e348f2af3dac6cf33eb782",
            "553af4daedab41b784d71630f02726cd",
            "1aab3acee02446a7b13f1d832cfb23ee",
            "429e81852d2346c5846b9eba3e28e5f0",
            "6b3e1251568740bb84ef34bd1ca7fe28",
            "cc323b96f403484cb00589456b632d8c",
            "52c9ef1e80fc4e6681756f0f12725a7b",
            "2347215802714e57b1c292525078317f",
            "c6ac56530fd9450484e7b85e106880fe",
            "66d5722ca2304149822f45e7865bc5af",
            "caca1ae3d5484b329d4f90aef3dacec9",
            "11c10d3bdb0f4e8888c42fa1f0c41b31",
            "3a7bf3439dfa4e05866f3d0a7de9e06b",
            "75527b7e241148cdbd1883b24756706e",
            "4664bc11dcee45c3be1cc1018b034cae",
            "07eddda8248941f8957ef6db923422fe",
            "4143b509ceed4015b5ed05eb729d6f10",
            "cb8c711d60fb4debaaf825246f605e27",
            "e33e3b78d501425e9e02604aa9741564",
            "46564f158c5d4e90a929046a3106c2b3",
            "c2108c707eab42749b3823ea7b9b7834",
            "f4897c4f782c43c0be0050192a7a5b69"
          ]
        },
        "id": "fkTPuDGIpi30",
        "outputId": "4849d259-32a2-4e4d-c9af-5d30fbcf1ac8"
      },
      "outputs": [
        {
          "output_type": "display_data",
          "data": {
            "text/plain": [
              "Downloading (…)lve/main/config.json:   0%|          | 0.00/625 [00:00<?, ?B/s]"
            ],
            "application/vnd.jupyter.widget-view+json": {
              "version_major": 2,
              "version_minor": 0,
              "model_id": "8a48a82c9e4c4d94a0e3082100da781d"
            }
          },
          "metadata": {}
        },
        {
          "output_type": "display_data",
          "data": {
            "text/plain": [
              "Downloading (…)solve/main/vocab.txt:   0%|          | 0.00/996k [00:00<?, ?B/s]"
            ],
            "application/vnd.jupyter.widget-view+json": {
              "version_major": 2,
              "version_minor": 0,
              "model_id": "1960c434fbfd40558563669770cd5580"
            }
          },
          "metadata": {}
        },
        {
          "output_type": "display_data",
          "data": {
            "text/plain": [
              "Downloading (…)okenizer_config.json:   0%|          | 0.00/29.0 [00:00<?, ?B/s]"
            ],
            "application/vnd.jupyter.widget-view+json": {
              "version_major": 2,
              "version_minor": 0,
              "model_id": "26c0cf2775e348f2af3dac6cf33eb782"
            }
          },
          "metadata": {}
        },
        {
          "output_type": "display_data",
          "data": {
            "text/plain": [
              "Downloading pytorch_model.bin:   0%|          | 0.00/714M [00:00<?, ?B/s]"
            ],
            "application/vnd.jupyter.widget-view+json": {
              "version_major": 2,
              "version_minor": 0,
              "model_id": "11c10d3bdb0f4e8888c42fa1f0c41b31"
            }
          },
          "metadata": {}
        },
        {
          "output_type": "stream",
          "name": "stderr",
          "text": [
            "Some weights of the model checkpoint at bert-base-multilingual-cased were not used when initializing BertModel: ['cls.predictions.bias', 'cls.predictions.transform.dense.bias', 'cls.seq_relationship.bias', 'cls.seq_relationship.weight', 'cls.predictions.decoder.weight', 'cls.predictions.transform.dense.weight', 'cls.predictions.transform.LayerNorm.bias', 'cls.predictions.transform.LayerNorm.weight']\n",
            "- This IS expected if you are initializing BertModel from the checkpoint of a model trained on another task or with another architecture (e.g. initializing a BertForSequenceClassification model from a BertForPreTraining model).\n",
            "- This IS NOT expected if you are initializing BertModel from the checkpoint of a model that you expect to be exactly identical (initializing a BertForSequenceClassification model from a BertForSequenceClassification model).\n"
          ]
        }
      ],
      "source": [
        "model_name = 'bert-base-multilingual-cased'\n",
        " \n",
        "bert_config = BertConfig.from_pretrained(model_name, output_hidden_states=True)\n",
        "bert_tokenizer = BertTokenizer.from_pretrained(model_name)\n",
        "bert_model = BertModel.from_pretrained(model_name, config=bert_config)"
      ]
    },
    {
      "cell_type": "markdown",
      "metadata": {
        "id": "xepScwgoLq3j"
      },
      "source": [
        "## Dataset"
      ]
    },
    {
      "cell_type": "code",
      "execution_count": 16,
      "metadata": {
        "id": "bpd4vDOjprKv"
      },
      "outputs": [],
      "source": [
        "nlp_en = en_core_web_sm.load()\n",
        "nlp_pt = pt_core_news_sm.load()\n",
        "\n",
        "class IdiomDataset(Dataset):\n",
        "    def __init__(self, \n",
        "                 dataset, \n",
        "                 tokenizer,\n",
        "                 languages,\n",
        "                 device=\"cuda\",\n",
        "                ) -> None:\n",
        "        \n",
        "        self.encoded_data = []\n",
        "    \n",
        "        self.dataset = dataset\n",
        "        self.tokenizer = tokenizer\n",
        "        self.languages = languages\n",
        "        self.device = device\n",
        "        self.__init_encoded_data()\n",
        "\n",
        " \n",
        "    def __init_encoded_data(self):\n",
        "                \n",
        "        for idx in tqdm(self.dataset):\n",
        "            id = self.dataset[idx][\"id\"]\n",
        "            lang = self.dataset[idx][\"lang\"]\n",
        "            e = self.dataset[idx][\"expression\"]\n",
        "            label = self.dataset[idx][\"idiomatic\"]\n",
        "            context_tmp = self.dataset[idx][\"text\"]\n",
        "\n",
        "            if lang == \"EN\":\n",
        "                doc = nlp_en(context_tmp)\n",
        "                ents = [X.text.lower() for X in doc.ents]\n",
        "            else:\n",
        "                doc = nlp_pt(context_tmp)\n",
        "                ents = [X.text.lower() for X in doc.ents]\n",
        "            \n",
        "    \n",
        "            if e in ents:\n",
        "                e = context_tmp\n",
        "                context = context_tmp\n",
        "            else:\n",
        "                if context_tmp.find(e) != -1:\n",
        "                    context = context_tmp[:context_tmp.lower().find(e)] + context_tmp[context_tmp.lower().find(e)+len(e):]\n",
        "\n",
        "                else:    \n",
        "                    e = context_tmp\n",
        "                    context = context_tmp                     \n",
        "                \n",
        "        \n",
        "            tokenized_e = torch.tensor(self.tokenize_mention(e, self.tokenizer, True))\n",
        "            tokenized_context = torch.tensor(self.tokenize_mention(context, self.tokenizer, True))\n",
        "\n",
        "            if e!=\"MWE\" and lang in self.languages:\n",
        "                self.encoded_data.append((idx,\n",
        "                                          e,\n",
        "                                          context,\n",
        "                                          tokenized_e,\n",
        "                                          tokenized_context,\n",
        "                                          torch.tensor([-1.0]) if label == True else torch.tensor([1.0]),\n",
        "                                          id, \n",
        "                                          lang))\n",
        "\n",
        "     \n",
        "    def tokenize_mention(self, sent, tokenizer, special_tokens):\n",
        "        encoded_sentence = tokenizer.encode(sent, add_special_tokens = special_tokens)\n",
        "        return encoded_sentence[:500]\n",
        "    \n",
        "    def tokenize_description(self, sent, tokenizer, window):\n",
        "        encoded_sentence = tokenizer.encode(sent, add_special_tokens = True)\n",
        "        return encoded_sentence\n",
        "\n",
        "    def __len__(self):\n",
        "        return len(self.encoded_data)\n",
        " \n",
        "    def __getitem__(self, idx: int):\n",
        "        return self.encoded_data[idx]"
      ]
    },
    {
      "cell_type": "markdown",
      "metadata": {
        "id": "gnindm3GLq3k"
      },
      "source": [
        "Create the dataset:"
      ]
    },
    {
      "cell_type": "code",
      "execution_count": 17,
      "metadata": {
        "colab": {
          "base_uri": "https://localhost:8080/"
        },
        "id": "aa72jvxrp8Na",
        "outputId": "44a40919-4f2c-4466-d6fb-acbe59d5d553"
      },
      "outputs": [
        {
          "output_type": "stream",
          "name": "stderr",
          "text": [
            "100%|██████████| 4492/4492 [00:53<00:00, 84.66it/s]\n",
            "100%|██████████| 740/740 [00:07<00:00, 95.94it/s]\n",
            "100%|██████████| 2343/2343 [00:27<00:00, 84.44it/s]"
          ]
        },
        {
          "output_type": "stream",
          "name": "stdout",
          "text": [
            "4491\n",
            "739\n",
            "2342\n"
          ]
        },
        {
          "output_type": "stream",
          "name": "stderr",
          "text": [
            "\n"
          ]
        }
      ],
      "source": [
        "train_dataset = IdiomDataset(train_data, bert_tokenizer, languages = [\"EN\", \"PT\", \"GL\"])\n",
        "dev_dataset = IdiomDataset(dev_data, bert_tokenizer, languages =[\"EN\", \"PT\", \"GL\"])\n",
        "test_dataset = IdiomDataset(test_data, bert_tokenizer, languages = [\"EN\",\"PT\", \"GL\"])\n",
        "\n",
        "print(len(train_dataset))\n",
        "print(len(dev_dataset))\n",
        "print(len(test_dataset))"
      ]
    },
    {
      "cell_type": "markdown",
      "metadata": {
        "id": "jKg_FjfULq3k"
      },
      "source": [
        "Create the dataloader:"
      ]
    },
    {
      "cell_type": "code",
      "execution_count": 18,
      "metadata": {
        "colab": {
          "base_uri": "https://localhost:8080/"
        },
        "id": "bfL32r72qBWh",
        "outputId": "29ec7dbe-f26f-49cb-89f6-44798b2d2a4a"
      },
      "outputs": [
        {
          "output_type": "stream",
          "name": "stdout",
          "text": [
            "562\n",
            "93\n",
            "293\n"
          ]
        }
      ],
      "source": [
        "def collate(elems: tuple) -> tuple:\n",
        "    ids, e, texts, expressions, contexts, labels, ids, langs = list(zip(*elems))\n",
        "    \n",
        "    pad_expressions = pad_sequence(expressions, batch_first=True, padding_value=0)\n",
        "    pad_contexts = pad_sequence(contexts, batch_first=True, padding_value=0)\n",
        "    pad_labels = pad_sequence(labels, batch_first=True, padding_value=0)\n",
        " \n",
        "    return ids, e, texts, pad_expressions, pad_contexts, pad_labels.cuda(), ids, langs\n",
        "\n",
        "\n",
        "train_dataloader = DataLoader(train_dataset, batch_size=8, shuffle=True, collate_fn=collate)\n",
        "dev_dataloader = DataLoader(dev_dataset, batch_size=8, shuffle=False, collate_fn=collate)\n",
        "test_dataloader = DataLoader(test_dataset, batch_size=8, shuffle=False, collate_fn=collate)\n",
        "\n",
        "print(len(train_dataloader))\n",
        "print(len(dev_dataloader))\n",
        "print(len(test_dataloader))"
      ]
    },
    {
      "cell_type": "markdown",
      "metadata": {
        "id": "kkNqGd1xLq3l"
      },
      "source": [
        "## Dual-Encoder Architecture"
      ]
    },
    {
      "cell_type": "code",
      "execution_count": 19,
      "metadata": {
        "id": "cfUxreHMpx4E"
      },
      "outputs": [],
      "source": [
        "class DualEncoder(nn.Module):\n",
        "    def __init__(self, hparams):\n",
        "        super(DualEncoder, self).__init__()\n",
        "        pprint(params)\n",
        " \n",
        "        self.hparams = hparams\n",
        " \n",
        "        self.expression_encoder = BertModel.from_pretrained(model_name, config=bert_config)\n",
        "        self.context_encoder = BertModel.from_pretrained(model_name, config=bert_config)\n",
        "\n",
        "        self.cosine_similarity = nn.CosineSimilarity(dim=-1, eps=1e-6)\n",
        "        \n",
        "        self.dropout = nn.Dropout(hparams.dropout)\n",
        "\n",
        "        self.tanh = nn.Tanh()\n",
        "            \n",
        "        for param in self.context_encoder.parameters():\n",
        "            param.requires_grad = False\n",
        "  \n",
        "\n",
        "    def forward(self, expression, context, mask1, mask2):\n",
        "        \n",
        "        embedding_context = self.context_encoder.forward(context.cuda(), mask2.cuda())[0]\n",
        "        embedding_context = embedding_context[:,0,:].squeeze(1)\n",
        "\n",
        "        embedding_expression = self.expression_encoder.forward(expression.cuda(), mask1.cuda())[0]\n",
        "        embedding_expression = torch.sum(embedding_expression, 1)\n",
        "            \n",
        "        similarities = self.cosine_similarity(embedding_expression, embedding_context) \n",
        "                        \n",
        "        return similarities"
      ]
    },
    {
      "cell_type": "code",
      "execution_count": 20,
      "metadata": {
        "id": "hqMKoAmZLq3l"
      },
      "outputs": [],
      "source": [
        "class HParams():\n",
        "    dropout = 0.25\n",
        "    \n",
        "params = HParams()"
      ]
    },
    {
      "cell_type": "markdown",
      "metadata": {
        "id": "UX0-n1yyLq3m"
      },
      "source": [
        "Instantiate the model: "
      ]
    },
    {
      "cell_type": "code",
      "execution_count": 21,
      "metadata": {
        "colab": {
          "base_uri": "https://localhost:8080/"
        },
        "id": "PeLvL3XELq3m",
        "outputId": "7bba1b17-1545-4b05-90d5-8fd14cc455b1"
      },
      "outputs": [
        {
          "output_type": "stream",
          "name": "stdout",
          "text": [
            "<__main__.HParams object at 0x7f559cdd1e20>\n"
          ]
        },
        {
          "output_type": "stream",
          "name": "stderr",
          "text": [
            "Some weights of the model checkpoint at bert-base-multilingual-cased were not used when initializing BertModel: ['cls.predictions.bias', 'cls.predictions.transform.dense.bias', 'cls.seq_relationship.bias', 'cls.seq_relationship.weight', 'cls.predictions.decoder.weight', 'cls.predictions.transform.dense.weight', 'cls.predictions.transform.LayerNorm.bias', 'cls.predictions.transform.LayerNorm.weight']\n",
            "- This IS expected if you are initializing BertModel from the checkpoint of a model trained on another task or with another architecture (e.g. initializing a BertForSequenceClassification model from a BertForPreTraining model).\n",
            "- This IS NOT expected if you are initializing BertModel from the checkpoint of a model that you expect to be exactly identical (initializing a BertForSequenceClassification model from a BertForSequenceClassification model).\n",
            "Some weights of the model checkpoint at bert-base-multilingual-cased were not used when initializing BertModel: ['cls.predictions.bias', 'cls.predictions.transform.dense.bias', 'cls.seq_relationship.bias', 'cls.seq_relationship.weight', 'cls.predictions.decoder.weight', 'cls.predictions.transform.dense.weight', 'cls.predictions.transform.LayerNorm.bias', 'cls.predictions.transform.LayerNorm.weight']\n",
            "- This IS expected if you are initializing BertModel from the checkpoint of a model trained on another task or with another architecture (e.g. initializing a BertForSequenceClassification model from a BertForPreTraining model).\n",
            "- This IS NOT expected if you are initializing BertModel from the checkpoint of a model that you expect to be exactly identical (initializing a BertForSequenceClassification model from a BertForSequenceClassification model).\n"
          ]
        },
        {
          "output_type": "execute_result",
          "data": {
            "text/plain": [
              "DualEncoder(\n",
              "  (expression_encoder): BertModel(\n",
              "    (embeddings): BertEmbeddings(\n",
              "      (word_embeddings): Embedding(119547, 768, padding_idx=0)\n",
              "      (position_embeddings): Embedding(512, 768)\n",
              "      (token_type_embeddings): Embedding(2, 768)\n",
              "      (LayerNorm): LayerNorm((768,), eps=1e-12, elementwise_affine=True)\n",
              "      (dropout): Dropout(p=0.1, inplace=False)\n",
              "    )\n",
              "    (encoder): BertEncoder(\n",
              "      (layer): ModuleList(\n",
              "        (0-11): 12 x BertLayer(\n",
              "          (attention): BertAttention(\n",
              "            (self): BertSelfAttention(\n",
              "              (query): Linear(in_features=768, out_features=768, bias=True)\n",
              "              (key): Linear(in_features=768, out_features=768, bias=True)\n",
              "              (value): Linear(in_features=768, out_features=768, bias=True)\n",
              "              (dropout): Dropout(p=0.1, inplace=False)\n",
              "            )\n",
              "            (output): BertSelfOutput(\n",
              "              (dense): Linear(in_features=768, out_features=768, bias=True)\n",
              "              (LayerNorm): LayerNorm((768,), eps=1e-12, elementwise_affine=True)\n",
              "              (dropout): Dropout(p=0.1, inplace=False)\n",
              "            )\n",
              "          )\n",
              "          (intermediate): BertIntermediate(\n",
              "            (dense): Linear(in_features=768, out_features=3072, bias=True)\n",
              "            (intermediate_act_fn): GELUActivation()\n",
              "          )\n",
              "          (output): BertOutput(\n",
              "            (dense): Linear(in_features=3072, out_features=768, bias=True)\n",
              "            (LayerNorm): LayerNorm((768,), eps=1e-12, elementwise_affine=True)\n",
              "            (dropout): Dropout(p=0.1, inplace=False)\n",
              "          )\n",
              "        )\n",
              "      )\n",
              "    )\n",
              "    (pooler): BertPooler(\n",
              "      (dense): Linear(in_features=768, out_features=768, bias=True)\n",
              "      (activation): Tanh()\n",
              "    )\n",
              "  )\n",
              "  (context_encoder): BertModel(\n",
              "    (embeddings): BertEmbeddings(\n",
              "      (word_embeddings): Embedding(119547, 768, padding_idx=0)\n",
              "      (position_embeddings): Embedding(512, 768)\n",
              "      (token_type_embeddings): Embedding(2, 768)\n",
              "      (LayerNorm): LayerNorm((768,), eps=1e-12, elementwise_affine=True)\n",
              "      (dropout): Dropout(p=0.1, inplace=False)\n",
              "    )\n",
              "    (encoder): BertEncoder(\n",
              "      (layer): ModuleList(\n",
              "        (0-11): 12 x BertLayer(\n",
              "          (attention): BertAttention(\n",
              "            (self): BertSelfAttention(\n",
              "              (query): Linear(in_features=768, out_features=768, bias=True)\n",
              "              (key): Linear(in_features=768, out_features=768, bias=True)\n",
              "              (value): Linear(in_features=768, out_features=768, bias=True)\n",
              "              (dropout): Dropout(p=0.1, inplace=False)\n",
              "            )\n",
              "            (output): BertSelfOutput(\n",
              "              (dense): Linear(in_features=768, out_features=768, bias=True)\n",
              "              (LayerNorm): LayerNorm((768,), eps=1e-12, elementwise_affine=True)\n",
              "              (dropout): Dropout(p=0.1, inplace=False)\n",
              "            )\n",
              "          )\n",
              "          (intermediate): BertIntermediate(\n",
              "            (dense): Linear(in_features=768, out_features=3072, bias=True)\n",
              "            (intermediate_act_fn): GELUActivation()\n",
              "          )\n",
              "          (output): BertOutput(\n",
              "            (dense): Linear(in_features=3072, out_features=768, bias=True)\n",
              "            (LayerNorm): LayerNorm((768,), eps=1e-12, elementwise_affine=True)\n",
              "            (dropout): Dropout(p=0.1, inplace=False)\n",
              "          )\n",
              "        )\n",
              "      )\n",
              "    )\n",
              "    (pooler): BertPooler(\n",
              "      (dense): Linear(in_features=768, out_features=768, bias=True)\n",
              "      (activation): Tanh()\n",
              "    )\n",
              "  )\n",
              "  (cosine_similarity): CosineSimilarity()\n",
              "  (dropout): Dropout(p=0.25, inplace=False)\n",
              "  (tanh): Tanh()\n",
              ")"
            ]
          },
          "metadata": {},
          "execution_count": 21
        }
      ],
      "source": [
        "my_model = DualEncoder(params).cuda()\n",
        "my_model"
      ]
    },
    {
      "cell_type": "markdown",
      "metadata": {
        "id": "0vblBvifLq3m"
      },
      "source": [
        "## Trainer"
      ]
    },
    {
      "cell_type": "code",
      "execution_count": 22,
      "metadata": {
        "id": "P0JfvAWUp6gc"
      },
      "outputs": [],
      "source": [
        "class Trainer():\n",
        "    def __init__(self,\n",
        "                model:nn.Module, \n",
        "                loss_function,\n",
        "                optimizer,\n",
        "                gradient_accumulation_steps):\n",
        "        \n",
        "        self.model = model\n",
        "        self.loss_function = loss_function\n",
        "        self.optimizer = optimizer\n",
        "        self.gradient_accumulation_steps = gradient_accumulation_steps\n",
        " \n",
        "    def padding_mask(self, batch):\n",
        "        padding = torch.ones_like(batch)\n",
        "        padding[batch == 0] = 0\n",
        "        padding = padding.type(torch.uint8)\n",
        "        return padding\n",
        " \n",
        "    def train(self,\n",
        "            train_dataset:Dataset, \n",
        "            valid_dataset:Dataset,\n",
        "            epochs:int=1,\n",
        "            patience:int=10,\n",
        "            modelname=setting):\n",
        "        \n",
        "        print(\"\\nTraining...\")\n",
        " \n",
        "        record_dev = 0.0\n",
        "        full_patience = patience\n",
        "        modelname = modelname\n",
        " \n",
        "        for epoch in range(epochs):\n",
        "             if patience>0:\n",
        "                print(\" Epoch {:03d}\".format(epoch + 1))\n",
        "\n",
        "                epoch_loss = 0.0\n",
        "                self.model.train()\n",
        "                \n",
        "                count_batches = 0\n",
        "                self.optimizer.zero_grad()\n",
        "                \n",
        "                for ids, e, text, expressions, contexts, labels, id, lang in tqdm(train_dataset):\n",
        "                    batch_loss = 0.0\n",
        "\n",
        "                    mask1 = self.padding_mask(expressions)\n",
        "                    mask2 = self.padding_mask(contexts)\n",
        "                    \n",
        "                    similarities = self.model(expressions, contexts, mask1, mask2)\n",
        "\n",
        "                    labels = labels.view(-1)\n",
        "                    batch_loss = self.loss_function(similarities, labels)\n",
        "                    epoch_loss += batch_loss\n",
        "\n",
        "                    batch_loss.backward()\n",
        "\n",
        "                    if count_batches % self.gradient_accumulation_steps == 0:\n",
        "                        self.optimizer.step()\n",
        "                        self.optimizer.zero_grad()\n",
        "\n",
        "\n",
        "                avg_epoch_loss = epoch_loss / len(train_dataset)\n",
        "                print('[E: {:2d}] train loss = {:0.4f}'.format(epoch+1, avg_epoch_loss))\n",
        "\n",
        "                valid_loss, f1 = self.evaluate(valid_dataset, epoch)\n",
        "\n",
        "                if f1>record_dev:\n",
        "                    record_dev = f1\n",
        "                    torch.save(self.model.state_dict(), \"/content/ner4id/checkpoints/\"+modelname+\".pt\")\n",
        "                    patience = full_patience\n",
        "                else:\n",
        "                    patience -= 1\n",
        "                   \n",
        "                print('\\t[E: {:2d}] valid loss = {:0.4f}, f1-score = {:0.4f}, patience: {:2d}'.format(epoch+1, valid_loss, f1, patience))\n",
        "\n",
        "\n",
        "        print(\"...Done!\")\n",
        "\n",
        "        return avg_epoch_loss\n",
        "\n",
        "    def evaluate(self, valid_dataset, epoch):\n",
        "\n",
        "        valid_loss = 0.0\n",
        "        all_predictions = list()\n",
        "        all_labels = list()\n",
        "        \n",
        "        predictions = {}\n",
        "         \n",
        "        self.model.eval()\n",
        "                    \n",
        "        for ids, e, text, expressions, contexts, labels, id, lang in tqdm(valid_dataset):\n",
        "            mask1 = self.padding_mask(expressions)\n",
        "            mask2 = self.padding_mask(contexts)\n",
        "            \n",
        "            with torch.no_grad():\n",
        "                similarities = self.model(expressions, contexts, mask1, mask2)\n",
        "\n",
        "            labels = labels.view(-1)\n",
        "            loss = self.loss_function(similarities, labels)\n",
        " \n",
        "            for i in range(len(similarities)):\n",
        "                if similarities[i]>0:\n",
        "                    all_predictions.append(1)\n",
        "                else:\n",
        "                    all_predictions.append(0)\n",
        "\n",
        "                all_labels.append(1 if labels[i].item()==1 else 0)\n",
        "            \n",
        "            valid_loss += loss\n",
        "            \n",
        "            for i in range(len(similarities)):\n",
        "                if similarities[i]>0:\n",
        "                    predictions[ids[i]] = 1\n",
        "\n",
        "                else:\n",
        "                    predictions[ids[i]] = 0\n",
        "\n",
        "        f1 = f1_score(all_labels, all_predictions, average= 'macro')\n",
        "        print(classification_report(all_labels, all_predictions, digits=4))\n",
        "        \n",
        "        return valid_loss / len(valid_dataset), f1"
      ]
    },
    {
      "cell_type": "markdown",
      "metadata": {
        "id": "4E9dr6E3Lq3n"
      },
      "source": [
        "Instantiate the trainer:"
      ]
    },
    {
      "cell_type": "code",
      "execution_count": 23,
      "metadata": {
        "id": "AJOGLgoZqR9w"
      },
      "outputs": [],
      "source": [
        "trainer = Trainer(model = my_model,\n",
        "                    loss_function = nn.MSELoss(),\n",
        "                    optimizer = optim.Adam(my_model.parameters(), lr=0.00001),\n",
        "                    gradient_accumulation_steps=1)"
      ]
    },
    {
      "cell_type": "markdown",
      "metadata": {
        "id": "RUg_-1jrLq3o"
      },
      "source": [
        "Train the system:"
      ]
    },
    {
      "cell_type": "code",
      "execution_count": 24,
      "metadata": {
        "id": "m0XLLlyoqU5_",
        "scrolled": true,
        "colab": {
          "base_uri": "https://localhost:8080/"
        },
        "outputId": "a3c6b942-3e63-4d11-947a-579d8fa59cd8"
      },
      "outputs": [
        {
          "metadata": {
            "tags": null
          },
          "name": "stdout",
          "output_type": "stream",
          "text": [
            "\n",
            "Training...\n",
            " Epoch 001\n"
          ]
        },
        {
          "metadata": {
            "tags": null
          },
          "name": "stderr",
          "output_type": "stream",
          "text": [
            "100%|██████████| 562/562 [01:24<00:00,  6.67it/s]\n"
          ]
        },
        {
          "metadata": {
            "tags": null
          },
          "name": "stdout",
          "output_type": "stream",
          "text": [
            "[E:  1] train loss = 0.4616\n"
          ]
        },
        {
          "metadata": {
            "tags": null
          },
          "name": "stderr",
          "output_type": "stream",
          "text": [
            "100%|██████████| 93/93 [00:05<00:00, 18.58it/s]\n"
          ]
        },
        {
          "metadata": {
            "tags": null
          },
          "name": "stdout",
          "output_type": "stream",
          "text": [
            "              precision    recall  f1-score   support\n",
            "\n",
            "           0     0.6286    0.9018    0.7408       336\n",
            "           1     0.8716    0.5558    0.6788       403\n",
            "\n",
            "    accuracy                         0.7131       739\n",
            "   macro avg     0.7501    0.7288    0.7098       739\n",
            "weighted avg     0.7611    0.7131    0.7070       739\n",
            "\n",
            "\t[E:  1] valid loss = 0.9194, f1-score = 0.7098, patience:  5\n",
            " Epoch 002\n"
          ]
        },
        {
          "metadata": {
            "tags": null
          },
          "name": "stderr",
          "output_type": "stream",
          "text": [
            "100%|██████████| 562/562 [01:24<00:00,  6.68it/s]\n"
          ]
        },
        {
          "metadata": {
            "tags": null
          },
          "name": "stdout",
          "output_type": "stream",
          "text": [
            "[E:  2] train loss = 0.2396\n"
          ]
        },
        {
          "metadata": {
            "tags": null
          },
          "name": "stderr",
          "output_type": "stream",
          "text": [
            "100%|██████████| 93/93 [00:05<00:00, 18.45it/s]\n"
          ]
        },
        {
          "metadata": {
            "tags": null
          },
          "name": "stdout",
          "output_type": "stream",
          "text": [
            "              precision    recall  f1-score   support\n",
            "\n",
            "           0     0.5807    0.9315    0.7154       336\n",
            "           1     0.8850    0.4392    0.5871       403\n",
            "\n",
            "    accuracy                         0.6631       739\n",
            "   macro avg     0.7329    0.6854    0.6512       739\n",
            "weighted avg     0.7466    0.6631    0.6454       739\n",
            "\n",
            "\t[E:  2] valid loss = 1.0987, f1-score = 0.6512, patience:  4\n",
            " Epoch 003\n"
          ]
        },
        {
          "metadata": {
            "tags": null
          },
          "name": "stderr",
          "output_type": "stream",
          "text": [
            "100%|██████████| 562/562 [01:24<00:00,  6.67it/s]\n"
          ]
        },
        {
          "metadata": {
            "tags": null
          },
          "name": "stdout",
          "output_type": "stream",
          "text": [
            "[E:  3] train loss = 0.2111\n"
          ]
        },
        {
          "metadata": {
            "tags": null
          },
          "name": "stderr",
          "output_type": "stream",
          "text": [
            "100%|██████████| 93/93 [00:04<00:00, 18.83it/s]\n"
          ]
        },
        {
          "metadata": {
            "tags": null
          },
          "name": "stdout",
          "output_type": "stream",
          "text": [
            "              precision    recall  f1-score   support\n",
            "\n",
            "           0     0.6464    0.8542    0.7359       336\n",
            "           1     0.8339    0.6104    0.7049       403\n",
            "\n",
            "    accuracy                         0.7212       739\n",
            "   macro avg     0.7401    0.7323    0.7204       739\n",
            "weighted avg     0.7486    0.7212    0.7190       739\n",
            "\n",
            "\t[E:  3] valid loss = 0.8874, f1-score = 0.7204, patience:  5\n",
            " Epoch 004\n"
          ]
        },
        {
          "metadata": {
            "tags": null
          },
          "name": "stderr",
          "output_type": "stream",
          "text": [
            "100%|██████████| 562/562 [01:25<00:00,  6.61it/s]\n"
          ]
        },
        {
          "metadata": {
            "tags": null
          },
          "name": "stdout",
          "output_type": "stream",
          "text": [
            "[E:  4] train loss = 0.1910\n"
          ]
        },
        {
          "metadata": {
            "tags": null
          },
          "name": "stderr",
          "output_type": "stream",
          "text": [
            "100%|██████████| 93/93 [00:05<00:00, 18.36it/s]\n"
          ]
        },
        {
          "metadata": {
            "tags": null
          },
          "name": "stdout",
          "output_type": "stream",
          "text": [
            "              precision    recall  f1-score   support\n",
            "\n",
            "           0     0.6473    0.9286    0.7628       336\n",
            "           1     0.9066    0.5782    0.7061       403\n",
            "\n",
            "    accuracy                         0.7375       739\n",
            "   macro avg     0.7770    0.7534    0.7344       739\n",
            "weighted avg     0.7887    0.7375    0.7319       739\n",
            "\n",
            "\t[E:  4] valid loss = 0.8928, f1-score = 0.7344, patience:  5\n",
            " Epoch 005\n"
          ]
        },
        {
          "metadata": {
            "tags": null
          },
          "name": "stderr",
          "output_type": "stream",
          "text": [
            "100%|██████████| 562/562 [01:24<00:00,  6.62it/s]\n"
          ]
        },
        {
          "metadata": {
            "tags": null
          },
          "name": "stdout",
          "output_type": "stream",
          "text": [
            "[E:  5] train loss = 0.1800\n"
          ]
        },
        {
          "metadata": {
            "tags": null
          },
          "name": "stderr",
          "output_type": "stream",
          "text": [
            "100%|██████████| 93/93 [00:05<00:00, 18.19it/s]\n"
          ]
        },
        {
          "metadata": {
            "tags": null
          },
          "name": "stdout",
          "output_type": "stream",
          "text": [
            "              precision    recall  f1-score   support\n",
            "\n",
            "           0     0.6377    0.8958    0.7450       336\n",
            "           1     0.8689    0.5757    0.6925       403\n",
            "\n",
            "    accuracy                         0.7212       739\n",
            "   macro avg     0.7533    0.7358    0.7188       739\n",
            "weighted avg     0.7638    0.7212    0.7164       739\n",
            "\n",
            "\t[E:  5] valid loss = 0.9406, f1-score = 0.7188, patience:  4\n",
            " Epoch 006\n"
          ]
        },
        {
          "metadata": {
            "tags": null
          },
          "name": "stderr",
          "output_type": "stream",
          "text": [
            "100%|██████████| 562/562 [01:25<00:00,  6.57it/s]\n"
          ]
        },
        {
          "metadata": {
            "tags": null
          },
          "name": "stdout",
          "output_type": "stream",
          "text": [
            "[E:  6] train loss = 0.1760\n"
          ]
        },
        {
          "metadata": {
            "tags": null
          },
          "name": "stderr",
          "output_type": "stream",
          "text": [
            "100%|██████████| 93/93 [00:05<00:00, 18.48it/s]\n"
          ]
        },
        {
          "metadata": {
            "tags": null
          },
          "name": "stdout",
          "output_type": "stream",
          "text": [
            "              precision    recall  f1-score   support\n",
            "\n",
            "           0     0.6343    0.8155    0.7135       336\n",
            "           1     0.7980    0.6079    0.6901       403\n",
            "\n",
            "    accuracy                         0.7023       739\n",
            "   macro avg     0.7162    0.7117    0.7018       739\n",
            "weighted avg     0.7236    0.7023    0.7008       739\n",
            "\n",
            "\t[E:  6] valid loss = 0.9659, f1-score = 0.7018, patience:  3\n",
            " Epoch 007\n"
          ]
        },
        {
          "metadata": {
            "tags": null
          },
          "name": "stderr",
          "output_type": "stream",
          "text": [
            "100%|██████████| 562/562 [01:25<00:00,  6.59it/s]\n"
          ]
        },
        {
          "metadata": {
            "tags": null
          },
          "name": "stdout",
          "output_type": "stream",
          "text": [
            "[E:  7] train loss = 0.1736\n"
          ]
        },
        {
          "metadata": {
            "tags": null
          },
          "name": "stderr",
          "output_type": "stream",
          "text": [
            "100%|██████████| 93/93 [00:04<00:00, 18.79it/s]\n"
          ]
        },
        {
          "metadata": {
            "tags": null
          },
          "name": "stdout",
          "output_type": "stream",
          "text": [
            "              precision    recall  f1-score   support\n",
            "\n",
            "           0     0.6460    0.7768    0.7054       336\n",
            "           1     0.7761    0.6452    0.7046       403\n",
            "\n",
            "    accuracy                         0.7050       739\n",
            "   macro avg     0.7111    0.7110    0.7050       739\n",
            "weighted avg     0.7170    0.7050    0.7050       739\n",
            "\n",
            "\t[E:  7] valid loss = 0.9558, f1-score = 0.7050, patience:  2\n",
            " Epoch 008\n"
          ]
        },
        {
          "metadata": {
            "tags": null
          },
          "name": "stderr",
          "output_type": "stream",
          "text": [
            "100%|██████████| 562/562 [01:25<00:00,  6.61it/s]\n"
          ]
        },
        {
          "metadata": {
            "tags": null
          },
          "name": "stdout",
          "output_type": "stream",
          "text": [
            "[E:  8] train loss = 0.1626\n"
          ]
        },
        {
          "metadata": {
            "tags": null
          },
          "name": "stderr",
          "output_type": "stream",
          "text": [
            "100%|██████████| 93/93 [00:05<00:00, 18.50it/s]\n"
          ]
        },
        {
          "metadata": {
            "tags": null
          },
          "name": "stdout",
          "output_type": "stream",
          "text": [
            "              precision    recall  f1-score   support\n",
            "\n",
            "           0     0.6333    0.8482    0.7252       336\n",
            "           1     0.8235    0.5906    0.6879       403\n",
            "\n",
            "    accuracy                         0.7077       739\n",
            "   macro avg     0.7284    0.7194    0.7065       739\n",
            "weighted avg     0.7371    0.7077    0.7048       739\n",
            "\n",
            "\t[E:  8] valid loss = 0.9754, f1-score = 0.7065, patience:  1\n",
            " Epoch 009\n"
          ]
        },
        {
          "metadata": {
            "tags": null
          },
          "name": "stderr",
          "output_type": "stream",
          "text": [
            "100%|██████████| 562/562 [01:24<00:00,  6.62it/s]\n"
          ]
        },
        {
          "metadata": {
            "tags": null
          },
          "name": "stdout",
          "output_type": "stream",
          "text": [
            "[E:  9] train loss = 0.1669\n"
          ]
        },
        {
          "metadata": {
            "tags": null
          },
          "name": "stderr",
          "output_type": "stream",
          "text": [
            "100%|██████████| 93/93 [00:05<00:00, 18.39it/s]\n"
          ]
        },
        {
          "metadata": {
            "tags": null
          },
          "name": "stdout",
          "output_type": "stream",
          "text": [
            "              precision    recall  f1-score   support\n",
            "\n",
            "           0     0.6534    0.9256    0.7660       336\n",
            "           1     0.9049    0.5906    0.7147       403\n",
            "\n",
            "    accuracy                         0.7429       739\n",
            "   macro avg     0.7792    0.7581    0.7404       739\n",
            "weighted avg     0.7906    0.7429    0.7380       739\n",
            "\n",
            "\t[E:  9] valid loss = 0.8903, f1-score = 0.7404, patience:  5\n",
            " Epoch 010\n"
          ]
        },
        {
          "metadata": {
            "tags": null
          },
          "name": "stderr",
          "output_type": "stream",
          "text": [
            "100%|██████████| 562/562 [01:25<00:00,  6.57it/s]\n"
          ]
        },
        {
          "metadata": {
            "tags": null
          },
          "name": "stdout",
          "output_type": "stream",
          "text": [
            "[E: 10] train loss = 0.1669\n"
          ]
        },
        {
          "metadata": {
            "tags": null
          },
          "name": "stderr",
          "output_type": "stream",
          "text": [
            "100%|██████████| 93/93 [00:05<00:00, 18.11it/s]\n"
          ]
        },
        {
          "metadata": {
            "tags": null
          },
          "name": "stdout",
          "output_type": "stream",
          "text": [
            "              precision    recall  f1-score   support\n",
            "\n",
            "           0     0.6484    0.8780    0.7459       336\n",
            "           1     0.8556    0.6030    0.7074       403\n",
            "\n",
            "    accuracy                         0.7280       739\n",
            "   macro avg     0.7520    0.7405    0.7267       739\n",
            "weighted avg     0.7614    0.7280    0.7249       739\n",
            "\n",
            "\t[E: 10] valid loss = 0.9322, f1-score = 0.7267, patience:  4\n",
            " Epoch 011\n"
          ]
        },
        {
          "output_type": "stream",
          "name": "stderr",
          "text": [
            "100%|██████████| 562/562 [01:25<00:00,  6.59it/s]\n"
          ]
        },
        {
          "output_type": "stream",
          "name": "stdout",
          "text": [
            "[E: 11] train loss = 0.1541\n"
          ]
        },
        {
          "output_type": "stream",
          "name": "stderr",
          "text": [
            "100%|██████████| 93/93 [00:05<00:00, 18.43it/s]\n"
          ]
        },
        {
          "output_type": "stream",
          "name": "stdout",
          "text": [
            "              precision    recall  f1-score   support\n",
            "\n",
            "           0     0.6436    0.8869    0.7459       336\n",
            "           1     0.8623    0.5906    0.7010       403\n",
            "\n",
            "    accuracy                         0.7253       739\n",
            "   macro avg     0.7530    0.7387    0.7235       739\n",
            "weighted avg     0.7629    0.7253    0.7214       739\n",
            "\n",
            "\t[E: 11] valid loss = 0.9439, f1-score = 0.7235, patience:  3\n",
            " Epoch 012\n"
          ]
        },
        {
          "output_type": "stream",
          "name": "stderr",
          "text": [
            "100%|██████████| 562/562 [01:25<00:00,  6.59it/s]\n"
          ]
        },
        {
          "output_type": "stream",
          "name": "stdout",
          "text": [
            "[E: 12] train loss = 0.1584\n"
          ]
        },
        {
          "output_type": "stream",
          "name": "stderr",
          "text": [
            "100%|██████████| 93/93 [00:05<00:00, 18.16it/s]\n"
          ]
        },
        {
          "output_type": "stream",
          "name": "stdout",
          "text": [
            "              precision    recall  f1-score   support\n",
            "\n",
            "           0     0.6432    0.8690    0.7392       336\n",
            "           1     0.8456    0.5980    0.7006       403\n",
            "\n",
            "    accuracy                         0.7212       739\n",
            "   macro avg     0.7444    0.7335    0.7199       739\n",
            "weighted avg     0.7536    0.7212    0.7182       739\n",
            "\n",
            "\t[E: 12] valid loss = 0.9532, f1-score = 0.7199, patience:  2\n",
            " Epoch 013\n"
          ]
        },
        {
          "output_type": "stream",
          "name": "stderr",
          "text": [
            "100%|██████████| 562/562 [01:24<00:00,  6.62it/s]\n"
          ]
        },
        {
          "output_type": "stream",
          "name": "stdout",
          "text": [
            "[E: 13] train loss = 0.1523\n"
          ]
        },
        {
          "output_type": "stream",
          "name": "stderr",
          "text": [
            "100%|██████████| 93/93 [00:05<00:00, 18.09it/s]\n"
          ]
        },
        {
          "output_type": "stream",
          "name": "stdout",
          "text": [
            "              precision    recall  f1-score   support\n",
            "\n",
            "           0     0.6427    0.7976    0.7118       336\n",
            "           1     0.7888    0.6303    0.7007       403\n",
            "\n",
            "    accuracy                         0.7064       739\n",
            "   macro avg     0.7158    0.7139    0.7063       739\n",
            "weighted avg     0.7224    0.7064    0.7057       739\n",
            "\n",
            "\t[E: 13] valid loss = 0.9883, f1-score = 0.7063, patience:  1\n",
            " Epoch 014\n"
          ]
        },
        {
          "output_type": "stream",
          "name": "stderr",
          "text": [
            "100%|██████████| 562/562 [01:24<00:00,  6.64it/s]\n"
          ]
        },
        {
          "output_type": "stream",
          "name": "stdout",
          "text": [
            "[E: 14] train loss = 0.1604\n"
          ]
        },
        {
          "output_type": "stream",
          "name": "stderr",
          "text": [
            "100%|██████████| 93/93 [00:05<00:00, 18.08it/s]\n"
          ]
        },
        {
          "output_type": "stream",
          "name": "stdout",
          "text": [
            "              precision    recall  f1-score   support\n",
            "\n",
            "           0     0.6374    0.8423    0.7256       336\n",
            "           1     0.8203    0.6005    0.6934       403\n",
            "\n",
            "    accuracy                         0.7104       739\n",
            "   macro avg     0.7289    0.7214    0.7095       739\n",
            "weighted avg     0.7372    0.7104    0.7081       739\n",
            "\n",
            "\t[E: 14] valid loss = 0.9648, f1-score = 0.7095, patience:  0\n",
            "...Done!\n"
          ]
        }
      ],
      "source": [
        "if mode == \"train\":\n",
        "    trainer.train(train_dataloader, dev_dataloader, epochs = 1000, patience = 5)"
      ]
    },
    {
      "cell_type": "markdown",
      "metadata": {
        "id": "hjmcwPBqLq3p"
      },
      "source": [
        "## Predict the test set"
      ]
    },
    {
      "cell_type": "markdown",
      "metadata": {
        "id": "lnZS3NeULq3p"
      },
      "source": [
        "Load the best model checkpoint:"
      ]
    },
    {
      "cell_type": "code",
      "execution_count": 25,
      "metadata": {
        "colab": {
          "base_uri": "https://localhost:8080/"
        },
        "id": "W27iGKuNLq3p",
        "outputId": "2df2ede1-ea22-49f2-d493-120915fb11f7"
      },
      "outputs": [
        {
          "output_type": "execute_result",
          "data": {
            "text/plain": [
              "<All keys matched successfully>"
            ]
          },
          "metadata": {},
          "execution_count": 25
        }
      ],
      "source": [
        "my_model.load_state_dict(torch.load(f\"/content/ner4id/checkpoints/{setting}.pt\"))"
      ]
    },
    {
      "cell_type": "markdown",
      "metadata": {
        "id": "mdXzd-NbLq3p"
      },
      "source": [
        "and then use the model to predict the test set:"
      ]
    },
    {
      "cell_type": "code",
      "source": [
        "import os\n",
        "folder_name = \"predictions\"\n",
        "par_dir = \"/content/ner4id\"\n",
        "path = os.path.join(par_dir, folder_name)\n",
        "os.makedirs(path)"
      ],
      "metadata": {
        "id": "c3ViZ3OUqdXj"
      },
      "execution_count": 26,
      "outputs": []
    },
    {
      "cell_type": "code",
      "execution_count": 27,
      "metadata": {
        "colab": {
          "base_uri": "https://localhost:8080/"
        },
        "id": "fjt7AH1FvXyo",
        "outputId": "5f9e2899-27d9-46f9-ff50-1714160e709a"
      },
      "outputs": [
        {
          "output_type": "stream",
          "name": "stderr",
          "text": [
            "100%|██████████| 293/293 [00:15<00:00, 19.15it/s]\n"
          ]
        }
      ],
      "source": [
        "def padding_mask(batch):\n",
        "        padding = torch.ones_like(batch)\n",
        "        padding[batch == 0] = 0\n",
        "        padding = padding.type(torch.uint8)\n",
        "        return padding\n",
        "\n",
        "def predict(model, test_dataset):\n",
        "\n",
        "    predictions = {}\n",
        "        \n",
        "    model.eval()\n",
        "                \n",
        "    for ids, e, text, expressions, contexts, labels, id, lang in tqdm(test_dataset):\n",
        "        mask1 = padding_mask(expressions)\n",
        "        mask2 = padding_mask(contexts)\n",
        "        \n",
        "        with torch.no_grad():\n",
        "            similarities = model(expressions, contexts, mask1, mask2)\n",
        "\n",
        "        labels = labels.view(-1)\n",
        "\n",
        "        for i in range(len(similarities)):\n",
        "            if similarities[i]>0:\n",
        "                predictions[ids[i]] = 1\n",
        "\n",
        "            else:\n",
        "                predictions[ids[i]] = 0\n",
        "\n",
        "\n",
        "    predictions[\"ID\"] = \"Label\"\n",
        "\n",
        "    if setting == \"zero-shot\":\n",
        "        with open(\"/content/ner4id/data/test_submission_format.csv\") as csvfile:\n",
        "            with open(\"/content/ner4id/predictions/task2_subtaska.csv\", \"w\") as out:\n",
        "                reader = csv.reader(csvfile, delimiter=',')\n",
        "                for row in reader:\n",
        "                    if row[2] == \"zero_shot\" or row[0] == \"ID\":\n",
        "                        out.write(row[0] + \",\" + row[1] + \",\" + row[2] + \",\" + str(predictions[row[0]]) + \"\\n\")\n",
        "                    else:\n",
        "                        out.write(row[0] + \",\" + row[1] + \",\" + row[2] + \",\" + \"\" + \"\\n\")\n",
        "    else:\n",
        "        with open(\"/content/ner4id/data/test_submission_format.csv\") as csvfile:\n",
        "            with open(\"/content/ner4id/predictions/task2_subtaska.csv\", \"w\") as out:\n",
        "                reader = csv.reader(csvfile, delimiter=',')\n",
        "                for row in reader:\n",
        "                    if row[2] == \"one_shot\" or row[0] == \"ID\":\n",
        "                        out.write(row[0] + \",\" + row[1] + \",\" + row[2] + \",\" + str(predictions[row[0]]) + \"\\n\")\n",
        "                    else:\n",
        "                        out.write(row[0] + \",\" + row[1] + \",\" + row[2] + \",\" + \"\" + \"\\n\")    \n",
        "\n",
        "\n",
        "predict(my_model, test_dataloader)"
      ]
    },
    {
      "cell_type": "markdown",
      "metadata": {
        "id": "cIr7Ph4YLq3r"
      },
      "source": [
        "The output file (saved in the /predictions folder) contains predictions in the standard format specified by the competition rules. You can now upload the output file on CodaLab and see the scores obtained by the system on the test set."
      ]
    },
    {
      "cell_type": "code",
      "source": [],
      "metadata": {
        "id": "uugnkpaSJREh"
      },
      "execution_count": null,
      "outputs": []
    }
  ],
  "metadata": {
    "accelerator": "GPU",
    "colab": {
      "provenance": []
    },
    "interpreter": {
      "hash": "6f64be793538f7fe230f350828c9baf03d97c4df0981f52e8388f53f367f4a42"
    },
    "kernelspec": {
      "display_name": "Python 3.8.12 ('torch')",
      "language": "python",
      "name": "python3"
    },
    "language_info": {
      "codemirror_mode": {
        "name": "ipython",
        "version": 3
      },
      "file_extension": ".py",
      "mimetype": "text/x-python",
      "name": "python",
      "nbconvert_exporter": "python",
      "pygments_lexer": "ipython3",
      "version": "3.8.12"
    },
    "widgets": {
      "application/vnd.jupyter.widget-state+json": {
        "8a48a82c9e4c4d94a0e3082100da781d": {
          "model_module": "@jupyter-widgets/controls",
          "model_name": "HBoxModel",
          "model_module_version": "1.5.0",
          "state": {
            "_dom_classes": [],
            "_model_module": "@jupyter-widgets/controls",
            "_model_module_version": "1.5.0",
            "_model_name": "HBoxModel",
            "_view_count": null,
            "_view_module": "@jupyter-widgets/controls",
            "_view_module_version": "1.5.0",
            "_view_name": "HBoxView",
            "box_style": "",
            "children": [
              "IPY_MODEL_76735ff38ee34208baa9b0d4479fadf8",
              "IPY_MODEL_c4c7d0dcfa314b8f8d197534a37eb3b5",
              "IPY_MODEL_07ddaa0fcfc64c9b82764076aa335ade"
            ],
            "layout": "IPY_MODEL_4fd16573bc5247fba604fdc34b569c77"
          }
        },
        "76735ff38ee34208baa9b0d4479fadf8": {
          "model_module": "@jupyter-widgets/controls",
          "model_name": "HTMLModel",
          "model_module_version": "1.5.0",
          "state": {
            "_dom_classes": [],
            "_model_module": "@jupyter-widgets/controls",
            "_model_module_version": "1.5.0",
            "_model_name": "HTMLModel",
            "_view_count": null,
            "_view_module": "@jupyter-widgets/controls",
            "_view_module_version": "1.5.0",
            "_view_name": "HTMLView",
            "description": "",
            "description_tooltip": null,
            "layout": "IPY_MODEL_5c074b4bd385400384f05df8a224648c",
            "placeholder": "​",
            "style": "IPY_MODEL_5972c6cfdbb14a64a89d439de736805e",
            "value": "Downloading (…)lve/main/config.json: 100%"
          }
        },
        "c4c7d0dcfa314b8f8d197534a37eb3b5": {
          "model_module": "@jupyter-widgets/controls",
          "model_name": "FloatProgressModel",
          "model_module_version": "1.5.0",
          "state": {
            "_dom_classes": [],
            "_model_module": "@jupyter-widgets/controls",
            "_model_module_version": "1.5.0",
            "_model_name": "FloatProgressModel",
            "_view_count": null,
            "_view_module": "@jupyter-widgets/controls",
            "_view_module_version": "1.5.0",
            "_view_name": "ProgressView",
            "bar_style": "success",
            "description": "",
            "description_tooltip": null,
            "layout": "IPY_MODEL_e1f519bb768b4ec2b7625e20cf42237d",
            "max": 625,
            "min": 0,
            "orientation": "horizontal",
            "style": "IPY_MODEL_06a6ac6702824663ab6f3a57d560fa60",
            "value": 625
          }
        },
        "07ddaa0fcfc64c9b82764076aa335ade": {
          "model_module": "@jupyter-widgets/controls",
          "model_name": "HTMLModel",
          "model_module_version": "1.5.0",
          "state": {
            "_dom_classes": [],
            "_model_module": "@jupyter-widgets/controls",
            "_model_module_version": "1.5.0",
            "_model_name": "HTMLModel",
            "_view_count": null,
            "_view_module": "@jupyter-widgets/controls",
            "_view_module_version": "1.5.0",
            "_view_name": "HTMLView",
            "description": "",
            "description_tooltip": null,
            "layout": "IPY_MODEL_47674fa338304fdaaca33a86c603ab5c",
            "placeholder": "​",
            "style": "IPY_MODEL_773e4d92c9ff431f98ca262cdf66ac6d",
            "value": " 625/625 [00:00&lt;00:00, 22.9kB/s]"
          }
        },
        "4fd16573bc5247fba604fdc34b569c77": {
          "model_module": "@jupyter-widgets/base",
          "model_name": "LayoutModel",
          "model_module_version": "1.2.0",
          "state": {
            "_model_module": "@jupyter-widgets/base",
            "_model_module_version": "1.2.0",
            "_model_name": "LayoutModel",
            "_view_count": null,
            "_view_module": "@jupyter-widgets/base",
            "_view_module_version": "1.2.0",
            "_view_name": "LayoutView",
            "align_content": null,
            "align_items": null,
            "align_self": null,
            "border": null,
            "bottom": null,
            "display": null,
            "flex": null,
            "flex_flow": null,
            "grid_area": null,
            "grid_auto_columns": null,
            "grid_auto_flow": null,
            "grid_auto_rows": null,
            "grid_column": null,
            "grid_gap": null,
            "grid_row": null,
            "grid_template_areas": null,
            "grid_template_columns": null,
            "grid_template_rows": null,
            "height": null,
            "justify_content": null,
            "justify_items": null,
            "left": null,
            "margin": null,
            "max_height": null,
            "max_width": null,
            "min_height": null,
            "min_width": null,
            "object_fit": null,
            "object_position": null,
            "order": null,
            "overflow": null,
            "overflow_x": null,
            "overflow_y": null,
            "padding": null,
            "right": null,
            "top": null,
            "visibility": null,
            "width": null
          }
        },
        "5c074b4bd385400384f05df8a224648c": {
          "model_module": "@jupyter-widgets/base",
          "model_name": "LayoutModel",
          "model_module_version": "1.2.0",
          "state": {
            "_model_module": "@jupyter-widgets/base",
            "_model_module_version": "1.2.0",
            "_model_name": "LayoutModel",
            "_view_count": null,
            "_view_module": "@jupyter-widgets/base",
            "_view_module_version": "1.2.0",
            "_view_name": "LayoutView",
            "align_content": null,
            "align_items": null,
            "align_self": null,
            "border": null,
            "bottom": null,
            "display": null,
            "flex": null,
            "flex_flow": null,
            "grid_area": null,
            "grid_auto_columns": null,
            "grid_auto_flow": null,
            "grid_auto_rows": null,
            "grid_column": null,
            "grid_gap": null,
            "grid_row": null,
            "grid_template_areas": null,
            "grid_template_columns": null,
            "grid_template_rows": null,
            "height": null,
            "justify_content": null,
            "justify_items": null,
            "left": null,
            "margin": null,
            "max_height": null,
            "max_width": null,
            "min_height": null,
            "min_width": null,
            "object_fit": null,
            "object_position": null,
            "order": null,
            "overflow": null,
            "overflow_x": null,
            "overflow_y": null,
            "padding": null,
            "right": null,
            "top": null,
            "visibility": null,
            "width": null
          }
        },
        "5972c6cfdbb14a64a89d439de736805e": {
          "model_module": "@jupyter-widgets/controls",
          "model_name": "DescriptionStyleModel",
          "model_module_version": "1.5.0",
          "state": {
            "_model_module": "@jupyter-widgets/controls",
            "_model_module_version": "1.5.0",
            "_model_name": "DescriptionStyleModel",
            "_view_count": null,
            "_view_module": "@jupyter-widgets/base",
            "_view_module_version": "1.2.0",
            "_view_name": "StyleView",
            "description_width": ""
          }
        },
        "e1f519bb768b4ec2b7625e20cf42237d": {
          "model_module": "@jupyter-widgets/base",
          "model_name": "LayoutModel",
          "model_module_version": "1.2.0",
          "state": {
            "_model_module": "@jupyter-widgets/base",
            "_model_module_version": "1.2.0",
            "_model_name": "LayoutModel",
            "_view_count": null,
            "_view_module": "@jupyter-widgets/base",
            "_view_module_version": "1.2.0",
            "_view_name": "LayoutView",
            "align_content": null,
            "align_items": null,
            "align_self": null,
            "border": null,
            "bottom": null,
            "display": null,
            "flex": null,
            "flex_flow": null,
            "grid_area": null,
            "grid_auto_columns": null,
            "grid_auto_flow": null,
            "grid_auto_rows": null,
            "grid_column": null,
            "grid_gap": null,
            "grid_row": null,
            "grid_template_areas": null,
            "grid_template_columns": null,
            "grid_template_rows": null,
            "height": null,
            "justify_content": null,
            "justify_items": null,
            "left": null,
            "margin": null,
            "max_height": null,
            "max_width": null,
            "min_height": null,
            "min_width": null,
            "object_fit": null,
            "object_position": null,
            "order": null,
            "overflow": null,
            "overflow_x": null,
            "overflow_y": null,
            "padding": null,
            "right": null,
            "top": null,
            "visibility": null,
            "width": null
          }
        },
        "06a6ac6702824663ab6f3a57d560fa60": {
          "model_module": "@jupyter-widgets/controls",
          "model_name": "ProgressStyleModel",
          "model_module_version": "1.5.0",
          "state": {
            "_model_module": "@jupyter-widgets/controls",
            "_model_module_version": "1.5.0",
            "_model_name": "ProgressStyleModel",
            "_view_count": null,
            "_view_module": "@jupyter-widgets/base",
            "_view_module_version": "1.2.0",
            "_view_name": "StyleView",
            "bar_color": null,
            "description_width": ""
          }
        },
        "47674fa338304fdaaca33a86c603ab5c": {
          "model_module": "@jupyter-widgets/base",
          "model_name": "LayoutModel",
          "model_module_version": "1.2.0",
          "state": {
            "_model_module": "@jupyter-widgets/base",
            "_model_module_version": "1.2.0",
            "_model_name": "LayoutModel",
            "_view_count": null,
            "_view_module": "@jupyter-widgets/base",
            "_view_module_version": "1.2.0",
            "_view_name": "LayoutView",
            "align_content": null,
            "align_items": null,
            "align_self": null,
            "border": null,
            "bottom": null,
            "display": null,
            "flex": null,
            "flex_flow": null,
            "grid_area": null,
            "grid_auto_columns": null,
            "grid_auto_flow": null,
            "grid_auto_rows": null,
            "grid_column": null,
            "grid_gap": null,
            "grid_row": null,
            "grid_template_areas": null,
            "grid_template_columns": null,
            "grid_template_rows": null,
            "height": null,
            "justify_content": null,
            "justify_items": null,
            "left": null,
            "margin": null,
            "max_height": null,
            "max_width": null,
            "min_height": null,
            "min_width": null,
            "object_fit": null,
            "object_position": null,
            "order": null,
            "overflow": null,
            "overflow_x": null,
            "overflow_y": null,
            "padding": null,
            "right": null,
            "top": null,
            "visibility": null,
            "width": null
          }
        },
        "773e4d92c9ff431f98ca262cdf66ac6d": {
          "model_module": "@jupyter-widgets/controls",
          "model_name": "DescriptionStyleModel",
          "model_module_version": "1.5.0",
          "state": {
            "_model_module": "@jupyter-widgets/controls",
            "_model_module_version": "1.5.0",
            "_model_name": "DescriptionStyleModel",
            "_view_count": null,
            "_view_module": "@jupyter-widgets/base",
            "_view_module_version": "1.2.0",
            "_view_name": "StyleView",
            "description_width": ""
          }
        },
        "1960c434fbfd40558563669770cd5580": {
          "model_module": "@jupyter-widgets/controls",
          "model_name": "HBoxModel",
          "model_module_version": "1.5.0",
          "state": {
            "_dom_classes": [],
            "_model_module": "@jupyter-widgets/controls",
            "_model_module_version": "1.5.0",
            "_model_name": "HBoxModel",
            "_view_count": null,
            "_view_module": "@jupyter-widgets/controls",
            "_view_module_version": "1.5.0",
            "_view_name": "HBoxView",
            "box_style": "",
            "children": [
              "IPY_MODEL_417fed51601f4e3dbdd3b95cbd24a7da",
              "IPY_MODEL_445e887bdb674744a8ad43444d7516e7",
              "IPY_MODEL_227609ac07b843a69959ee63a2cc0489"
            ],
            "layout": "IPY_MODEL_9991903d87d5489bba0d361f3d33200d"
          }
        },
        "417fed51601f4e3dbdd3b95cbd24a7da": {
          "model_module": "@jupyter-widgets/controls",
          "model_name": "HTMLModel",
          "model_module_version": "1.5.0",
          "state": {
            "_dom_classes": [],
            "_model_module": "@jupyter-widgets/controls",
            "_model_module_version": "1.5.0",
            "_model_name": "HTMLModel",
            "_view_count": null,
            "_view_module": "@jupyter-widgets/controls",
            "_view_module_version": "1.5.0",
            "_view_name": "HTMLView",
            "description": "",
            "description_tooltip": null,
            "layout": "IPY_MODEL_367e767a022541e7b50b309a7d98d042",
            "placeholder": "​",
            "style": "IPY_MODEL_46b02323153840cd80cb76dfab92a3a5",
            "value": "Downloading (…)solve/main/vocab.txt: 100%"
          }
        },
        "445e887bdb674744a8ad43444d7516e7": {
          "model_module": "@jupyter-widgets/controls",
          "model_name": "FloatProgressModel",
          "model_module_version": "1.5.0",
          "state": {
            "_dom_classes": [],
            "_model_module": "@jupyter-widgets/controls",
            "_model_module_version": "1.5.0",
            "_model_name": "FloatProgressModel",
            "_view_count": null,
            "_view_module": "@jupyter-widgets/controls",
            "_view_module_version": "1.5.0",
            "_view_name": "ProgressView",
            "bar_style": "success",
            "description": "",
            "description_tooltip": null,
            "layout": "IPY_MODEL_13a20c889f9b41159c80b1f8c5b1f1ae",
            "max": 995526,
            "min": 0,
            "orientation": "horizontal",
            "style": "IPY_MODEL_97c6c54ce3024a2692fb52cdfa768096",
            "value": 995526
          }
        },
        "227609ac07b843a69959ee63a2cc0489": {
          "model_module": "@jupyter-widgets/controls",
          "model_name": "HTMLModel",
          "model_module_version": "1.5.0",
          "state": {
            "_dom_classes": [],
            "_model_module": "@jupyter-widgets/controls",
            "_model_module_version": "1.5.0",
            "_model_name": "HTMLModel",
            "_view_count": null,
            "_view_module": "@jupyter-widgets/controls",
            "_view_module_version": "1.5.0",
            "_view_name": "HTMLView",
            "description": "",
            "description_tooltip": null,
            "layout": "IPY_MODEL_5b4fa922c9ce488097bcf5b8242ae508",
            "placeholder": "​",
            "style": "IPY_MODEL_ede23c7597cf40d6bfcafcd8c63da94c",
            "value": " 996k/996k [00:00&lt;00:00, 4.72MB/s]"
          }
        },
        "9991903d87d5489bba0d361f3d33200d": {
          "model_module": "@jupyter-widgets/base",
          "model_name": "LayoutModel",
          "model_module_version": "1.2.0",
          "state": {
            "_model_module": "@jupyter-widgets/base",
            "_model_module_version": "1.2.0",
            "_model_name": "LayoutModel",
            "_view_count": null,
            "_view_module": "@jupyter-widgets/base",
            "_view_module_version": "1.2.0",
            "_view_name": "LayoutView",
            "align_content": null,
            "align_items": null,
            "align_self": null,
            "border": null,
            "bottom": null,
            "display": null,
            "flex": null,
            "flex_flow": null,
            "grid_area": null,
            "grid_auto_columns": null,
            "grid_auto_flow": null,
            "grid_auto_rows": null,
            "grid_column": null,
            "grid_gap": null,
            "grid_row": null,
            "grid_template_areas": null,
            "grid_template_columns": null,
            "grid_template_rows": null,
            "height": null,
            "justify_content": null,
            "justify_items": null,
            "left": null,
            "margin": null,
            "max_height": null,
            "max_width": null,
            "min_height": null,
            "min_width": null,
            "object_fit": null,
            "object_position": null,
            "order": null,
            "overflow": null,
            "overflow_x": null,
            "overflow_y": null,
            "padding": null,
            "right": null,
            "top": null,
            "visibility": null,
            "width": null
          }
        },
        "367e767a022541e7b50b309a7d98d042": {
          "model_module": "@jupyter-widgets/base",
          "model_name": "LayoutModel",
          "model_module_version": "1.2.0",
          "state": {
            "_model_module": "@jupyter-widgets/base",
            "_model_module_version": "1.2.0",
            "_model_name": "LayoutModel",
            "_view_count": null,
            "_view_module": "@jupyter-widgets/base",
            "_view_module_version": "1.2.0",
            "_view_name": "LayoutView",
            "align_content": null,
            "align_items": null,
            "align_self": null,
            "border": null,
            "bottom": null,
            "display": null,
            "flex": null,
            "flex_flow": null,
            "grid_area": null,
            "grid_auto_columns": null,
            "grid_auto_flow": null,
            "grid_auto_rows": null,
            "grid_column": null,
            "grid_gap": null,
            "grid_row": null,
            "grid_template_areas": null,
            "grid_template_columns": null,
            "grid_template_rows": null,
            "height": null,
            "justify_content": null,
            "justify_items": null,
            "left": null,
            "margin": null,
            "max_height": null,
            "max_width": null,
            "min_height": null,
            "min_width": null,
            "object_fit": null,
            "object_position": null,
            "order": null,
            "overflow": null,
            "overflow_x": null,
            "overflow_y": null,
            "padding": null,
            "right": null,
            "top": null,
            "visibility": null,
            "width": null
          }
        },
        "46b02323153840cd80cb76dfab92a3a5": {
          "model_module": "@jupyter-widgets/controls",
          "model_name": "DescriptionStyleModel",
          "model_module_version": "1.5.0",
          "state": {
            "_model_module": "@jupyter-widgets/controls",
            "_model_module_version": "1.5.0",
            "_model_name": "DescriptionStyleModel",
            "_view_count": null,
            "_view_module": "@jupyter-widgets/base",
            "_view_module_version": "1.2.0",
            "_view_name": "StyleView",
            "description_width": ""
          }
        },
        "13a20c889f9b41159c80b1f8c5b1f1ae": {
          "model_module": "@jupyter-widgets/base",
          "model_name": "LayoutModel",
          "model_module_version": "1.2.0",
          "state": {
            "_model_module": "@jupyter-widgets/base",
            "_model_module_version": "1.2.0",
            "_model_name": "LayoutModel",
            "_view_count": null,
            "_view_module": "@jupyter-widgets/base",
            "_view_module_version": "1.2.0",
            "_view_name": "LayoutView",
            "align_content": null,
            "align_items": null,
            "align_self": null,
            "border": null,
            "bottom": null,
            "display": null,
            "flex": null,
            "flex_flow": null,
            "grid_area": null,
            "grid_auto_columns": null,
            "grid_auto_flow": null,
            "grid_auto_rows": null,
            "grid_column": null,
            "grid_gap": null,
            "grid_row": null,
            "grid_template_areas": null,
            "grid_template_columns": null,
            "grid_template_rows": null,
            "height": null,
            "justify_content": null,
            "justify_items": null,
            "left": null,
            "margin": null,
            "max_height": null,
            "max_width": null,
            "min_height": null,
            "min_width": null,
            "object_fit": null,
            "object_position": null,
            "order": null,
            "overflow": null,
            "overflow_x": null,
            "overflow_y": null,
            "padding": null,
            "right": null,
            "top": null,
            "visibility": null,
            "width": null
          }
        },
        "97c6c54ce3024a2692fb52cdfa768096": {
          "model_module": "@jupyter-widgets/controls",
          "model_name": "ProgressStyleModel",
          "model_module_version": "1.5.0",
          "state": {
            "_model_module": "@jupyter-widgets/controls",
            "_model_module_version": "1.5.0",
            "_model_name": "ProgressStyleModel",
            "_view_count": null,
            "_view_module": "@jupyter-widgets/base",
            "_view_module_version": "1.2.0",
            "_view_name": "StyleView",
            "bar_color": null,
            "description_width": ""
          }
        },
        "5b4fa922c9ce488097bcf5b8242ae508": {
          "model_module": "@jupyter-widgets/base",
          "model_name": "LayoutModel",
          "model_module_version": "1.2.0",
          "state": {
            "_model_module": "@jupyter-widgets/base",
            "_model_module_version": "1.2.0",
            "_model_name": "LayoutModel",
            "_view_count": null,
            "_view_module": "@jupyter-widgets/base",
            "_view_module_version": "1.2.0",
            "_view_name": "LayoutView",
            "align_content": null,
            "align_items": null,
            "align_self": null,
            "border": null,
            "bottom": null,
            "display": null,
            "flex": null,
            "flex_flow": null,
            "grid_area": null,
            "grid_auto_columns": null,
            "grid_auto_flow": null,
            "grid_auto_rows": null,
            "grid_column": null,
            "grid_gap": null,
            "grid_row": null,
            "grid_template_areas": null,
            "grid_template_columns": null,
            "grid_template_rows": null,
            "height": null,
            "justify_content": null,
            "justify_items": null,
            "left": null,
            "margin": null,
            "max_height": null,
            "max_width": null,
            "min_height": null,
            "min_width": null,
            "object_fit": null,
            "object_position": null,
            "order": null,
            "overflow": null,
            "overflow_x": null,
            "overflow_y": null,
            "padding": null,
            "right": null,
            "top": null,
            "visibility": null,
            "width": null
          }
        },
        "ede23c7597cf40d6bfcafcd8c63da94c": {
          "model_module": "@jupyter-widgets/controls",
          "model_name": "DescriptionStyleModel",
          "model_module_version": "1.5.0",
          "state": {
            "_model_module": "@jupyter-widgets/controls",
            "_model_module_version": "1.5.0",
            "_model_name": "DescriptionStyleModel",
            "_view_count": null,
            "_view_module": "@jupyter-widgets/base",
            "_view_module_version": "1.2.0",
            "_view_name": "StyleView",
            "description_width": ""
          }
        },
        "26c0cf2775e348f2af3dac6cf33eb782": {
          "model_module": "@jupyter-widgets/controls",
          "model_name": "HBoxModel",
          "model_module_version": "1.5.0",
          "state": {
            "_dom_classes": [],
            "_model_module": "@jupyter-widgets/controls",
            "_model_module_version": "1.5.0",
            "_model_name": "HBoxModel",
            "_view_count": null,
            "_view_module": "@jupyter-widgets/controls",
            "_view_module_version": "1.5.0",
            "_view_name": "HBoxView",
            "box_style": "",
            "children": [
              "IPY_MODEL_553af4daedab41b784d71630f02726cd",
              "IPY_MODEL_1aab3acee02446a7b13f1d832cfb23ee",
              "IPY_MODEL_429e81852d2346c5846b9eba3e28e5f0"
            ],
            "layout": "IPY_MODEL_6b3e1251568740bb84ef34bd1ca7fe28"
          }
        },
        "553af4daedab41b784d71630f02726cd": {
          "model_module": "@jupyter-widgets/controls",
          "model_name": "HTMLModel",
          "model_module_version": "1.5.0",
          "state": {
            "_dom_classes": [],
            "_model_module": "@jupyter-widgets/controls",
            "_model_module_version": "1.5.0",
            "_model_name": "HTMLModel",
            "_view_count": null,
            "_view_module": "@jupyter-widgets/controls",
            "_view_module_version": "1.5.0",
            "_view_name": "HTMLView",
            "description": "",
            "description_tooltip": null,
            "layout": "IPY_MODEL_cc323b96f403484cb00589456b632d8c",
            "placeholder": "​",
            "style": "IPY_MODEL_52c9ef1e80fc4e6681756f0f12725a7b",
            "value": "Downloading (…)okenizer_config.json: 100%"
          }
        },
        "1aab3acee02446a7b13f1d832cfb23ee": {
          "model_module": "@jupyter-widgets/controls",
          "model_name": "FloatProgressModel",
          "model_module_version": "1.5.0",
          "state": {
            "_dom_classes": [],
            "_model_module": "@jupyter-widgets/controls",
            "_model_module_version": "1.5.0",
            "_model_name": "FloatProgressModel",
            "_view_count": null,
            "_view_module": "@jupyter-widgets/controls",
            "_view_module_version": "1.5.0",
            "_view_name": "ProgressView",
            "bar_style": "success",
            "description": "",
            "description_tooltip": null,
            "layout": "IPY_MODEL_2347215802714e57b1c292525078317f",
            "max": 29,
            "min": 0,
            "orientation": "horizontal",
            "style": "IPY_MODEL_c6ac56530fd9450484e7b85e106880fe",
            "value": 29
          }
        },
        "429e81852d2346c5846b9eba3e28e5f0": {
          "model_module": "@jupyter-widgets/controls",
          "model_name": "HTMLModel",
          "model_module_version": "1.5.0",
          "state": {
            "_dom_classes": [],
            "_model_module": "@jupyter-widgets/controls",
            "_model_module_version": "1.5.0",
            "_model_name": "HTMLModel",
            "_view_count": null,
            "_view_module": "@jupyter-widgets/controls",
            "_view_module_version": "1.5.0",
            "_view_name": "HTMLView",
            "description": "",
            "description_tooltip": null,
            "layout": "IPY_MODEL_66d5722ca2304149822f45e7865bc5af",
            "placeholder": "​",
            "style": "IPY_MODEL_caca1ae3d5484b329d4f90aef3dacec9",
            "value": " 29.0/29.0 [00:00&lt;00:00, 1.61kB/s]"
          }
        },
        "6b3e1251568740bb84ef34bd1ca7fe28": {
          "model_module": "@jupyter-widgets/base",
          "model_name": "LayoutModel",
          "model_module_version": "1.2.0",
          "state": {
            "_model_module": "@jupyter-widgets/base",
            "_model_module_version": "1.2.0",
            "_model_name": "LayoutModel",
            "_view_count": null,
            "_view_module": "@jupyter-widgets/base",
            "_view_module_version": "1.2.0",
            "_view_name": "LayoutView",
            "align_content": null,
            "align_items": null,
            "align_self": null,
            "border": null,
            "bottom": null,
            "display": null,
            "flex": null,
            "flex_flow": null,
            "grid_area": null,
            "grid_auto_columns": null,
            "grid_auto_flow": null,
            "grid_auto_rows": null,
            "grid_column": null,
            "grid_gap": null,
            "grid_row": null,
            "grid_template_areas": null,
            "grid_template_columns": null,
            "grid_template_rows": null,
            "height": null,
            "justify_content": null,
            "justify_items": null,
            "left": null,
            "margin": null,
            "max_height": null,
            "max_width": null,
            "min_height": null,
            "min_width": null,
            "object_fit": null,
            "object_position": null,
            "order": null,
            "overflow": null,
            "overflow_x": null,
            "overflow_y": null,
            "padding": null,
            "right": null,
            "top": null,
            "visibility": null,
            "width": null
          }
        },
        "cc323b96f403484cb00589456b632d8c": {
          "model_module": "@jupyter-widgets/base",
          "model_name": "LayoutModel",
          "model_module_version": "1.2.0",
          "state": {
            "_model_module": "@jupyter-widgets/base",
            "_model_module_version": "1.2.0",
            "_model_name": "LayoutModel",
            "_view_count": null,
            "_view_module": "@jupyter-widgets/base",
            "_view_module_version": "1.2.0",
            "_view_name": "LayoutView",
            "align_content": null,
            "align_items": null,
            "align_self": null,
            "border": null,
            "bottom": null,
            "display": null,
            "flex": null,
            "flex_flow": null,
            "grid_area": null,
            "grid_auto_columns": null,
            "grid_auto_flow": null,
            "grid_auto_rows": null,
            "grid_column": null,
            "grid_gap": null,
            "grid_row": null,
            "grid_template_areas": null,
            "grid_template_columns": null,
            "grid_template_rows": null,
            "height": null,
            "justify_content": null,
            "justify_items": null,
            "left": null,
            "margin": null,
            "max_height": null,
            "max_width": null,
            "min_height": null,
            "min_width": null,
            "object_fit": null,
            "object_position": null,
            "order": null,
            "overflow": null,
            "overflow_x": null,
            "overflow_y": null,
            "padding": null,
            "right": null,
            "top": null,
            "visibility": null,
            "width": null
          }
        },
        "52c9ef1e80fc4e6681756f0f12725a7b": {
          "model_module": "@jupyter-widgets/controls",
          "model_name": "DescriptionStyleModel",
          "model_module_version": "1.5.0",
          "state": {
            "_model_module": "@jupyter-widgets/controls",
            "_model_module_version": "1.5.0",
            "_model_name": "DescriptionStyleModel",
            "_view_count": null,
            "_view_module": "@jupyter-widgets/base",
            "_view_module_version": "1.2.0",
            "_view_name": "StyleView",
            "description_width": ""
          }
        },
        "2347215802714e57b1c292525078317f": {
          "model_module": "@jupyter-widgets/base",
          "model_name": "LayoutModel",
          "model_module_version": "1.2.0",
          "state": {
            "_model_module": "@jupyter-widgets/base",
            "_model_module_version": "1.2.0",
            "_model_name": "LayoutModel",
            "_view_count": null,
            "_view_module": "@jupyter-widgets/base",
            "_view_module_version": "1.2.0",
            "_view_name": "LayoutView",
            "align_content": null,
            "align_items": null,
            "align_self": null,
            "border": null,
            "bottom": null,
            "display": null,
            "flex": null,
            "flex_flow": null,
            "grid_area": null,
            "grid_auto_columns": null,
            "grid_auto_flow": null,
            "grid_auto_rows": null,
            "grid_column": null,
            "grid_gap": null,
            "grid_row": null,
            "grid_template_areas": null,
            "grid_template_columns": null,
            "grid_template_rows": null,
            "height": null,
            "justify_content": null,
            "justify_items": null,
            "left": null,
            "margin": null,
            "max_height": null,
            "max_width": null,
            "min_height": null,
            "min_width": null,
            "object_fit": null,
            "object_position": null,
            "order": null,
            "overflow": null,
            "overflow_x": null,
            "overflow_y": null,
            "padding": null,
            "right": null,
            "top": null,
            "visibility": null,
            "width": null
          }
        },
        "c6ac56530fd9450484e7b85e106880fe": {
          "model_module": "@jupyter-widgets/controls",
          "model_name": "ProgressStyleModel",
          "model_module_version": "1.5.0",
          "state": {
            "_model_module": "@jupyter-widgets/controls",
            "_model_module_version": "1.5.0",
            "_model_name": "ProgressStyleModel",
            "_view_count": null,
            "_view_module": "@jupyter-widgets/base",
            "_view_module_version": "1.2.0",
            "_view_name": "StyleView",
            "bar_color": null,
            "description_width": ""
          }
        },
        "66d5722ca2304149822f45e7865bc5af": {
          "model_module": "@jupyter-widgets/base",
          "model_name": "LayoutModel",
          "model_module_version": "1.2.0",
          "state": {
            "_model_module": "@jupyter-widgets/base",
            "_model_module_version": "1.2.0",
            "_model_name": "LayoutModel",
            "_view_count": null,
            "_view_module": "@jupyter-widgets/base",
            "_view_module_version": "1.2.0",
            "_view_name": "LayoutView",
            "align_content": null,
            "align_items": null,
            "align_self": null,
            "border": null,
            "bottom": null,
            "display": null,
            "flex": null,
            "flex_flow": null,
            "grid_area": null,
            "grid_auto_columns": null,
            "grid_auto_flow": null,
            "grid_auto_rows": null,
            "grid_column": null,
            "grid_gap": null,
            "grid_row": null,
            "grid_template_areas": null,
            "grid_template_columns": null,
            "grid_template_rows": null,
            "height": null,
            "justify_content": null,
            "justify_items": null,
            "left": null,
            "margin": null,
            "max_height": null,
            "max_width": null,
            "min_height": null,
            "min_width": null,
            "object_fit": null,
            "object_position": null,
            "order": null,
            "overflow": null,
            "overflow_x": null,
            "overflow_y": null,
            "padding": null,
            "right": null,
            "top": null,
            "visibility": null,
            "width": null
          }
        },
        "caca1ae3d5484b329d4f90aef3dacec9": {
          "model_module": "@jupyter-widgets/controls",
          "model_name": "DescriptionStyleModel",
          "model_module_version": "1.5.0",
          "state": {
            "_model_module": "@jupyter-widgets/controls",
            "_model_module_version": "1.5.0",
            "_model_name": "DescriptionStyleModel",
            "_view_count": null,
            "_view_module": "@jupyter-widgets/base",
            "_view_module_version": "1.2.0",
            "_view_name": "StyleView",
            "description_width": ""
          }
        },
        "11c10d3bdb0f4e8888c42fa1f0c41b31": {
          "model_module": "@jupyter-widgets/controls",
          "model_name": "HBoxModel",
          "model_module_version": "1.5.0",
          "state": {
            "_dom_classes": [],
            "_model_module": "@jupyter-widgets/controls",
            "_model_module_version": "1.5.0",
            "_model_name": "HBoxModel",
            "_view_count": null,
            "_view_module": "@jupyter-widgets/controls",
            "_view_module_version": "1.5.0",
            "_view_name": "HBoxView",
            "box_style": "",
            "children": [
              "IPY_MODEL_3a7bf3439dfa4e05866f3d0a7de9e06b",
              "IPY_MODEL_75527b7e241148cdbd1883b24756706e",
              "IPY_MODEL_4664bc11dcee45c3be1cc1018b034cae"
            ],
            "layout": "IPY_MODEL_07eddda8248941f8957ef6db923422fe"
          }
        },
        "3a7bf3439dfa4e05866f3d0a7de9e06b": {
          "model_module": "@jupyter-widgets/controls",
          "model_name": "HTMLModel",
          "model_module_version": "1.5.0",
          "state": {
            "_dom_classes": [],
            "_model_module": "@jupyter-widgets/controls",
            "_model_module_version": "1.5.0",
            "_model_name": "HTMLModel",
            "_view_count": null,
            "_view_module": "@jupyter-widgets/controls",
            "_view_module_version": "1.5.0",
            "_view_name": "HTMLView",
            "description": "",
            "description_tooltip": null,
            "layout": "IPY_MODEL_4143b509ceed4015b5ed05eb729d6f10",
            "placeholder": "​",
            "style": "IPY_MODEL_cb8c711d60fb4debaaf825246f605e27",
            "value": "Downloading pytorch_model.bin: 100%"
          }
        },
        "75527b7e241148cdbd1883b24756706e": {
          "model_module": "@jupyter-widgets/controls",
          "model_name": "FloatProgressModel",
          "model_module_version": "1.5.0",
          "state": {
            "_dom_classes": [],
            "_model_module": "@jupyter-widgets/controls",
            "_model_module_version": "1.5.0",
            "_model_name": "FloatProgressModel",
            "_view_count": null,
            "_view_module": "@jupyter-widgets/controls",
            "_view_module_version": "1.5.0",
            "_view_name": "ProgressView",
            "bar_style": "success",
            "description": "",
            "description_tooltip": null,
            "layout": "IPY_MODEL_e33e3b78d501425e9e02604aa9741564",
            "max": 714314041,
            "min": 0,
            "orientation": "horizontal",
            "style": "IPY_MODEL_46564f158c5d4e90a929046a3106c2b3",
            "value": 714314041
          }
        },
        "4664bc11dcee45c3be1cc1018b034cae": {
          "model_module": "@jupyter-widgets/controls",
          "model_name": "HTMLModel",
          "model_module_version": "1.5.0",
          "state": {
            "_dom_classes": [],
            "_model_module": "@jupyter-widgets/controls",
            "_model_module_version": "1.5.0",
            "_model_name": "HTMLModel",
            "_view_count": null,
            "_view_module": "@jupyter-widgets/controls",
            "_view_module_version": "1.5.0",
            "_view_name": "HTMLView",
            "description": "",
            "description_tooltip": null,
            "layout": "IPY_MODEL_c2108c707eab42749b3823ea7b9b7834",
            "placeholder": "​",
            "style": "IPY_MODEL_f4897c4f782c43c0be0050192a7a5b69",
            "value": " 714M/714M [00:08&lt;00:00, 85.7MB/s]"
          }
        },
        "07eddda8248941f8957ef6db923422fe": {
          "model_module": "@jupyter-widgets/base",
          "model_name": "LayoutModel",
          "model_module_version": "1.2.0",
          "state": {
            "_model_module": "@jupyter-widgets/base",
            "_model_module_version": "1.2.0",
            "_model_name": "LayoutModel",
            "_view_count": null,
            "_view_module": "@jupyter-widgets/base",
            "_view_module_version": "1.2.0",
            "_view_name": "LayoutView",
            "align_content": null,
            "align_items": null,
            "align_self": null,
            "border": null,
            "bottom": null,
            "display": null,
            "flex": null,
            "flex_flow": null,
            "grid_area": null,
            "grid_auto_columns": null,
            "grid_auto_flow": null,
            "grid_auto_rows": null,
            "grid_column": null,
            "grid_gap": null,
            "grid_row": null,
            "grid_template_areas": null,
            "grid_template_columns": null,
            "grid_template_rows": null,
            "height": null,
            "justify_content": null,
            "justify_items": null,
            "left": null,
            "margin": null,
            "max_height": null,
            "max_width": null,
            "min_height": null,
            "min_width": null,
            "object_fit": null,
            "object_position": null,
            "order": null,
            "overflow": null,
            "overflow_x": null,
            "overflow_y": null,
            "padding": null,
            "right": null,
            "top": null,
            "visibility": null,
            "width": null
          }
        },
        "4143b509ceed4015b5ed05eb729d6f10": {
          "model_module": "@jupyter-widgets/base",
          "model_name": "LayoutModel",
          "model_module_version": "1.2.0",
          "state": {
            "_model_module": "@jupyter-widgets/base",
            "_model_module_version": "1.2.0",
            "_model_name": "LayoutModel",
            "_view_count": null,
            "_view_module": "@jupyter-widgets/base",
            "_view_module_version": "1.2.0",
            "_view_name": "LayoutView",
            "align_content": null,
            "align_items": null,
            "align_self": null,
            "border": null,
            "bottom": null,
            "display": null,
            "flex": null,
            "flex_flow": null,
            "grid_area": null,
            "grid_auto_columns": null,
            "grid_auto_flow": null,
            "grid_auto_rows": null,
            "grid_column": null,
            "grid_gap": null,
            "grid_row": null,
            "grid_template_areas": null,
            "grid_template_columns": null,
            "grid_template_rows": null,
            "height": null,
            "justify_content": null,
            "justify_items": null,
            "left": null,
            "margin": null,
            "max_height": null,
            "max_width": null,
            "min_height": null,
            "min_width": null,
            "object_fit": null,
            "object_position": null,
            "order": null,
            "overflow": null,
            "overflow_x": null,
            "overflow_y": null,
            "padding": null,
            "right": null,
            "top": null,
            "visibility": null,
            "width": null
          }
        },
        "cb8c711d60fb4debaaf825246f605e27": {
          "model_module": "@jupyter-widgets/controls",
          "model_name": "DescriptionStyleModel",
          "model_module_version": "1.5.0",
          "state": {
            "_model_module": "@jupyter-widgets/controls",
            "_model_module_version": "1.5.0",
            "_model_name": "DescriptionStyleModel",
            "_view_count": null,
            "_view_module": "@jupyter-widgets/base",
            "_view_module_version": "1.2.0",
            "_view_name": "StyleView",
            "description_width": ""
          }
        },
        "e33e3b78d501425e9e02604aa9741564": {
          "model_module": "@jupyter-widgets/base",
          "model_name": "LayoutModel",
          "model_module_version": "1.2.0",
          "state": {
            "_model_module": "@jupyter-widgets/base",
            "_model_module_version": "1.2.0",
            "_model_name": "LayoutModel",
            "_view_count": null,
            "_view_module": "@jupyter-widgets/base",
            "_view_module_version": "1.2.0",
            "_view_name": "LayoutView",
            "align_content": null,
            "align_items": null,
            "align_self": null,
            "border": null,
            "bottom": null,
            "display": null,
            "flex": null,
            "flex_flow": null,
            "grid_area": null,
            "grid_auto_columns": null,
            "grid_auto_flow": null,
            "grid_auto_rows": null,
            "grid_column": null,
            "grid_gap": null,
            "grid_row": null,
            "grid_template_areas": null,
            "grid_template_columns": null,
            "grid_template_rows": null,
            "height": null,
            "justify_content": null,
            "justify_items": null,
            "left": null,
            "margin": null,
            "max_height": null,
            "max_width": null,
            "min_height": null,
            "min_width": null,
            "object_fit": null,
            "object_position": null,
            "order": null,
            "overflow": null,
            "overflow_x": null,
            "overflow_y": null,
            "padding": null,
            "right": null,
            "top": null,
            "visibility": null,
            "width": null
          }
        },
        "46564f158c5d4e90a929046a3106c2b3": {
          "model_module": "@jupyter-widgets/controls",
          "model_name": "ProgressStyleModel",
          "model_module_version": "1.5.0",
          "state": {
            "_model_module": "@jupyter-widgets/controls",
            "_model_module_version": "1.5.0",
            "_model_name": "ProgressStyleModel",
            "_view_count": null,
            "_view_module": "@jupyter-widgets/base",
            "_view_module_version": "1.2.0",
            "_view_name": "StyleView",
            "bar_color": null,
            "description_width": ""
          }
        },
        "c2108c707eab42749b3823ea7b9b7834": {
          "model_module": "@jupyter-widgets/base",
          "model_name": "LayoutModel",
          "model_module_version": "1.2.0",
          "state": {
            "_model_module": "@jupyter-widgets/base",
            "_model_module_version": "1.2.0",
            "_model_name": "LayoutModel",
            "_view_count": null,
            "_view_module": "@jupyter-widgets/base",
            "_view_module_version": "1.2.0",
            "_view_name": "LayoutView",
            "align_content": null,
            "align_items": null,
            "align_self": null,
            "border": null,
            "bottom": null,
            "display": null,
            "flex": null,
            "flex_flow": null,
            "grid_area": null,
            "grid_auto_columns": null,
            "grid_auto_flow": null,
            "grid_auto_rows": null,
            "grid_column": null,
            "grid_gap": null,
            "grid_row": null,
            "grid_template_areas": null,
            "grid_template_columns": null,
            "grid_template_rows": null,
            "height": null,
            "justify_content": null,
            "justify_items": null,
            "left": null,
            "margin": null,
            "max_height": null,
            "max_width": null,
            "min_height": null,
            "min_width": null,
            "object_fit": null,
            "object_position": null,
            "order": null,
            "overflow": null,
            "overflow_x": null,
            "overflow_y": null,
            "padding": null,
            "right": null,
            "top": null,
            "visibility": null,
            "width": null
          }
        },
        "f4897c4f782c43c0be0050192a7a5b69": {
          "model_module": "@jupyter-widgets/controls",
          "model_name": "DescriptionStyleModel",
          "model_module_version": "1.5.0",
          "state": {
            "_model_module": "@jupyter-widgets/controls",
            "_model_module_version": "1.5.0",
            "_model_name": "DescriptionStyleModel",
            "_view_count": null,
            "_view_module": "@jupyter-widgets/base",
            "_view_module_version": "1.2.0",
            "_view_name": "StyleView",
            "description_width": ""
          }
        }
      }
    }
  },
  "nbformat": 4,
  "nbformat_minor": 0
}